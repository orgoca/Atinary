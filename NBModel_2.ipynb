{
 "cells": [
  {
   "cell_type": "markdown",
   "metadata": {
    "id": "iDo9bwz8QArK"
   },
   "source": [
    "## Project 2 Baseline\n",
    "Quora Project\n",
    "\n"
   ]
  },
  {
   "cell_type": "markdown",
   "metadata": {
    "id": "9NYPkw21y3Lz"
   },
   "source": [
    "# Load Data and Import Libraries\n",
    "\n",
    "First, we load all data and necessary libraries. We split the `train` data into `miniTrain` and `miniTest` dataframes.\n",
    "\n"
   ]
  },
  {
   "cell_type": "code",
   "execution_count": 1,
   "metadata": {
    "id": "XyjvpQvqqNOf"
   },
   "outputs": [],
   "source": [
    "#Import Libraries\n",
    "import os\n",
    "import pandas as pd\n",
    "from sklearn.feature_extraction.text import CountVectorizer, TfidfVectorizer\n",
    "import numpy as np\n",
    "import csv\n",
    "import random"
   ]
  },
  {
   "cell_type": "code",
   "execution_count": 2,
   "metadata": {
    "id": "0bnFJA_9xJOF"
   },
   "outputs": [],
   "source": [
    "# # Code to read csv file from Google Drive into Colaboratory:\n",
    "# !pip install -U -q PyDrive\n",
    "# from pydrive.auth import GoogleAuth\n",
    "# from pydrive.drive import GoogleDrive\n",
    "# from google.colab import auth\n",
    "# from oauth2client.client import GoogleCredentials\n",
    "# # Authenticate and create the PyDrive client.\n",
    "# auth.authenticate_user()\n",
    "# gauth = GoogleAuth()\n",
    "# gauth.credentials = GoogleCredentials.get_application_default()\n",
    "# drive = GoogleDrive(gauth)"
   ]
  },
  {
   "cell_type": "code",
   "execution_count": 3,
   "metadata": {
    "colab": {
     "base_uri": "https://localhost:8080/",
     "height": 419
    },
    "id": "uNRE_EXJw_Qk",
    "outputId": "aed87653-1af1-4ddb-b757-094e04f90d39"
   },
   "outputs": [],
   "source": [
    "# #Load test DF\n",
    "# testLink = 'https://drive.google.com/file/d/1chKVOcXwNzGRe_hRxpGlq18NVaSRM8X9/view?usp=sharing'\n",
    "# idTest = testLink.split('/')[-2]\n",
    "# downloaded = drive.CreateFile({'id':idTest}) \n",
    "# downloaded.GetContentFile('test.csv')  \n",
    "# test = pd.read_csv('test.csv')\n",
    "# test"
   ]
  },
  {
   "cell_type": "code",
   "execution_count": 4,
   "metadata": {
    "id": "Cnl_313BvWqn"
   },
   "outputs": [],
   "source": [
    "# #Load train DF\n",
    "# trainLink = 'https://drive.google.com/file/d/1fP-AWiUGLjLkL0c_u67HOUFmHOMO7qm2/view?usp=sharing'\n",
    "# idTrain = trainLink.split('/')[-2]\n",
    "# downloaded = drive.CreateFile({'id':idTrain}) \n",
    "# downloaded.GetContentFile('train.csv')  "
   ]
  },
  {
   "cell_type": "code",
   "execution_count": 5,
   "metadata": {
    "colab": {
     "base_uri": "https://localhost:8080/",
     "height": 419
    },
    "id": "V0fZaycE0FBQ",
    "outputId": "54360eab-5eb2-41fa-86ff-751d9094096c"
   },
   "outputs": [],
   "source": [
    "# train = pd.read_csv('train.csv')\n",
    "# train"
   ]
  },
  {
   "cell_type": "code",
   "execution_count": 6,
   "metadata": {
    "colab": {
     "base_uri": "https://localhost:8080/"
    },
    "id": "j6zcj0EP2we6",
    "outputId": "1c8439b0-606b-4ddb-b142-86e631f89400"
   },
   "outputs": [],
   "source": [
    "# #Split Training Data into MiniTrain and MiniTest (Test data has no labels so impossible to measure error from it)\n",
    "# # random.seed(10)\n",
    "# # miniTrain, miniDev, miniTest = train_test_split(train, test_size=0.2)\n",
    "\n",
    "# miniTrain, miniDev, miniTest = \\\n",
    "#               np.split(train.sample(frac=1, random_state=42), \n",
    "#                        [int(.8*len(train)), int(.9*len(train))])\n",
    "\n",
    "# miniTrain.to_csv('miniTrain.csv', index=False)\n",
    "\n",
    "# miniTest.to_csv('miniTest.csv', index=False)\n",
    "\n",
    "# miniDev.to_csv('miniDev.csv', index = False)\n",
    "\n",
    "# print(\"miniTrain: \",len(miniTrain), \"observations, \", round(len(miniTrain)/len(train)*100,0), \"%;\\n\" ,\n",
    "#       \"miniDev: \",len(miniDev), \"observations, \", round(len(miniDev)/len(train)*100,0), \"%;\\n\" ,\n",
    "#       \"miniTest: \",len(miniTest), \"observations, \", round(len(miniTest)/len(train)*100,0), \"%;\" )"
   ]
  },
  {
   "cell_type": "code",
   "execution_count": 7,
   "metadata": {
    "id": "DhK65MJrcaeF"
   },
   "outputs": [],
   "source": [
    "#Even with a seed the randomization is messing up predictions since miniTest will not find the same questions further down, \n",
    "#so rather load a static version from a csv instead.\n",
    "\n",
    "columns = [\n",
    "    \"id\",\n",
    "    \"label\",\n",
    "    \"alpha\",\n",
    "    \"text\"\n",
    "]\n",
    "\n",
    "miniTrain = pd.read_csv('/Users/julian.hicks/Documents/mids/w207ml/W207FinalProject/datasets/train.tsv', names=columns, sep=\"\\t\")\n",
    "\n",
    "miniTest = pd.read_csv('/Users/julian.hicks/Documents/mids/w207ml/W207FinalProject/datasets/test.tsv', names=columns, sep=\"\\t\")\n",
    "\n",
    "miniDev = pd.read_csv('/Users/julian.hicks/Documents/mids/w207ml/W207FinalProject/datasets/dev.tsv', names=columns, sep=\"\\t\")"
   ]
  },
  {
   "cell_type": "markdown",
   "metadata": {
    "id": "1lE3v5zkezaY"
   },
   "source": [
    "## `txtprp` Module "
   ]
  },
  {
   "cell_type": "code",
   "execution_count": 8,
   "metadata": {
    "colab": {
     "base_uri": "https://localhost:8080/"
    },
    "id": "mvbihFqLexFe",
    "outputId": "96964779-fd0c-4371-bb4b-db52b1f3faeb"
   },
   "outputs": [],
   "source": [
    "from nltk.stem.porter import PorterStemmer\n",
    "import numpy as np\n",
    "import pandas as pd\n",
    "import nltk as nltk\n",
    "import re\n",
    "import gensim \n",
    "from sklearn.feature_extraction.text import CountVectorizer, TfidfVectorizer\n",
    "from imblearn.over_sampling import SMOTE, RandomOverSampler\n",
    "\n",
    "class TextObject(pd.DataFrame):\n",
    "    \"\"\"\n",
    "    A collection of strings for processing. Is a DataFrame with specific \n",
    "    columns. \n",
    "    \"\"\"\n",
    "\n",
    "    def __init__(self):\n",
    "        super().__init__(columns=[\n",
    "            \"original_text\",\n",
    "            \"text\",\n",
    "            \"label\"\n",
    "        ]\n",
    "        )\n",
    "        self._attrs[\"applied_transformations\"] = []\n",
    "        nltk.download(\"stopwords\")\n",
    "        nltk.download(\"punkt\")\n",
    "\n",
    "    def add_text(self, text_collection, labels=None):\n",
    "        \"\"\"\n",
    "        Adds a collection of text to to the TextObject. Accepts an iterable or \n",
    "        array-like of all text strings. Optionally, accepts labels of the same \n",
    "        length. Modifies self to be a pandas DataFrame with column \"text\" and \n",
    "        potentially \"labels\".\n",
    "        \"\"\"\n",
    "        self[\"original_text\"] = text_collection\n",
    "        self[\"text\"] = self.original_text\n",
    "        self._attrs[\"applied_transformations\"] = []\n",
    "        if type(labels) == type(None):\n",
    "            return\n",
    "        if len(labels) == len(self):\n",
    "            self[\"label\"] = labels\n",
    "\n",
    "    # Text Processing Methods:\n",
    "\n",
    "    def text_processing(self, function):\n",
    "        \"\"\"\n",
    "        Applies a generic text processing function to the self.text field.\n",
    "        \"\"\"\n",
    "        self.text = self.text.apply(function)\n",
    "        self._attrs[\"applied_transformations\"].append(function.__name__)\n",
    "\n",
    "    def lower(self):\n",
    "        self.text = self.text.str.lower()\n",
    "        self._attrs[\"applied_transformations\"].append(\"lower\")\n",
    "    \n",
    "    def strip(self):\n",
    "        self.text = self.text.str.strip()\n",
    "        self._attrs[\"applied_transformations\"].append(\"strip\")\n",
    "\n",
    "    def remove_single_digits(self):\n",
    "        self.text = self.text.apply(lambda text: re.sub(\"([\\d]+)\", \"\", text))\n",
    "        self._attrs[\"applied_transformations\"].append(\"remove_single_digits\")\n",
    "    \n",
    "    def remove_nonletter_chars(self):\n",
    "        self.text = self.text.apply(lambda text: re.sub(\"[^A-Za-z0-9 \\\\n]\", \" \", text))\n",
    "        self._attrs[\"applied_transformations\"].append(\"remove_nonletter_chars\")\n",
    "\n",
    "    def stop_word_tokenize(self):\n",
    "        def tokenize(text):\n",
    "            self.stoplist = nltk.corpus.stopwords.words('english')\n",
    "            finalTokens = []\n",
    "            tokens = nltk.word_tokenize(text)\n",
    "            for w in tokens:\n",
    "                if (w not in self.stoplist):\n",
    "                    finalTokens.append(w)\n",
    "            text = \" \".join(finalTokens)\n",
    "            return text\n",
    "        self.text = self.text.apply(tokenize)\n",
    "        self._attrs[\"applied_transformations\"].append(\"stop_word_tokenize\")\n",
    "    \n",
    "    def stem_sentence(self):\n",
    "        def stem(text):\n",
    "            porter=PorterStemmer()\n",
    "            token_words=nltk.tokenize.word_tokenize(text)\n",
    "            token_words\n",
    "            stem_sentence=[]\n",
    "            for word in token_words:\n",
    "                stem_sentence.append(porter.stem(word))\n",
    "                stem_sentence.append(\" \")\n",
    "            return \"\".join(stem_sentence)\n",
    "        self.text = self.text.apply(stem)\n",
    "        self._attrs[\"applied_transformations\"].append(\"stem_sentence\")\n",
    "\n",
    "    def lemmatize_sentence(self):\n",
    "        def lem(text):\n",
    "            wordnet_lemmatizer = nltk.stem.WordNetLemmatizer()\n",
    "            #token_words\n",
    "            token_words=nltk.tokenize.word_tokenize(text)\n",
    "            lemm_sentence=[]\n",
    "            for word in token_words:\n",
    "                lemm_sentence.append(wordnet_lemmatizer.lemmatize(word))\n",
    "                lemm_sentence.append(\" \")\n",
    "            return \"\".join(lemm_sentence)\n",
    "        self.text = self.text.apply(lem)\n",
    "        self._attrs[\"applied_transformations\"].append(\"lemmatize_sentence\")\n",
    "\n",
    "    def process_all(self, lower=True, strip=True, remove_single_digits =True, \n",
    "        remove_nonletter_chars=True, stop_word_tokenize=True, stem_sentence=True,\n",
    "        lemmatize_sentence=True):\n",
    "        if lower:\n",
    "            self.lower()\n",
    "        if strip:\n",
    "            self.strip()\n",
    "        if remove_single_digits:\n",
    "            self.remove_single_digits()\n",
    "        if remove_nonletter_chars:\n",
    "            self.remove_nonletter_chars()\n",
    "        if stop_word_tokenize:\n",
    "            self.stop_word_tokenize()\n",
    "        if stem_sentence:\n",
    "            self.stem_sentence()\n",
    "        if lemmatize_sentence:\n",
    "            self.lemmatize_sentence()\n"
   ]
  },
  {
   "cell_type": "markdown",
   "metadata": {
    "id": "oB1ZpQjUfFvV"
   },
   "source": [
    "# Naive Bayes Model"
   ]
  },
  {
   "cell_type": "code",
   "execution_count": 9,
   "metadata": {
    "colab": {
     "base_uri": "https://localhost:8080/",
     "height": 572
    },
    "id": "B68PhAqsfDvj",
    "outputId": "92e83f10-ba42-4fd9-f410-889b985cf646"
   },
   "outputs": [
    {
     "name": "stderr",
     "output_type": "stream",
     "text": [
      "[nltk_data] Downloading package stopwords to\n",
      "[nltk_data]     /Users/julian.hicks/nltk_data...\n",
      "[nltk_data]   Package stopwords is already up-to-date!\n",
      "[nltk_data] Downloading package punkt to\n",
      "[nltk_data]     /Users/julian.hicks/nltk_data...\n",
      "[nltk_data]   Package punkt is already up-to-date!\n"
     ]
    },
    {
     "name": "stdout",
     "output_type": "stream",
     "text": [
      "{'_is_copy': None, '_mgr': BlockManager\n",
      "Items: Index(['original_text', 'text', 'label'], dtype='object')\n",
      "Axis 1: RangeIndex(start=0, stop=1044897, step=1)\n",
      "ObjectBlock: slice(0, 2, 1), 2 x 1044897, dtype: object\n",
      "NumericBlock: slice(2, 3, 1), 1 x 1044897, dtype: int64, '_item_cache': {}, '_attrs': {'applied_transformations': []}, '_flags': <Flags(allows_duplicate_labels=True)>}\n"
     ]
    },
    {
     "data": {
      "text/html": [
       "<div>\n",
       "<style scoped>\n",
       "    .dataframe tbody tr th:only-of-type {\n",
       "        vertical-align: middle;\n",
       "    }\n",
       "\n",
       "    .dataframe tbody tr th {\n",
       "        vertical-align: top;\n",
       "    }\n",
       "\n",
       "    .dataframe thead th {\n",
       "        text-align: right;\n",
       "    }\n",
       "</style>\n",
       "<table border=\"1\" class=\"dataframe\">\n",
       "  <thead>\n",
       "    <tr style=\"text-align: right;\">\n",
       "      <th></th>\n",
       "      <th>original_text</th>\n",
       "      <th>text</th>\n",
       "      <th>label</th>\n",
       "    </tr>\n",
       "  </thead>\n",
       "  <tbody>\n",
       "    <tr>\n",
       "      <th>0</th>\n",
       "      <td>What is the most effective classroom managemen...</td>\n",
       "      <td>What is the most effective classroom managemen...</td>\n",
       "      <td>0</td>\n",
       "    </tr>\n",
       "    <tr>\n",
       "      <th>1</th>\n",
       "      <td>Can I study abroad after 10th class from Bangl...</td>\n",
       "      <td>Can I study abroad after 10th class from Bangl...</td>\n",
       "      <td>0</td>\n",
       "    </tr>\n",
       "    <tr>\n",
       "      <th>2</th>\n",
       "      <td>How can I make friends as a college junior?</td>\n",
       "      <td>How can I make friends as a college junior?</td>\n",
       "      <td>0</td>\n",
       "    </tr>\n",
       "    <tr>\n",
       "      <th>3</th>\n",
       "      <td>How do I download free APK Minecraft: Pocket E...</td>\n",
       "      <td>How do I download free APK Minecraft: Pocket E...</td>\n",
       "      <td>0</td>\n",
       "    </tr>\n",
       "    <tr>\n",
       "      <th>4</th>\n",
       "      <td>Like Kuvera, is \"Groww\" also a free online inv...</td>\n",
       "      <td>Like Kuvera, is \"Groww\" also a free online inv...</td>\n",
       "      <td>0</td>\n",
       "    </tr>\n",
       "    <tr>\n",
       "      <th>...</th>\n",
       "      <td>...</td>\n",
       "      <td>...</td>\n",
       "      <td>...</td>\n",
       "    </tr>\n",
       "    <tr>\n",
       "      <th>1044892</th>\n",
       "      <td>How is a video similar to ordinary graphics?</td>\n",
       "      <td>How is a video similar to ordinary graphics?</td>\n",
       "      <td>0</td>\n",
       "    </tr>\n",
       "    <tr>\n",
       "      <th>1044893</th>\n",
       "      <td>How does training with a speed bag make you a ...</td>\n",
       "      <td>How does training with a speed bag make you a ...</td>\n",
       "      <td>0</td>\n",
       "    </tr>\n",
       "    <tr>\n",
       "      <th>1044894</th>\n",
       "      <td>What marketing strategies are implemented to i...</td>\n",
       "      <td>What marketing strategies are implemented to i...</td>\n",
       "      <td>0</td>\n",
       "    </tr>\n",
       "    <tr>\n",
       "      <th>1044895</th>\n",
       "      <td>What are the characteristics of wireless adapt...</td>\n",
       "      <td>What are the characteristics of wireless adapt...</td>\n",
       "      <td>0</td>\n",
       "    </tr>\n",
       "    <tr>\n",
       "      <th>1044896</th>\n",
       "      <td>What is your experience with using fuel additi...</td>\n",
       "      <td>What is your experience with using fuel additi...</td>\n",
       "      <td>0</td>\n",
       "    </tr>\n",
       "  </tbody>\n",
       "</table>\n",
       "<p>1044897 rows × 3 columns</p>\n",
       "</div>"
      ],
      "text/plain": [
       "                                             original_text  \\\n",
       "0        What is the most effective classroom managemen...   \n",
       "1        Can I study abroad after 10th class from Bangl...   \n",
       "2              How can I make friends as a college junior?   \n",
       "3        How do I download free APK Minecraft: Pocket E...   \n",
       "4        Like Kuvera, is \"Groww\" also a free online inv...   \n",
       "...                                                    ...   \n",
       "1044892       How is a video similar to ordinary graphics?   \n",
       "1044893  How does training with a speed bag make you a ...   \n",
       "1044894  What marketing strategies are implemented to i...   \n",
       "1044895  What are the characteristics of wireless adapt...   \n",
       "1044896  What is your experience with using fuel additi...   \n",
       "\n",
       "                                                      text  label  \n",
       "0        What is the most effective classroom managemen...      0  \n",
       "1        Can I study abroad after 10th class from Bangl...      0  \n",
       "2              How can I make friends as a college junior?      0  \n",
       "3        How do I download free APK Minecraft: Pocket E...      0  \n",
       "4        Like Kuvera, is \"Groww\" also a free online inv...      0  \n",
       "...                                                    ...    ...  \n",
       "1044892       How is a video similar to ordinary graphics?      0  \n",
       "1044893  How does training with a speed bag make you a ...      0  \n",
       "1044894  What marketing strategies are implemented to i...      0  \n",
       "1044895  What are the characteristics of wireless adapt...      0  \n",
       "1044896  What is your experience with using fuel additi...      0  \n",
       "\n",
       "[1044897 rows x 3 columns]"
      ]
     },
     "execution_count": 9,
     "metadata": {},
     "output_type": "execute_result"
    }
   ],
   "source": [
    "train = TextObject()\n",
    "train.add_text(miniTrain.text, labels=miniTrain.label)\n",
    "print(train.__dict__)\n",
    "train"
   ]
  },
  {
   "cell_type": "code",
   "execution_count": 10,
   "metadata": {
    "colab": {
     "base_uri": "https://localhost:8080/",
     "height": 572
    },
    "id": "FmaM3GX0RsgY",
    "outputId": "daa49b22-8eca-4e28-c1c2-918945ca1076"
   },
   "outputs": [
    {
     "name": "stdout",
     "output_type": "stream",
     "text": [
      "{'_is_copy': None, '_mgr': BlockManager\n",
      "Items: Index(['original_text', 'text', 'label'], dtype='object')\n",
      "Axis 1: RangeIndex(start=0, stop=130612, step=1)\n",
      "ObjectBlock: slice(0, 2, 1), 2 x 130612, dtype: object\n",
      "NumericBlock: slice(2, 3, 1), 1 x 130612, dtype: int64, '_item_cache': {}, '_attrs': {'applied_transformations': []}, '_flags': <Flags(allows_duplicate_labels=True)>}\n"
     ]
    },
    {
     "name": "stderr",
     "output_type": "stream",
     "text": [
      "[nltk_data] Downloading package stopwords to\n",
      "[nltk_data]     /Users/julian.hicks/nltk_data...\n",
      "[nltk_data]   Package stopwords is already up-to-date!\n",
      "[nltk_data] Downloading package punkt to\n",
      "[nltk_data]     /Users/julian.hicks/nltk_data...\n",
      "[nltk_data]   Package punkt is already up-to-date!\n"
     ]
    },
    {
     "data": {
      "text/html": [
       "<div>\n",
       "<style scoped>\n",
       "    .dataframe tbody tr th:only-of-type {\n",
       "        vertical-align: middle;\n",
       "    }\n",
       "\n",
       "    .dataframe tbody tr th {\n",
       "        vertical-align: top;\n",
       "    }\n",
       "\n",
       "    .dataframe thead th {\n",
       "        text-align: right;\n",
       "    }\n",
       "</style>\n",
       "<table border=\"1\" class=\"dataframe\">\n",
       "  <thead>\n",
       "    <tr style=\"text-align: right;\">\n",
       "      <th></th>\n",
       "      <th>original_text</th>\n",
       "      <th>text</th>\n",
       "      <th>label</th>\n",
       "    </tr>\n",
       "  </thead>\n",
       "  <tbody>\n",
       "    <tr>\n",
       "      <th>0</th>\n",
       "      <td>Does my BDS degree from India count if I want ...</td>\n",
       "      <td>Does my BDS degree from India count if I want ...</td>\n",
       "      <td>0</td>\n",
       "    </tr>\n",
       "    <tr>\n",
       "      <th>1</th>\n",
       "      <td>Is there such a thing as an average face?</td>\n",
       "      <td>Is there such a thing as an average face?</td>\n",
       "      <td>0</td>\n",
       "    </tr>\n",
       "    <tr>\n",
       "      <th>2</th>\n",
       "      <td>Is Munich Volkshochschule a good choice to lea...</td>\n",
       "      <td>Is Munich Volkshochschule a good choice to lea...</td>\n",
       "      <td>0</td>\n",
       "    </tr>\n",
       "    <tr>\n",
       "      <th>3</th>\n",
       "      <td>What is The relationship between Texas and its...</td>\n",
       "      <td>What is The relationship between Texas and its...</td>\n",
       "      <td>0</td>\n",
       "    </tr>\n",
       "    <tr>\n",
       "      <th>4</th>\n",
       "      <td>Will the current mining equipment work with se...</td>\n",
       "      <td>Will the current mining equipment work with se...</td>\n",
       "      <td>0</td>\n",
       "    </tr>\n",
       "    <tr>\n",
       "      <th>...</th>\n",
       "      <td>...</td>\n",
       "      <td>...</td>\n",
       "      <td>...</td>\n",
       "    </tr>\n",
       "    <tr>\n",
       "      <th>130607</th>\n",
       "      <td>What's the best way to teach your daughter to ...</td>\n",
       "      <td>What's the best way to teach your daughter to ...</td>\n",
       "      <td>0</td>\n",
       "    </tr>\n",
       "    <tr>\n",
       "      <th>130608</th>\n",
       "      <td>What are similarities and differences between ...</td>\n",
       "      <td>What are similarities and differences between ...</td>\n",
       "      <td>0</td>\n",
       "    </tr>\n",
       "    <tr>\n",
       "      <th>130609</th>\n",
       "      <td>What is the best shoe cleaning product for tri...</td>\n",
       "      <td>What is the best shoe cleaning product for tri...</td>\n",
       "      <td>0</td>\n",
       "    </tr>\n",
       "    <tr>\n",
       "      <th>130610</th>\n",
       "      <td>Can I get a private medical college with 320 m...</td>\n",
       "      <td>Can I get a private medical college with 320 m...</td>\n",
       "      <td>0</td>\n",
       "    </tr>\n",
       "    <tr>\n",
       "      <th>130611</th>\n",
       "      <td>What are some key differences between America ...</td>\n",
       "      <td>What are some key differences between America ...</td>\n",
       "      <td>0</td>\n",
       "    </tr>\n",
       "  </tbody>\n",
       "</table>\n",
       "<p>130612 rows × 3 columns</p>\n",
       "</div>"
      ],
      "text/plain": [
       "                                            original_text  \\\n",
       "0       Does my BDS degree from India count if I want ...   \n",
       "1               Is there such a thing as an average face?   \n",
       "2       Is Munich Volkshochschule a good choice to lea...   \n",
       "3       What is The relationship between Texas and its...   \n",
       "4       Will the current mining equipment work with se...   \n",
       "...                                                   ...   \n",
       "130607  What's the best way to teach your daughter to ...   \n",
       "130608  What are similarities and differences between ...   \n",
       "130609  What is the best shoe cleaning product for tri...   \n",
       "130610  Can I get a private medical college with 320 m...   \n",
       "130611  What are some key differences between America ...   \n",
       "\n",
       "                                                     text  label  \n",
       "0       Does my BDS degree from India count if I want ...      0  \n",
       "1               Is there such a thing as an average face?      0  \n",
       "2       Is Munich Volkshochschule a good choice to lea...      0  \n",
       "3       What is The relationship between Texas and its...      0  \n",
       "4       Will the current mining equipment work with se...      0  \n",
       "...                                                   ...    ...  \n",
       "130607  What's the best way to teach your daughter to ...      0  \n",
       "130608  What are similarities and differences between ...      0  \n",
       "130609  What is the best shoe cleaning product for tri...      0  \n",
       "130610  Can I get a private medical college with 320 m...      0  \n",
       "130611  What are some key differences between America ...      0  \n",
       "\n",
       "[130612 rows x 3 columns]"
      ]
     },
     "execution_count": 10,
     "metadata": {},
     "output_type": "execute_result"
    }
   ],
   "source": [
    "test = TextObject()\n",
    "test.add_text(miniTest.text, labels=miniTest.label)\n",
    "print(test.__dict__)\n",
    "test"
   ]
  },
  {
   "cell_type": "code",
   "execution_count": 11,
   "metadata": {
    "colab": {
     "base_uri": "https://localhost:8080/",
     "height": 572
    },
    "id": "vt6Qe5rvR0lI",
    "outputId": "07d88ed5-e67a-4a0f-bcff-2a9b47f31b3a"
   },
   "outputs": [
    {
     "name": "stdout",
     "output_type": "stream",
     "text": [
      "{'_is_copy': None, '_mgr': BlockManager\n",
      "Items: Index(['original_text', 'text', 'label'], dtype='object')\n",
      "Axis 1: RangeIndex(start=0, stop=130613, step=1)\n",
      "ObjectBlock: slice(0, 2, 1), 2 x 130613, dtype: object\n",
      "NumericBlock: slice(2, 3, 1), 1 x 130613, dtype: int64, '_item_cache': {}, '_attrs': {'applied_transformations': []}, '_flags': <Flags(allows_duplicate_labels=True)>}\n"
     ]
    },
    {
     "name": "stderr",
     "output_type": "stream",
     "text": [
      "[nltk_data] Downloading package stopwords to\n",
      "[nltk_data]     /Users/julian.hicks/nltk_data...\n",
      "[nltk_data]   Package stopwords is already up-to-date!\n",
      "[nltk_data] Downloading package punkt to\n",
      "[nltk_data]     /Users/julian.hicks/nltk_data...\n",
      "[nltk_data]   Package punkt is already up-to-date!\n"
     ]
    },
    {
     "data": {
      "text/html": [
       "<div>\n",
       "<style scoped>\n",
       "    .dataframe tbody tr th:only-of-type {\n",
       "        vertical-align: middle;\n",
       "    }\n",
       "\n",
       "    .dataframe tbody tr th {\n",
       "        vertical-align: top;\n",
       "    }\n",
       "\n",
       "    .dataframe thead th {\n",
       "        text-align: right;\n",
       "    }\n",
       "</style>\n",
       "<table border=\"1\" class=\"dataframe\">\n",
       "  <thead>\n",
       "    <tr style=\"text-align: right;\">\n",
       "      <th></th>\n",
       "      <th>original_text</th>\n",
       "      <th>text</th>\n",
       "      <th>label</th>\n",
       "    </tr>\n",
       "  </thead>\n",
       "  <tbody>\n",
       "    <tr>\n",
       "      <th>0</th>\n",
       "      <td>Where can I find best romantic shayaris?</td>\n",
       "      <td>Where can I find best romantic shayaris?</td>\n",
       "      <td>1</td>\n",
       "    </tr>\n",
       "    <tr>\n",
       "      <th>1</th>\n",
       "      <td>When we check the UPSC rank list; many of the ...</td>\n",
       "      <td>When we check the UPSC rank list; many of the ...</td>\n",
       "      <td>0</td>\n",
       "    </tr>\n",
       "    <tr>\n",
       "      <th>2</th>\n",
       "      <td>Is there is any web site to create search engi...</td>\n",
       "      <td>Is there is any web site to create search engi...</td>\n",
       "      <td>0</td>\n",
       "    </tr>\n",
       "    <tr>\n",
       "      <th>3</th>\n",
       "      <td>How can you earn $50 just clicking ads?</td>\n",
       "      <td>How can you earn $50 just clicking ads?</td>\n",
       "      <td>0</td>\n",
       "    </tr>\n",
       "    <tr>\n",
       "      <th>4</th>\n",
       "      <td>Which 3 branches of engineering have the most ...</td>\n",
       "      <td>Which 3 branches of engineering have the most ...</td>\n",
       "      <td>0</td>\n",
       "    </tr>\n",
       "    <tr>\n",
       "      <th>...</th>\n",
       "      <td>...</td>\n",
       "      <td>...</td>\n",
       "      <td>...</td>\n",
       "    </tr>\n",
       "    <tr>\n",
       "      <th>130608</th>\n",
       "      <td>How can the ViewSonic PA503S 3600 lumens SVGA ...</td>\n",
       "      <td>How can the ViewSonic PA503S 3600 lumens SVGA ...</td>\n",
       "      <td>0</td>\n",
       "    </tr>\n",
       "    <tr>\n",
       "      <th>130609</th>\n",
       "      <td>What are the biggest myths about Adolf Hitler?</td>\n",
       "      <td>What are the biggest myths about Adolf Hitler?</td>\n",
       "      <td>0</td>\n",
       "    </tr>\n",
       "    <tr>\n",
       "      <th>130610</th>\n",
       "      <td>What song played in the movie of the gifted wh...</td>\n",
       "      <td>What song played in the movie of the gifted wh...</td>\n",
       "      <td>0</td>\n",
       "    </tr>\n",
       "    <tr>\n",
       "      <th>130611</th>\n",
       "      <td>What do Socrates, Thomas Kuhn and Karl Popper ...</td>\n",
       "      <td>What do Socrates, Thomas Kuhn and Karl Popper ...</td>\n",
       "      <td>0</td>\n",
       "    </tr>\n",
       "    <tr>\n",
       "      <th>130612</th>\n",
       "      <td>I feel something missing in my relationship. I...</td>\n",
       "      <td>I feel something missing in my relationship. I...</td>\n",
       "      <td>0</td>\n",
       "    </tr>\n",
       "  </tbody>\n",
       "</table>\n",
       "<p>130613 rows × 3 columns</p>\n",
       "</div>"
      ],
      "text/plain": [
       "                                            original_text  \\\n",
       "0                Where can I find best romantic shayaris?   \n",
       "1       When we check the UPSC rank list; many of the ...   \n",
       "2       Is there is any web site to create search engi...   \n",
       "3                 How can you earn $50 just clicking ads?   \n",
       "4       Which 3 branches of engineering have the most ...   \n",
       "...                                                   ...   \n",
       "130608  How can the ViewSonic PA503S 3600 lumens SVGA ...   \n",
       "130609     What are the biggest myths about Adolf Hitler?   \n",
       "130610  What song played in the movie of the gifted wh...   \n",
       "130611  What do Socrates, Thomas Kuhn and Karl Popper ...   \n",
       "130612  I feel something missing in my relationship. I...   \n",
       "\n",
       "                                                     text  label  \n",
       "0                Where can I find best romantic shayaris?      1  \n",
       "1       When we check the UPSC rank list; many of the ...      0  \n",
       "2       Is there is any web site to create search engi...      0  \n",
       "3                 How can you earn $50 just clicking ads?      0  \n",
       "4       Which 3 branches of engineering have the most ...      0  \n",
       "...                                                   ...    ...  \n",
       "130608  How can the ViewSonic PA503S 3600 lumens SVGA ...      0  \n",
       "130609     What are the biggest myths about Adolf Hitler?      0  \n",
       "130610  What song played in the movie of the gifted wh...      0  \n",
       "130611  What do Socrates, Thomas Kuhn and Karl Popper ...      0  \n",
       "130612  I feel something missing in my relationship. I...      0  \n",
       "\n",
       "[130613 rows x 3 columns]"
      ]
     },
     "execution_count": 11,
     "metadata": {},
     "output_type": "execute_result"
    }
   ],
   "source": [
    "dev = TextObject()\n",
    "dev.add_text(miniDev.text, labels=miniDev.label)\n",
    "print(dev.__dict__)\n",
    "dev"
   ]
  },
  {
   "cell_type": "code",
   "execution_count": 12,
   "metadata": {
    "colab": {
     "base_uri": "https://localhost:8080/",
     "height": 409
    },
    "id": "XYMzkbrAscES",
    "outputId": "bb3af91e-7d48-40fa-e658-da252ef95d4a"
   },
   "outputs": [
    {
     "name": "stderr",
     "output_type": "stream",
     "text": [
      "<ipython-input-8-7fe0180fad7b>:69: UserWarning: Pandas doesn't allow columns to be created via a new attribute name - see https://pandas.pydata.org/pandas-docs/stable/indexing.html#attribute-access\n",
      "  self.stoplist = nltk.corpus.stopwords.words('english')\n"
     ]
    },
    {
     "data": {
      "text/html": [
       "<div>\n",
       "<style scoped>\n",
       "    .dataframe tbody tr th:only-of-type {\n",
       "        vertical-align: middle;\n",
       "    }\n",
       "\n",
       "    .dataframe tbody tr th {\n",
       "        vertical-align: top;\n",
       "    }\n",
       "\n",
       "    .dataframe thead th {\n",
       "        text-align: right;\n",
       "    }\n",
       "</style>\n",
       "<table border=\"1\" class=\"dataframe\">\n",
       "  <thead>\n",
       "    <tr style=\"text-align: right;\">\n",
       "      <th></th>\n",
       "      <th>original_text</th>\n",
       "      <th>text</th>\n",
       "      <th>label</th>\n",
       "    </tr>\n",
       "  </thead>\n",
       "  <tbody>\n",
       "    <tr>\n",
       "      <th>0</th>\n",
       "      <td>What is the most effective classroom managemen...</td>\n",
       "      <td>effective classroom management skill technique...</td>\n",
       "      <td>0</td>\n",
       "    </tr>\n",
       "    <tr>\n",
       "      <th>1</th>\n",
       "      <td>Can I study abroad after 10th class from Bangl...</td>\n",
       "      <td>study abroad th class bangladesh</td>\n",
       "      <td>0</td>\n",
       "    </tr>\n",
       "    <tr>\n",
       "      <th>2</th>\n",
       "      <td>How can I make friends as a college junior?</td>\n",
       "      <td>make friends college junior</td>\n",
       "      <td>0</td>\n",
       "    </tr>\n",
       "    <tr>\n",
       "      <th>3</th>\n",
       "      <td>How do I download free APK Minecraft: Pocket E...</td>\n",
       "      <td>download free apk minecraft pocket edition ios...</td>\n",
       "      <td>0</td>\n",
       "    </tr>\n",
       "    <tr>\n",
       "      <th>4</th>\n",
       "      <td>Like Kuvera, is \"Groww\" also a free online inv...</td>\n",
       "      <td>like kuvera groww also free online investment ...</td>\n",
       "      <td>0</td>\n",
       "    </tr>\n",
       "    <tr>\n",
       "      <th>...</th>\n",
       "      <td>...</td>\n",
       "      <td>...</td>\n",
       "      <td>...</td>\n",
       "    </tr>\n",
       "    <tr>\n",
       "      <th>1044892</th>\n",
       "      <td>How is a video similar to ordinary graphics?</td>\n",
       "      <td>video similar ordinary graphics</td>\n",
       "      <td>0</td>\n",
       "    </tr>\n",
       "    <tr>\n",
       "      <th>1044893</th>\n",
       "      <td>How does training with a speed bag make you a ...</td>\n",
       "      <td>training speed bag make better fighter</td>\n",
       "      <td>0</td>\n",
       "    </tr>\n",
       "    <tr>\n",
       "      <th>1044894</th>\n",
       "      <td>What marketing strategies are implemented to i...</td>\n",
       "      <td>marketing strategies implemented increase sale...</td>\n",
       "      <td>0</td>\n",
       "    </tr>\n",
       "    <tr>\n",
       "      <th>1044895</th>\n",
       "      <td>What are the characteristics of wireless adapt...</td>\n",
       "      <td>characteristics wireless adapters</td>\n",
       "      <td>0</td>\n",
       "    </tr>\n",
       "    <tr>\n",
       "      <th>1044896</th>\n",
       "      <td>What is your experience with using fuel additi...</td>\n",
       "      <td>experience using fuel additives clean diesel p...</td>\n",
       "      <td>0</td>\n",
       "    </tr>\n",
       "  </tbody>\n",
       "</table>\n",
       "<p>1044897 rows × 3 columns</p>\n",
       "</div>"
      ],
      "text/plain": [
       "                                             original_text  \\\n",
       "0        What is the most effective classroom managemen...   \n",
       "1        Can I study abroad after 10th class from Bangl...   \n",
       "2              How can I make friends as a college junior?   \n",
       "3        How do I download free APK Minecraft: Pocket E...   \n",
       "4        Like Kuvera, is \"Groww\" also a free online inv...   \n",
       "...                                                    ...   \n",
       "1044892       How is a video similar to ordinary graphics?   \n",
       "1044893  How does training with a speed bag make you a ...   \n",
       "1044894  What marketing strategies are implemented to i...   \n",
       "1044895  What are the characteristics of wireless adapt...   \n",
       "1044896  What is your experience with using fuel additi...   \n",
       "\n",
       "                                                      text  label  \n",
       "0        effective classroom management skill technique...      0  \n",
       "1                         study abroad th class bangladesh      0  \n",
       "2                              make friends college junior      0  \n",
       "3        download free apk minecraft pocket edition ios...      0  \n",
       "4        like kuvera groww also free online investment ...      0  \n",
       "...                                                    ...    ...  \n",
       "1044892                    video similar ordinary graphics      0  \n",
       "1044893             training speed bag make better fighter      0  \n",
       "1044894  marketing strategies implemented increase sale...      0  \n",
       "1044895                  characteristics wireless adapters      0  \n",
       "1044896  experience using fuel additives clean diesel p...      0  \n",
       "\n",
       "[1044897 rows x 3 columns]"
      ]
     },
     "execution_count": 12,
     "metadata": {},
     "output_type": "execute_result"
    }
   ],
   "source": [
    "train.lower()\n",
    "train.strip()\n",
    "train.remove_single_digits()\n",
    "train.remove_nonletter_chars()\n",
    "train.stop_word_tokenize()\n",
    "train"
   ]
  },
  {
   "cell_type": "markdown",
   "metadata": {
    "id": "6Xfp2HZHh__R"
   },
   "source": [
    "# NB Model"
   ]
  },
  {
   "cell_type": "code",
   "execution_count": 13,
   "metadata": {
    "id": "8JIb3JpGvHqS"
   },
   "outputs": [
    {
     "name": "stdout",
     "output_type": "stream",
     "text": [
      "train data shape:  (1044897,)\n",
      "train label shape: (1044897,)\n",
      "test data shape:  (130612,)\n",
      "test label shape: (130612,)\n"
     ]
    }
   ],
   "source": [
    "x = train['text']\n",
    "y = train['label']\n",
    "print('train data shape: ', x.shape)\n",
    "print('train label shape:', y.shape)\n",
    "x_test = test['text']\n",
    "y_test = test['label']\n",
    "print('test data shape: ', x_test.shape)\n",
    "print('test label shape:', y_test.shape)"
   ]
  },
  {
   "cell_type": "code",
   "execution_count": 14,
   "metadata": {
    "id": "a3lJXZLurGXG"
   },
   "outputs": [],
   "source": [
    "vec = CountVectorizer(stop_words='english')\n",
    "x = vec.fit_transform(x)\n",
    "x_test = vec.transform(x_test)"
   ]
  },
  {
   "cell_type": "code",
   "execution_count": 15,
   "metadata": {
    "id": "9HPcl4Oittad"
   },
   "outputs": [
    {
     "data": {
      "text/plain": [
       "ComplementNB(alpha=0.01)"
      ]
     },
     "execution_count": 15,
     "metadata": {},
     "output_type": "execute_result"
    }
   ],
   "source": [
    "from sklearn.naive_bayes import ComplementNB\n",
    "model_prep = ComplementNB(alpha=0.01)\n",
    "model_prep.fit(x, y)"
   ]
  },
  {
   "cell_type": "code",
   "execution_count": 16,
   "metadata": {
    "id": "ODZmpcUTrMP5"
   },
   "outputs": [],
   "source": [
    "y_pred = model_prep.predict(x_test)\n",
    "y_probs = [i[1] for i in model_prep.predict_proba(x_test)]"
   ]
  },
  {
   "cell_type": "code",
   "execution_count": 17,
   "metadata": {},
   "outputs": [
    {
     "name": "stdout",
     "output_type": "stream",
     "text": [
      "[9.49716997689671e-09, 0.4246347811973764, 0.0013553633760733455, 0.6619439202006367, 0.001464110182772294, 0.18940724590033436, 0.9821347700637032, 5.790107948684731e-13, 0.00019209905144785844, 0.9994264692640603] [0 0 0 1 0 0 1 0 0 1]\n"
     ]
    }
   ],
   "source": [
    "print(y_probs[:10], y_pred[:10])"
   ]
  },
  {
   "cell_type": "code",
   "execution_count": 18,
   "metadata": {
    "id": "2df-fbbmwUhG"
   },
   "outputs": [
    {
     "name": "stdout",
     "output_type": "stream",
     "text": [
      "Model After Processed data \n",
      "\n",
      "Accuracy: 0.821563102930818\n",
      "F1 score: 0.378307725138711\n",
      "Recall: 0.24178259683578832\n",
      "Precision: 0.8689950980392157\n",
      "\n",
      " Clasification report:\n",
      "               precision    recall  f1-score   support\n",
      "\n",
      "           0       0.82      0.99      0.90    101284\n",
      "           1       0.87      0.24      0.38     29328\n",
      "\n",
      "    accuracy                           0.82    130612\n",
      "   macro avg       0.84      0.62      0.64    130612\n",
      "weighted avg       0.83      0.82      0.78    130612\n",
      "\n",
      "\n",
      " Confusion matrix:\n",
      "\n"
     ]
    },
    {
     "data": {
      "image/png": "[encoded data removed]",
      "text/plain": [
       "<Figure size 432x288 with 2 Axes>"
      ]
     },
     "metadata": {
      "needs_background": "light"
     },
     "output_type": "display_data"
    }
   ],
   "source": [
    "from sklearn.metrics import precision_score, \\\n",
    "    recall_score, confusion_matrix, classification_report, \\\n",
    "    accuracy_score, f1_score, plot_confusion_matrix\n",
    "from matplotlib import pyplot as plt\n",
    "print(\"Model After Processed data \\n\")\n",
    "print('Accuracy:', accuracy_score(y_pred, y_test))\n",
    "print('F1 score:', f1_score(y_pred, y_test))\n",
    "print('Recall:', recall_score(y_pred, y_test))\n",
    "print('Precision:', precision_score(y_pred, y_test))\n",
    "print('\\n Clasification report:\\n', classification_report(y_pred, y_test))\n",
    "print('\\n Confusion matrix:\\n')\n",
    "disp = plot_confusion_matrix(model_prep, x_test, y_test, normalize='true',values_format=\".2f\")"
   ]
  },
  {
   "cell_type": "code",
   "execution_count": 19,
   "metadata": {},
   "outputs": [
    {
     "data": {
      "text/html": [
       "<div>\n",
       "<style scoped>\n",
       "    .dataframe tbody tr th:only-of-type {\n",
       "        vertical-align: middle;\n",
       "    }\n",
       "\n",
       "    .dataframe tbody tr th {\n",
       "        vertical-align: top;\n",
       "    }\n",
       "\n",
       "    .dataframe thead th {\n",
       "        text-align: right;\n",
       "    }\n",
       "</style>\n",
       "<table border=\"1\" class=\"dataframe\">\n",
       "  <thead>\n",
       "    <tr style=\"text-align: right;\">\n",
       "      <th></th>\n",
       "      <th>pred</th>\n",
       "      <th>label</th>\n",
       "    </tr>\n",
       "  </thead>\n",
       "  <tbody>\n",
       "    <tr>\n",
       "      <th>0</th>\n",
       "      <td>9.497170e-09</td>\n",
       "      <td>0.0</td>\n",
       "    </tr>\n",
       "    <tr>\n",
       "      <th>1</th>\n",
       "      <td>4.246348e-01</td>\n",
       "      <td>0.0</td>\n",
       "    </tr>\n",
       "    <tr>\n",
       "      <th>2</th>\n",
       "      <td>1.355363e-03</td>\n",
       "      <td>0.0</td>\n",
       "    </tr>\n",
       "    <tr>\n",
       "      <th>3</th>\n",
       "      <td>6.619439e-01</td>\n",
       "      <td>0.0</td>\n",
       "    </tr>\n",
       "    <tr>\n",
       "      <th>4</th>\n",
       "      <td>1.464110e-03</td>\n",
       "      <td>0.0</td>\n",
       "    </tr>\n",
       "    <tr>\n",
       "      <th>...</th>\n",
       "      <td>...</td>\n",
       "      <td>...</td>\n",
       "    </tr>\n",
       "    <tr>\n",
       "      <th>130607</th>\n",
       "      <td>4.178595e-02</td>\n",
       "      <td>0.0</td>\n",
       "    </tr>\n",
       "    <tr>\n",
       "      <th>130608</th>\n",
       "      <td>9.151326e-03</td>\n",
       "      <td>0.0</td>\n",
       "    </tr>\n",
       "    <tr>\n",
       "      <th>130609</th>\n",
       "      <td>6.060790e-03</td>\n",
       "      <td>0.0</td>\n",
       "    </tr>\n",
       "    <tr>\n",
       "      <th>130610</th>\n",
       "      <td>5.716538e-07</td>\n",
       "      <td>0.0</td>\n",
       "    </tr>\n",
       "    <tr>\n",
       "      <th>130611</th>\n",
       "      <td>1.336022e-01</td>\n",
       "      <td>0.0</td>\n",
       "    </tr>\n",
       "  </tbody>\n",
       "</table>\n",
       "<p>130612 rows × 2 columns</p>\n",
       "</div>"
      ],
      "text/plain": [
       "                pred  label\n",
       "0       9.497170e-09    0.0\n",
       "1       4.246348e-01    0.0\n",
       "2       1.355363e-03    0.0\n",
       "3       6.619439e-01    0.0\n",
       "4       1.464110e-03    0.0\n",
       "...              ...    ...\n",
       "130607  4.178595e-02    0.0\n",
       "130608  9.151326e-03    0.0\n",
       "130609  6.060790e-03    0.0\n",
       "130610  5.716538e-07    0.0\n",
       "130611  1.336022e-01    0.0\n",
       "\n",
       "[130612 rows x 2 columns]"
      ]
     },
     "execution_count": 19,
     "metadata": {},
     "output_type": "execute_result"
    }
   ],
   "source": [
    "calcDF = pd.DataFrame(data=[y_probs, y_test], index=['pred','label']).T\n",
    "calcDF"
   ]
  },
  {
   "cell_type": "code",
   "execution_count": 20,
   "metadata": {},
   "outputs": [
    {
     "data": {
      "text/html": [
       "<div>\n",
       "<style scoped>\n",
       "    .dataframe tbody tr th:only-of-type {\n",
       "        vertical-align: middle;\n",
       "    }\n",
       "\n",
       "    .dataframe tbody tr th {\n",
       "        vertical-align: top;\n",
       "    }\n",
       "\n",
       "    .dataframe thead th {\n",
       "        text-align: right;\n",
       "    }\n",
       "</style>\n",
       "<table border=\"1\" class=\"dataframe\">\n",
       "  <thead>\n",
       "    <tr style=\"text-align: right;\">\n",
       "      <th></th>\n",
       "      <th>threshold</th>\n",
       "      <th>f1Score</th>\n",
       "      <th>accuracy</th>\n",
       "      <th>recall</th>\n",
       "      <th>precision</th>\n",
       "    </tr>\n",
       "  </thead>\n",
       "  <tbody>\n",
       "    <tr>\n",
       "      <th>0</th>\n",
       "      <td>0.05</td>\n",
       "      <td>0.235594</td>\n",
       "      <td>0.618634</td>\n",
       "      <td>0.940686</td>\n",
       "      <td>0.134660</td>\n",
       "    </tr>\n",
       "    <tr>\n",
       "      <th>1</th>\n",
       "      <td>0.06</td>\n",
       "      <td>0.241060</td>\n",
       "      <td>0.631634</td>\n",
       "      <td>0.936397</td>\n",
       "      <td>0.138336</td>\n",
       "    </tr>\n",
       "    <tr>\n",
       "      <th>2</th>\n",
       "      <td>0.07</td>\n",
       "      <td>0.246183</td>\n",
       "      <td>0.642812</td>\n",
       "      <td>0.933578</td>\n",
       "      <td>0.141786</td>\n",
       "    </tr>\n",
       "    <tr>\n",
       "      <th>3</th>\n",
       "      <td>0.08</td>\n",
       "      <td>0.251078</td>\n",
       "      <td>0.652873</td>\n",
       "      <td>0.931373</td>\n",
       "      <td>0.145096</td>\n",
       "    </tr>\n",
       "    <tr>\n",
       "      <th>4</th>\n",
       "      <td>0.09</td>\n",
       "      <td>0.255348</td>\n",
       "      <td>0.661517</td>\n",
       "      <td>0.928922</td>\n",
       "      <td>0.148018</td>\n",
       "    </tr>\n",
       "    <tr>\n",
       "      <th>...</th>\n",
       "      <td>...</td>\n",
       "      <td>...</td>\n",
       "      <td>...</td>\n",
       "      <td>...</td>\n",
       "      <td>...</td>\n",
       "    </tr>\n",
       "    <tr>\n",
       "      <th>90</th>\n",
       "      <td>0.95</td>\n",
       "      <td>0.541075</td>\n",
       "      <td>0.927204</td>\n",
       "      <td>0.686887</td>\n",
       "      <td>0.446329</td>\n",
       "    </tr>\n",
       "    <tr>\n",
       "      <th>91</th>\n",
       "      <td>0.96</td>\n",
       "      <td>0.544953</td>\n",
       "      <td>0.930596</td>\n",
       "      <td>0.665196</td>\n",
       "      <td>0.461525</td>\n",
       "    </tr>\n",
       "    <tr>\n",
       "      <th>92</th>\n",
       "      <td>0.97</td>\n",
       "      <td>0.549459</td>\n",
       "      <td>0.934371</td>\n",
       "      <td>0.640564</td>\n",
       "      <td>0.481042</td>\n",
       "    </tr>\n",
       "    <tr>\n",
       "      <th>93</th>\n",
       "      <td>0.98</td>\n",
       "      <td>0.549818</td>\n",
       "      <td>0.938390</td>\n",
       "      <td>0.602206</td>\n",
       "      <td>0.505816</td>\n",
       "    </tr>\n",
       "    <tr>\n",
       "      <th>94</th>\n",
       "      <td>0.99</td>\n",
       "      <td>0.540195</td>\n",
       "      <td>0.942678</td>\n",
       "      <td>0.538971</td>\n",
       "      <td>0.541426</td>\n",
       "    </tr>\n",
       "  </tbody>\n",
       "</table>\n",
       "<p>95 rows × 5 columns</p>\n",
       "</div>"
      ],
      "text/plain": [
       "    threshold   f1Score  accuracy    recall  precision\n",
       "0        0.05  0.235594  0.618634  0.940686   0.134660\n",
       "1        0.06  0.241060  0.631634  0.936397   0.138336\n",
       "2        0.07  0.246183  0.642812  0.933578   0.141786\n",
       "3        0.08  0.251078  0.652873  0.931373   0.145096\n",
       "4        0.09  0.255348  0.661517  0.928922   0.148018\n",
       "..        ...       ...       ...       ...        ...\n",
       "90       0.95  0.541075  0.927204  0.686887   0.446329\n",
       "91       0.96  0.544953  0.930596  0.665196   0.461525\n",
       "92       0.97  0.549459  0.934371  0.640564   0.481042\n",
       "93       0.98  0.549818  0.938390  0.602206   0.505816\n",
       "94       0.99  0.540195  0.942678  0.538971   0.541426\n",
       "\n",
       "[95 rows x 5 columns]"
      ]
     },
     "execution_count": 20,
     "metadata": {},
     "output_type": "execute_result"
    }
   ],
   "source": [
    "def frange(start, stop, step):\n",
    "  i = start\n",
    "  while i < stop:\n",
    "    yield i\n",
    "    i += step\n",
    "\n",
    "columnNames = ['threshold', 'f1Score', 'accuracy', 'recall', 'precision']\n",
    "thresholdDF = pd.DataFrame(columns=columnNames)\n",
    "\n",
    "for i in frange(0.05,1,0.01):\n",
    "    calcDF['pred2'] = np.where(calcDF['pred'] > i, 1, 0)\n",
    "    f1Score = f1_score(calcDF.label, calcDF.pred2)\n",
    "    accuracy = accuracy_score(calcDF.label, calcDF.pred2)\n",
    "    recall = recall_score(calcDF.label, calcDF.pred2)\n",
    "    precision = precision_score(calcDF.label, calcDF.pred2)\n",
    "    thresholdDF = thresholdDF.append({'threshold': i, 'f1Score': f1Score, \n",
    "                                      'accuracy':accuracy, 'recall':recall, \n",
    "                                      'precision':precision}, \n",
    "                                      ignore_index=True)\n",
    "\n",
    "thresholdDF"
   ]
  },
  {
   "cell_type": "code",
   "execution_count": 21,
   "metadata": {},
   "outputs": [
    {
     "data": {
      "text/plain": [
       "0.9800000000000006"
      ]
     },
     "execution_count": 21,
     "metadata": {},
     "output_type": "execute_result"
    }
   ],
   "source": [
    " #Find the optimum threshold and save it to variable to use further down creating predictions\n",
    " #Depending on the original random sample, optimum threshold will oscillate between 0.2 and 0.25\n",
    " \n",
    "optimumThreshold = thresholdDF.loc[thresholdDF['f1Score'].idxmax()][0]\n",
    "\n",
    "optimumThreshold"
   ]
  },
  {
   "cell_type": "code",
   "execution_count": 22,
   "metadata": {},
   "outputs": [
    {
     "name": "stdout",
     "output_type": "stream",
     "text": [
      "Accuracy: 0.9383900407313264\n",
      "F1 score: 0.5498181818181818\n",
      "Recall: 0.6022058823529411\n",
      "Precision: 0.5058157488419969\n",
      "\n",
      " Clasification report:\n",
      "               precision    recall  f1-score   support\n",
      "\n",
      "           0       0.97      0.96      0.97    122452\n",
      "           1       0.51      0.60      0.55      8160\n",
      "\n",
      "    accuracy                           0.94    130612\n",
      "   macro avg       0.74      0.78      0.76    130612\n",
      "weighted avg       0.94      0.94      0.94    130612\n",
      "\n"
     ]
    }
   ],
   "source": [
    "#Compute baseline F1 Score (and other metrics)\n",
    "\n",
    "y_pred2 = np.where(y_probs > optimumThreshold, 1, 0)\n",
    "\n",
    "print('Accuracy:', accuracy_score(y_test, y_pred2))\n",
    "print('F1 score:', f1_score(y_test, y_pred2))\n",
    "print('Recall:', recall_score(y_test, y_pred2))\n",
    "print('Precision:', precision_score(y_test, y_pred2))\n",
    "print('\\n Clasification report:\\n', classification_report(y_test, y_pred2))"
   ]
  },
  {
   "cell_type": "code",
   "execution_count": null,
   "metadata": {},
   "outputs": [],
   "source": []
  },
  {
   "cell_type": "code",
   "execution_count": 23,
   "metadata": {},
   "outputs": [],
   "source": [
    "# from joblib import dump\n",
    "\n",
    "# dump(model_prep, \"nb_model.joblib\")\n",
    "# dump(vec, \"nb_cv.joblib\")\n",
    "# dump(optimumThreshold, \"nb_ot.joblib\")"
   ]
  }
 ],
 "metadata": {
  "colab": {
   "collapsed_sections": [],
   "name": "NBModel_2.ipynb",
   "provenance": []
  },
  "kernelspec": {
   "display_name": "Python 3",
   "language": "python",
   "name": "python3"
  },
  "language_info": {
   "codemirror_mode": {
    "name": "ipython",
    "version": 3
   },
   "file_extension": ".py",
   "mimetype": "text/x-python",
   "name": "python",
   "nbconvert_exporter": "python",
   "pygments_lexer": "ipython3",
   "version": "3.8.3"
  }
 },
 "nbformat": 4,
 "nbformat_minor": 4
}
