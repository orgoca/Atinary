{
  "nbformat": 4,
  "nbformat_minor": 0,
  "metadata": {
    "colab": {
      "name": "Project2EDA.ipynb",
      "provenance": [],
      "collapsed_sections": [],
      "include_colab_link": true
    },
    "kernelspec": {
      "name": "python3",
      "display_name": "Python 3"
    },
    "language_info": {
      "name": "python"
    }
  },
  "cells": [
    {
      "cell_type": "markdown",
      "metadata": {
        "id": "view-in-github",
        "colab_type": "text"
      },
      "source": [
        "<a href=\"https://colab.research.google.com/github/orgoca/W207FinalProject/blob/main/Project2EDA_JH.ipynb\" target=\"_parent\"><img src=\"https://colab.research.google.com/assets/colab-badge.svg\" alt=\"Open In Colab\"/></a>"
      ]
    },
    {
      "cell_type": "markdown",
      "metadata": {
        "id": "iDo9bwz8QArK"
      },
      "source": [
        "## Project 2 Baseline\n",
        "Quora Project\n",
        "\n"
      ]
    },
    {
      "cell_type": "markdown",
      "metadata": {
        "id": "9NYPkw21y3Lz"
      },
      "source": [
        "# Load Data and Import Libraries\n",
        "\n",
        "First, we load all data and necessary libraries. We split the `train` data into `miniTrain` and `miniTest` dataframes.\n",
        "\n"
      ]
    },
    {
      "cell_type": "code",
      "metadata": {
        "id": "UWXoUx9hq-Mm"
      },
      "source": [
        "# Code to read csv file from Google Drive into Colaboratory:\n",
        "!pip install -U -q PyDrive\n",
        "from pydrive.auth import GoogleAuth\n",
        "from pydrive.drive import GoogleDrive\n",
        "from google.colab import auth\n",
        "from oauth2client.client import GoogleCredentials\n",
        "# Authenticate and create the PyDrive client.\n",
        "auth.authenticate_user()\n",
        "gauth = GoogleAuth()\n",
        "gauth.credentials = GoogleCredentials.get_application_default()\n",
        "drive = GoogleDrive(gauth)"
      ],
      "execution_count": 1,
      "outputs": []
    },
    {
      "cell_type": "code",
      "metadata": {
        "id": "cGHI3gXlx3nG"
      },
      "source": [
        "#Import Libraries\n",
        "import os\n",
        "import pandas as pd\n",
        "from sklearn.feature_extraction.text import CountVectorizer\n",
        "from sklearn.linear_model import LogisticRegression\n",
        "import numpy as np\n",
        "from sklearn.model_selection import train_test_split\n",
        "from sklearn.metrics import precision_score, \\\n",
        "    recall_score, confusion_matrix, classification_report, \\\n",
        "    accuracy_score, f1_score\n",
        "from sklearn_pandas import DataFrameMapper\n",
        "import csv\n",
        "import random"
      ],
      "execution_count": 2,
      "outputs": []
    },
    {
      "cell_type": "code",
      "metadata": {
        "id": "EBs8bJ_SroPT"
      },
      "source": [
        "#Load test DF\n",
        "testLink = 'https://drive.google.com/file/d/1chKVOcXwNzGRe_hRxpGlq18NVaSRM8X9/view?usp=sharing'\n",
        "idTest = testLink.split('/')[-2]\n",
        "downloaded = drive.CreateFile({'id':idTest}) \n",
        "downloaded.GetContentFile('test.csv')  "
      ],
      "execution_count": 3,
      "outputs": []
    },
    {
      "cell_type": "code",
      "metadata": {
        "id": "WxUoKDXzz6uZ"
      },
      "source": [
        "test = pd.read_csv('test.csv')"
      ],
      "execution_count": 4,
      "outputs": []
    },
    {
      "cell_type": "code",
      "metadata": {
        "id": "Cnl_313BvWqn"
      },
      "source": [
        "#Load train DF\n",
        "trainLink = 'https://drive.google.com/file/d/1fP-AWiUGLjLkL0c_u67HOUFmHOMO7qm2/view?usp=sharing'\n",
        "idTrain = trainLink.split('/')[-2]\n",
        "downloaded = drive.CreateFile({'id':idTrain}) \n",
        "downloaded.GetContentFile('train.csv')  "
      ],
      "execution_count": 5,
      "outputs": []
    },
    {
      "cell_type": "code",
      "metadata": {
        "id": "V0fZaycE0FBQ"
      },
      "source": [
        "train = pd.read_csv('train.csv')"
      ],
      "execution_count": 6,
      "outputs": []
    },
    {
      "cell_type": "code",
      "metadata": {
        "id": "j6zcj0EP2we6"
      },
      "source": [
        "#Split Training Data into MiniTrain and MiniTest (Test data has no labels so impossible to measure error from it)\n",
        "random.seed(10)\n",
        "miniTrain, miniTest = train_test_split(train, test_size=0.2)\n",
        "\n",
        "miniTrain.to_csv('miniTrain.csv', index=False)\n",
        "\n",
        "miniTest.to_csv('miniTest.csv', index=False)"
      ],
      "execution_count": 8,
      "outputs": []
    },
    {
      "cell_type": "code",
      "metadata": {
        "id": "DhK65MJrcaeF"
      },
      "source": [
        "#Even with a seed the randomization is messing up predictions since miniTest will not find the same questions further down, \n",
        "#so rather load a static version from a csv instead.\n",
        "\n",
        "miniTrain = pd.read_csv('miniTrain.csv')\n",
        "\n",
        "miniTest = pd.read_csv('miniTest.csv')"
      ],
      "execution_count": 9,
      "outputs": []
    },
    {
      "cell_type": "markdown",
      "metadata": {
        "id": "Uxi6HOU2zZcf"
      },
      "source": [
        "# Vocabulary\n",
        "\n",
        "Now we can instantiate a `CountVectorizer` to generate a vocabulary based on our `miniTrain` data."
      ]
    },
    {
      "cell_type": "code",
      "metadata": {
        "id": "cW48qyHKAxsQ"
      },
      "source": [
        "#Create a vectorizer, create question and target lists, and vectorize train questions\n",
        "vectorizer = CountVectorizer()\n",
        "trainQuestions = miniTrain.question_text.tolist()\n",
        "trainLabels = miniTrain.target.tolist()\n",
        "vTrain = vectorizer.fit_transform(trainQuestions)"
      ],
      "execution_count": 10,
      "outputs": []
    },
    {
      "cell_type": "code",
      "metadata": {
        "colab": {
          "base_uri": "https://localhost:8080/"
        },
        "id": "gR1HEyRWB6ee",
        "outputId": "907074d0-0877-46c6-f9db-ed1f69b6dd03"
      },
      "source": [
        "#What is the vocabulary size, and create a bag of words\n",
        "print(\"vocab size: \", vTrain.shape)\n",
        "bagOfWords = vectorizer.vocabulary_\n",
        "len(bagOfWords)"
      ],
      "execution_count": 11,
      "outputs": [
        {
          "output_type": "stream",
          "text": [
            "vocab size:  (1044897, 173334)\n"
          ],
          "name": "stdout"
        },
        {
          "output_type": "execute_result",
          "data": {
            "text/plain": [
              "173334"
            ]
          },
          "metadata": {
            "tags": []
          },
          "execution_count": 11
        }
      ]
    },
    {
      "cell_type": "code",
      "metadata": {
        "colab": {
          "base_uri": "https://localhost:8080/"
        },
        "id": "YOeJUzNl1tMx",
        "outputId": "b233a57a-81f6-4542-f085-5e1d78821f1f"
      },
      "source": [
        "#Create a logistic regression model and fit to train data\n",
        "lr_clf = LogisticRegression(C=1)\n",
        "lr_clf.fit(vTrain, trainLabels)\n",
        "\n",
        "train_predict = lr_clf.predict(vTrain)\n",
        "train_predict"
      ],
      "execution_count": 12,
      "outputs": [
        {
          "output_type": "stream",
          "text": [
            "/usr/local/lib/python3.7/dist-packages/sklearn/linear_model/_logistic.py:940: ConvergenceWarning: lbfgs failed to converge (status=1):\n",
            "STOP: TOTAL NO. of ITERATIONS REACHED LIMIT.\n",
            "\n",
            "Increase the number of iterations (max_iter) or scale the data as shown in:\n",
            "    https://scikit-learn.org/stable/modules/preprocessing.html\n",
            "Please also refer to the documentation for alternative solver options:\n",
            "    https://scikit-learn.org/stable/modules/linear_model.html#logistic-regression\n",
            "  extra_warning_msg=_LOGISTIC_SOLVER_CONVERGENCE_MSG)\n"
          ],
          "name": "stderr"
        },
        {
          "output_type": "execute_result",
          "data": {
            "text/plain": [
              "array([0, 0, 0, ..., 0, 0, 0])"
            ]
          },
          "metadata": {
            "tags": []
          },
          "execution_count": 12
        }
      ]
    },
    {
      "cell_type": "code",
      "metadata": {
        "colab": {
          "base_uri": "https://localhost:8080/"
        },
        "id": "MQnfF4jZ5Y3E",
        "outputId": "2f225849-5283-420d-c90b-e2f6353d7f10"
      },
      "source": [
        "lr_clf.predict_proba(vTrain)"
      ],
      "execution_count": null,
      "outputs": [
        {
          "output_type": "execute_result",
          "data": {
            "text/plain": [
              "array([[0.98058194, 0.01941806],\n",
              "       [0.68642571, 0.31357429],\n",
              "       [0.9984996 , 0.0015004 ],\n",
              "       ...,\n",
              "       [0.99433734, 0.00566266],\n",
              "       [0.71856399, 0.28143601],\n",
              "       [0.87453048, 0.12546952]])"
            ]
          },
          "metadata": {
            "tags": []
          },
          "execution_count": 13
        }
      ]
    },
    {
      "cell_type": "code",
      "metadata": {
        "colab": {
          "base_uri": "https://localhost:8080/"
        },
        "id": "3ouI9iSe2s-b",
        "outputId": "a42a549e-eec4-45b4-c964-230f37acaa2b"
      },
      "source": [
        "#Give this a try with your own questions, it's good fun!\n",
        "#Try an insincere question. Insincere questions should get a higher probability score to legitimate questions.\n",
        "testQuestionInsincere1 = \"Why are Indians a superior race to Pakistanis?\"\n",
        "\n",
        "vdev = vectorizer.transform([testQuestionInsincere1.lower()])\n",
        "\n",
        "lr_clf.predict_proba(vdev)[0][1]"
      ],
      "execution_count": null,
      "outputs": [
        {
          "output_type": "execute_result",
          "data": {
            "text/plain": [
              "0.948091663155399"
            ]
          },
          "metadata": {
            "tags": []
          },
          "execution_count": 14
        }
      ]
    },
    {
      "cell_type": "code",
      "metadata": {
        "colab": {
          "base_uri": "https://localhost:8080/"
        },
        "id": "DEFuokAWM9LH",
        "outputId": "d705ec6b-7595-4366-866c-680034bbadd7"
      },
      "source": [
        "#Try a sincere question. Sincere questions should get a lower probability score ideally close to zero.\n",
        "testQuestionInsincere2 = \"What are the origins of the conflict between Indians and Pakistanis?\"\n",
        "vdev = vectorizer.transform([testQuestionInsincere2.lower()])\n",
        "\n",
        "lr_clf.predict_proba(vdev)[0][1]"
      ],
      "execution_count": null,
      "outputs": [
        {
          "output_type": "execute_result",
          "data": {
            "text/plain": [
              "0.20721163916364985"
            ]
          },
          "metadata": {
            "tags": []
          },
          "execution_count": 18
        }
      ]
    },
    {
      "cell_type": "code",
      "metadata": {
        "id": "nJtoMgJXSr6D"
      },
      "source": [
        "# #DON'T run this section. It takes too long. I've produced a CSV from the output and you can run from there by loading such CSV in the next block\n",
        "# #Let's predict probability for each question in the miniTest dataframe\n",
        "columnNames = ['question_text', 'pred']\n",
        "predictDF = pd.DataFrame(columns = columnNames)\n",
        "\n",
        "# predictDF[\"question_text\"] = miniTest.question_text\n",
        "# predictDF[\"pred\"] = (predictDF[\"question_text\"].str.lower() \\\n",
        "#                       .apply(list) \\\n",
        "#                       .apply(vectorizer.transform) \\\n",
        "#                       .apply(lr_clf.predict_proba) \\\n",
        "#                       .apply(lambda x: x[0][1]) )\n",
        "\n",
        "# # predictDF[\"vdev\"] = predictDF.q_lower.apply(list).apply(vectorizer.transform)\n",
        "# # predictDF[\"pred\"] = predictDF.vdev.apply(lr_clf.predict_proba).apply(lambda x: x[0][1])\n",
        "# predictDF.head()\n",
        "\n",
        "for question in miniTest.question_text: \n",
        "  vdev = vectorizer.transform([question.lower()])\n",
        "  pred = lr_clf.predict_proba(vdev)[0][1]\n",
        "  predictDF = predictDF.append({'question_text':question,'pred': pred}, ignore_index=True)\n",
        "\n",
        "predictDF.to_csv('predictDF.csv', index=False)"
      ],
      "execution_count": null,
      "outputs": []
    },
    {
      "cell_type": "code",
      "metadata": {
        "colab": {
          "base_uri": "https://localhost:8080/",
          "height": 358
        },
        "id": "7E4KB7U2nWmF",
        "outputId": "0bb2ba4b-89f9-481a-9859-8defdedac926"
      },
      "source": [
        "## DONT RUN THIS - JUST EXPERIMENTING\n",
        "\n",
        "# columnNames = ['question_text', 'pred']\n",
        "# predictDF = pd.DataFrame(columns = columnNames)\n",
        "\n",
        "# predictDF[\"question_text\"] = miniTest.question_text\n",
        "# predictDF[\"q_lower\"] = predictDF[\"question_text\"].str.lower()\n",
        "\n",
        "\n",
        "\n",
        "# mapper = DataFrameMapper([\n",
        "#   ('q_lower', vectorizer)\n",
        "# ])\n",
        "\n",
        "# predictDF = mapper.transform(predictDF)\n",
        "# # predictDF.head()"
      ],
      "execution_count": null,
      "outputs": [
        {
          "output_type": "error",
          "ename": "TypeError",
          "evalue": "ignored",
          "traceback": [
            "\u001b[0;31m---------------------------------------------------------------------------\u001b[0m",
            "\u001b[0;31mTypeError\u001b[0m                                 Traceback (most recent call last)",
            "\u001b[0;32m<ipython-input-61-196fccc15bd4>\u001b[0m in \u001b[0;36m<module>\u001b[0;34m()\u001b[0m\n\u001b[1;32m     11\u001b[0m ])\n\u001b[1;32m     12\u001b[0m \u001b[0;34m\u001b[0m\u001b[0m\n\u001b[0;32m---> 13\u001b[0;31m \u001b[0mpredictDF\u001b[0m \u001b[0;34m=\u001b[0m \u001b[0mmapper\u001b[0m\u001b[0;34m.\u001b[0m\u001b[0mtransform\u001b[0m\u001b[0;34m(\u001b[0m\u001b[0mpredictDF\u001b[0m\u001b[0;34m)\u001b[0m\u001b[0;34m\u001b[0m\u001b[0;34m\u001b[0m\u001b[0m\n\u001b[0m\u001b[1;32m     14\u001b[0m \u001b[0;31m# predictDF.head()\u001b[0m\u001b[0;34m\u001b[0m\u001b[0;34m\u001b[0m\u001b[0;34m\u001b[0m\u001b[0m\n",
            "\u001b[0;32m/usr/local/lib/python3.7/dist-packages/sklearn_pandas/dataframe_mapper.py\u001b[0m in \u001b[0;36mtransform\u001b[0;34m(self, X)\u001b[0m\n\u001b[1;32m    375\u001b[0m         \u001b[0mX\u001b[0m       \u001b[0mthe\u001b[0m \u001b[0mdata\u001b[0m \u001b[0mto\u001b[0m \u001b[0mtransform\u001b[0m\u001b[0;34m\u001b[0m\u001b[0;34m\u001b[0m\u001b[0m\n\u001b[1;32m    376\u001b[0m         \"\"\"\n\u001b[0;32m--> 377\u001b[0;31m         \u001b[0;32mreturn\u001b[0m \u001b[0mself\u001b[0m\u001b[0;34m.\u001b[0m\u001b[0m_transform\u001b[0m\u001b[0;34m(\u001b[0m\u001b[0mX\u001b[0m\u001b[0;34m)\u001b[0m\u001b[0;34m\u001b[0m\u001b[0;34m\u001b[0m\u001b[0m\n\u001b[0m\u001b[1;32m    378\u001b[0m \u001b[0;34m\u001b[0m\u001b[0m\n\u001b[1;32m    379\u001b[0m     \u001b[0;32mdef\u001b[0m \u001b[0mfit_transform\u001b[0m\u001b[0;34m(\u001b[0m\u001b[0mself\u001b[0m\u001b[0;34m,\u001b[0m \u001b[0mX\u001b[0m\u001b[0;34m,\u001b[0m \u001b[0my\u001b[0m\u001b[0;34m=\u001b[0m\u001b[0;32mNone\u001b[0m\u001b[0;34m)\u001b[0m\u001b[0;34m:\u001b[0m\u001b[0;34m\u001b[0m\u001b[0;34m\u001b[0m\u001b[0m\n",
            "\u001b[0;32m/usr/local/lib/python3.7/dist-packages/sklearn_pandas/dataframe_mapper.py\u001b[0m in \u001b[0;36m_transform\u001b[0;34m(self, X, y, do_fit)\u001b[0m\n\u001b[1;32m    290\u001b[0m         \u001b[0mextracted\u001b[0m \u001b[0;34m=\u001b[0m \u001b[0;34m[\u001b[0m\u001b[0;34m]\u001b[0m\u001b[0;34m\u001b[0m\u001b[0;34m\u001b[0m\u001b[0m\n\u001b[1;32m    291\u001b[0m         \u001b[0mself\u001b[0m\u001b[0;34m.\u001b[0m\u001b[0mtransformed_names_\u001b[0m \u001b[0;34m=\u001b[0m \u001b[0;34m[\u001b[0m\u001b[0;34m]\u001b[0m\u001b[0;34m\u001b[0m\u001b[0;34m\u001b[0m\u001b[0m\n\u001b[0;32m--> 292\u001b[0;31m         \u001b[0;32mfor\u001b[0m \u001b[0mcolumns\u001b[0m\u001b[0;34m,\u001b[0m \u001b[0mtransformers\u001b[0m\u001b[0;34m,\u001b[0m \u001b[0moptions\u001b[0m \u001b[0;32min\u001b[0m \u001b[0mself\u001b[0m\u001b[0;34m.\u001b[0m\u001b[0mbuilt_features\u001b[0m\u001b[0;34m:\u001b[0m\u001b[0;34m\u001b[0m\u001b[0;34m\u001b[0m\u001b[0m\n\u001b[0m\u001b[1;32m    293\u001b[0m             \u001b[0minput_df\u001b[0m \u001b[0;34m=\u001b[0m \u001b[0moptions\u001b[0m\u001b[0;34m.\u001b[0m\u001b[0mget\u001b[0m\u001b[0;34m(\u001b[0m\u001b[0;34m'input_df'\u001b[0m\u001b[0;34m,\u001b[0m \u001b[0mself\u001b[0m\u001b[0;34m.\u001b[0m\u001b[0minput_df\u001b[0m\u001b[0;34m)\u001b[0m\u001b[0;34m\u001b[0m\u001b[0;34m\u001b[0m\u001b[0m\n\u001b[1;32m    294\u001b[0m \u001b[0;34m\u001b[0m\u001b[0m\n",
            "\u001b[0;31mTypeError\u001b[0m: 'NoneType' object is not iterable"
          ]
        }
      ]
    },
    {
      "cell_type": "code",
      "metadata": {
        "colab": {
          "base_uri": "https://localhost:8080/",
          "height": 419
        },
        "id": "f0ChirakyZwN",
        "outputId": "2a69924d-fa87-48fb-90dd-1d8ba46e392a"
      },
      "source": [
        "predictDF = pd.read_csv('predictDF.csv')\n",
        "\n",
        "predictDF"
      ],
      "execution_count": null,
      "outputs": [
        {
          "output_type": "execute_result",
          "data": {
            "text/html": [
              "<div>\n",
              "<style scoped>\n",
              "    .dataframe tbody tr th:only-of-type {\n",
              "        vertical-align: middle;\n",
              "    }\n",
              "\n",
              "    .dataframe tbody tr th {\n",
              "        vertical-align: top;\n",
              "    }\n",
              "\n",
              "    .dataframe thead th {\n",
              "        text-align: right;\n",
              "    }\n",
              "</style>\n",
              "<table border=\"1\" class=\"dataframe\">\n",
              "  <thead>\n",
              "    <tr style=\"text-align: right;\">\n",
              "      <th></th>\n",
              "      <th>question_text</th>\n",
              "      <th>pred</th>\n",
              "    </tr>\n",
              "  </thead>\n",
              "  <tbody>\n",
              "    <tr>\n",
              "      <th>0</th>\n",
              "      <td>If you are a marketplace, is it legal to use y...</td>\n",
              "      <td>0.008937</td>\n",
              "    </tr>\n",
              "    <tr>\n",
              "      <th>1</th>\n",
              "      <td>In a vacuum, does a water drop fall free and e...</td>\n",
              "      <td>0.004993</td>\n",
              "    </tr>\n",
              "    <tr>\n",
              "      <th>2</th>\n",
              "      <td>What do you do when the girl you have started ...</td>\n",
              "      <td>0.013679</td>\n",
              "    </tr>\n",
              "    <tr>\n",
              "      <th>3</th>\n",
              "      <td>Was MHTCET engineering conducted before 2016?</td>\n",
              "      <td>0.008991</td>\n",
              "    </tr>\n",
              "    <tr>\n",
              "      <th>4</th>\n",
              "      <td>Is there some inner logic built in the universe?</td>\n",
              "      <td>0.005960</td>\n",
              "    </tr>\n",
              "    <tr>\n",
              "      <th>...</th>\n",
              "      <td>...</td>\n",
              "      <td>...</td>\n",
              "    </tr>\n",
              "    <tr>\n",
              "      <th>261220</th>\n",
              "      <td>What can be the best strategy for building a b...</td>\n",
              "      <td>0.001013</td>\n",
              "    </tr>\n",
              "    <tr>\n",
              "      <th>261221</th>\n",
              "      <td>Can you enter Mumbai domestic airport 8-9 hour...</td>\n",
              "      <td>0.006073</td>\n",
              "    </tr>\n",
              "    <tr>\n",
              "      <th>261222</th>\n",
              "      <td>What is a product old people need and could bu...</td>\n",
              "      <td>0.007697</td>\n",
              "    </tr>\n",
              "    <tr>\n",
              "      <th>261223</th>\n",
              "      <td>Do Pakistanis know the fact that Jinnah, the v...</td>\n",
              "      <td>0.129631</td>\n",
              "    </tr>\n",
              "    <tr>\n",
              "      <th>261224</th>\n",
              "      <td>If the USA were to go to war with Russia, woul...</td>\n",
              "      <td>0.117093</td>\n",
              "    </tr>\n",
              "  </tbody>\n",
              "</table>\n",
              "<p>261225 rows × 2 columns</p>\n",
              "</div>"
            ],
            "text/plain": [
              "                                            question_text      pred\n",
              "0       If you are a marketplace, is it legal to use y...  0.008937\n",
              "1       In a vacuum, does a water drop fall free and e...  0.004993\n",
              "2       What do you do when the girl you have started ...  0.013679\n",
              "3           Was MHTCET engineering conducted before 2016?  0.008991\n",
              "4        Is there some inner logic built in the universe?  0.005960\n",
              "...                                                   ...       ...\n",
              "261220  What can be the best strategy for building a b...  0.001013\n",
              "261221  Can you enter Mumbai domestic airport 8-9 hour...  0.006073\n",
              "261222  What is a product old people need and could bu...  0.007697\n",
              "261223  Do Pakistanis know the fact that Jinnah, the v...  0.129631\n",
              "261224  If the USA were to go to war with Russia, woul...  0.117093\n",
              "\n",
              "[261225 rows x 2 columns]"
            ]
          },
          "metadata": {
            "tags": []
          },
          "execution_count": 63
        }
      ]
    },
    {
      "cell_type": "code",
      "metadata": {
        "colab": {
          "base_uri": "https://localhost:8080/",
          "height": 419
        },
        "id": "4_jrHwuAR00l",
        "outputId": "efbd8442-608f-4c7a-90b5-0fcb1d4684f1"
      },
      "source": [
        "miniTest"
      ],
      "execution_count": null,
      "outputs": [
        {
          "output_type": "execute_result",
          "data": {
            "text/html": [
              "<div>\n",
              "<style scoped>\n",
              "    .dataframe tbody tr th:only-of-type {\n",
              "        vertical-align: middle;\n",
              "    }\n",
              "\n",
              "    .dataframe tbody tr th {\n",
              "        vertical-align: top;\n",
              "    }\n",
              "\n",
              "    .dataframe thead th {\n",
              "        text-align: right;\n",
              "    }\n",
              "</style>\n",
              "<table border=\"1\" class=\"dataframe\">\n",
              "  <thead>\n",
              "    <tr style=\"text-align: right;\">\n",
              "      <th></th>\n",
              "      <th>qid</th>\n",
              "      <th>question_text</th>\n",
              "      <th>target</th>\n",
              "    </tr>\n",
              "  </thead>\n",
              "  <tbody>\n",
              "    <tr>\n",
              "      <th>0</th>\n",
              "      <td>1cd82e247425bc2f0ccc</td>\n",
              "      <td>If you are a marketplace, is it legal to use y...</td>\n",
              "      <td>0</td>\n",
              "    </tr>\n",
              "    <tr>\n",
              "      <th>1</th>\n",
              "      <td>badeae238717453413fd</td>\n",
              "      <td>In a vacuum, does a water drop fall free and e...</td>\n",
              "      <td>0</td>\n",
              "    </tr>\n",
              "    <tr>\n",
              "      <th>2</th>\n",
              "      <td>a07cf954038ccf4d9ba9</td>\n",
              "      <td>What do you do when the girl you have started ...</td>\n",
              "      <td>0</td>\n",
              "    </tr>\n",
              "    <tr>\n",
              "      <th>3</th>\n",
              "      <td>8230e89677a6cd7a460d</td>\n",
              "      <td>Was MHTCET engineering conducted before 2016?</td>\n",
              "      <td>0</td>\n",
              "    </tr>\n",
              "    <tr>\n",
              "      <th>4</th>\n",
              "      <td>4768d464d96b8d60e430</td>\n",
              "      <td>Is there some inner logic built in the universe?</td>\n",
              "      <td>0</td>\n",
              "    </tr>\n",
              "    <tr>\n",
              "      <th>...</th>\n",
              "      <td>...</td>\n",
              "      <td>...</td>\n",
              "      <td>...</td>\n",
              "    </tr>\n",
              "    <tr>\n",
              "      <th>261220</th>\n",
              "      <td>b1c80f3f0751ca815772</td>\n",
              "      <td>What can be the best strategy for building a b...</td>\n",
              "      <td>0</td>\n",
              "    </tr>\n",
              "    <tr>\n",
              "      <th>261221</th>\n",
              "      <td>9f9e42cf1dd98b845c3d</td>\n",
              "      <td>Can you enter Mumbai domestic airport 8-9 hour...</td>\n",
              "      <td>0</td>\n",
              "    </tr>\n",
              "    <tr>\n",
              "      <th>261222</th>\n",
              "      <td>56c11e63f3a8c5b162b7</td>\n",
              "      <td>What is a product old people need and could bu...</td>\n",
              "      <td>0</td>\n",
              "    </tr>\n",
              "    <tr>\n",
              "      <th>261223</th>\n",
              "      <td>ea903eefd8ddd3c0c6a3</td>\n",
              "      <td>Do Pakistanis know the fact that Jinnah, the v...</td>\n",
              "      <td>1</td>\n",
              "    </tr>\n",
              "    <tr>\n",
              "      <th>261224</th>\n",
              "      <td>a81f9d72c6139e808725</td>\n",
              "      <td>If the USA were to go to war with Russia, woul...</td>\n",
              "      <td>0</td>\n",
              "    </tr>\n",
              "  </tbody>\n",
              "</table>\n",
              "<p>261225 rows × 3 columns</p>\n",
              "</div>"
            ],
            "text/plain": [
              "                         qid  ... target\n",
              "0       1cd82e247425bc2f0ccc  ...      0\n",
              "1       badeae238717453413fd  ...      0\n",
              "2       a07cf954038ccf4d9ba9  ...      0\n",
              "3       8230e89677a6cd7a460d  ...      0\n",
              "4       4768d464d96b8d60e430  ...      0\n",
              "...                      ...  ...    ...\n",
              "261220  b1c80f3f0751ca815772  ...      0\n",
              "261221  9f9e42cf1dd98b845c3d  ...      0\n",
              "261222  56c11e63f3a8c5b162b7  ...      0\n",
              "261223  ea903eefd8ddd3c0c6a3  ...      1\n",
              "261224  a81f9d72c6139e808725  ...      0\n",
              "\n",
              "[261225 rows x 3 columns]"
            ]
          },
          "metadata": {
            "tags": []
          },
          "execution_count": 64
        }
      ]
    },
    {
      "cell_type": "code",
      "metadata": {
        "id": "HYWxnHQOX0st"
      },
      "source": [
        "# #Let's see some nasty questions\n",
        "# nastyQuestions = predictDF[predictDF.pred > .9]\n",
        "\n",
        "# nastyQuestions.to_csv('nastyQuestions.csv', index=False)"
      ],
      "execution_count": null,
      "outputs": []
    },
    {
      "cell_type": "code",
      "metadata": {
        "colab": {
          "base_uri": "https://localhost:8080/",
          "height": 419
        },
        "id": "Zr7Bywd1pn_O",
        "outputId": "7d56c78c-0a57-4d48-ee40-6cff8b1cd13e"
      },
      "source": [
        "#Merge predict DF to miniTestDF to produce prediction metrics\n",
        "\n",
        "summaryDF = pd.merge(predictDF,miniTest,on='question_text',how='left')\n",
        "\n",
        "# summaryDF.to_csv('summaryDF.csv', index=False)\n",
        "\n",
        "summaryDF"
      ],
      "execution_count": null,
      "outputs": [
        {
          "output_type": "execute_result",
          "data": {
            "text/html": [
              "<div>\n",
              "<style scoped>\n",
              "    .dataframe tbody tr th:only-of-type {\n",
              "        vertical-align: middle;\n",
              "    }\n",
              "\n",
              "    .dataframe tbody tr th {\n",
              "        vertical-align: top;\n",
              "    }\n",
              "\n",
              "    .dataframe thead th {\n",
              "        text-align: right;\n",
              "    }\n",
              "</style>\n",
              "<table border=\"1\" class=\"dataframe\">\n",
              "  <thead>\n",
              "    <tr style=\"text-align: right;\">\n",
              "      <th></th>\n",
              "      <th>question_text</th>\n",
              "      <th>pred</th>\n",
              "      <th>qid</th>\n",
              "      <th>target</th>\n",
              "    </tr>\n",
              "  </thead>\n",
              "  <tbody>\n",
              "    <tr>\n",
              "      <th>0</th>\n",
              "      <td>If you are a marketplace, is it legal to use y...</td>\n",
              "      <td>0.008937</td>\n",
              "      <td>1cd82e247425bc2f0ccc</td>\n",
              "      <td>0</td>\n",
              "    </tr>\n",
              "    <tr>\n",
              "      <th>1</th>\n",
              "      <td>In a vacuum, does a water drop fall free and e...</td>\n",
              "      <td>0.004993</td>\n",
              "      <td>badeae238717453413fd</td>\n",
              "      <td>0</td>\n",
              "    </tr>\n",
              "    <tr>\n",
              "      <th>2</th>\n",
              "      <td>What do you do when the girl you have started ...</td>\n",
              "      <td>0.013679</td>\n",
              "      <td>a07cf954038ccf4d9ba9</td>\n",
              "      <td>0</td>\n",
              "    </tr>\n",
              "    <tr>\n",
              "      <th>3</th>\n",
              "      <td>Was MHTCET engineering conducted before 2016?</td>\n",
              "      <td>0.008991</td>\n",
              "      <td>8230e89677a6cd7a460d</td>\n",
              "      <td>0</td>\n",
              "    </tr>\n",
              "    <tr>\n",
              "      <th>4</th>\n",
              "      <td>Is there some inner logic built in the universe?</td>\n",
              "      <td>0.005960</td>\n",
              "      <td>4768d464d96b8d60e430</td>\n",
              "      <td>0</td>\n",
              "    </tr>\n",
              "    <tr>\n",
              "      <th>...</th>\n",
              "      <td>...</td>\n",
              "      <td>...</td>\n",
              "      <td>...</td>\n",
              "      <td>...</td>\n",
              "    </tr>\n",
              "    <tr>\n",
              "      <th>261220</th>\n",
              "      <td>What can be the best strategy for building a b...</td>\n",
              "      <td>0.001013</td>\n",
              "      <td>b1c80f3f0751ca815772</td>\n",
              "      <td>0</td>\n",
              "    </tr>\n",
              "    <tr>\n",
              "      <th>261221</th>\n",
              "      <td>Can you enter Mumbai domestic airport 8-9 hour...</td>\n",
              "      <td>0.006073</td>\n",
              "      <td>9f9e42cf1dd98b845c3d</td>\n",
              "      <td>0</td>\n",
              "    </tr>\n",
              "    <tr>\n",
              "      <th>261222</th>\n",
              "      <td>What is a product old people need and could bu...</td>\n",
              "      <td>0.007697</td>\n",
              "      <td>56c11e63f3a8c5b162b7</td>\n",
              "      <td>0</td>\n",
              "    </tr>\n",
              "    <tr>\n",
              "      <th>261223</th>\n",
              "      <td>Do Pakistanis know the fact that Jinnah, the v...</td>\n",
              "      <td>0.129631</td>\n",
              "      <td>ea903eefd8ddd3c0c6a3</td>\n",
              "      <td>1</td>\n",
              "    </tr>\n",
              "    <tr>\n",
              "      <th>261224</th>\n",
              "      <td>If the USA were to go to war with Russia, woul...</td>\n",
              "      <td>0.117093</td>\n",
              "      <td>a81f9d72c6139e808725</td>\n",
              "      <td>0</td>\n",
              "    </tr>\n",
              "  </tbody>\n",
              "</table>\n",
              "<p>261225 rows × 4 columns</p>\n",
              "</div>"
            ],
            "text/plain": [
              "                                            question_text  ...  target\n",
              "0       If you are a marketplace, is it legal to use y...  ...       0\n",
              "1       In a vacuum, does a water drop fall free and e...  ...       0\n",
              "2       What do you do when the girl you have started ...  ...       0\n",
              "3           Was MHTCET engineering conducted before 2016?  ...       0\n",
              "4        Is there some inner logic built in the universe?  ...       0\n",
              "...                                                   ...  ...     ...\n",
              "261220  What can be the best strategy for building a b...  ...       0\n",
              "261221  Can you enter Mumbai domestic airport 8-9 hour...  ...       0\n",
              "261222  What is a product old people need and could bu...  ...       0\n",
              "261223  Do Pakistanis know the fact that Jinnah, the v...  ...       1\n",
              "261224  If the USA were to go to war with Russia, woul...  ...       0\n",
              "\n",
              "[261225 rows x 4 columns]"
            ]
          },
          "metadata": {
            "tags": []
          },
          "execution_count": 65
        }
      ]
    },
    {
      "cell_type": "code",
      "metadata": {
        "colab": {
          "base_uri": "https://localhost:8080/",
          "height": 541
        },
        "id": "6STZcnAfqgiO",
        "outputId": "185751c5-cdfb-4440-8b22-6b4799dbc1f5"
      },
      "source": [
        "confusionMatrixDF = summaryDF[['pred', 'target']]\n",
        "\n",
        "#Tried -by hand- values between 0.5:1.0 and 0.2 produced the best F1 score\n",
        "\n",
        "confusionMatrixDF['pred'] = np.where(confusionMatrixDF['pred'] > 0.2, 1, 0)\n",
        "\n",
        "confusionMatrixDF"
      ],
      "execution_count": null,
      "outputs": [
        {
          "output_type": "stream",
          "text": [
            "/usr/local/lib/python3.7/dist-packages/ipykernel_launcher.py:5: SettingWithCopyWarning: \n",
            "A value is trying to be set on a copy of a slice from a DataFrame.\n",
            "Try using .loc[row_indexer,col_indexer] = value instead\n",
            "\n",
            "See the caveats in the documentation: https://pandas.pydata.org/pandas-docs/stable/user_guide/indexing.html#returning-a-view-versus-a-copy\n",
            "  \"\"\"\n"
          ],
          "name": "stderr"
        },
        {
          "output_type": "execute_result",
          "data": {
            "text/html": [
              "<div>\n",
              "<style scoped>\n",
              "    .dataframe tbody tr th:only-of-type {\n",
              "        vertical-align: middle;\n",
              "    }\n",
              "\n",
              "    .dataframe tbody tr th {\n",
              "        vertical-align: top;\n",
              "    }\n",
              "\n",
              "    .dataframe thead th {\n",
              "        text-align: right;\n",
              "    }\n",
              "</style>\n",
              "<table border=\"1\" class=\"dataframe\">\n",
              "  <thead>\n",
              "    <tr style=\"text-align: right;\">\n",
              "      <th></th>\n",
              "      <th>pred</th>\n",
              "      <th>target</th>\n",
              "    </tr>\n",
              "  </thead>\n",
              "  <tbody>\n",
              "    <tr>\n",
              "      <th>0</th>\n",
              "      <td>0</td>\n",
              "      <td>0</td>\n",
              "    </tr>\n",
              "    <tr>\n",
              "      <th>1</th>\n",
              "      <td>0</td>\n",
              "      <td>0</td>\n",
              "    </tr>\n",
              "    <tr>\n",
              "      <th>2</th>\n",
              "      <td>0</td>\n",
              "      <td>0</td>\n",
              "    </tr>\n",
              "    <tr>\n",
              "      <th>3</th>\n",
              "      <td>0</td>\n",
              "      <td>0</td>\n",
              "    </tr>\n",
              "    <tr>\n",
              "      <th>4</th>\n",
              "      <td>0</td>\n",
              "      <td>0</td>\n",
              "    </tr>\n",
              "    <tr>\n",
              "      <th>...</th>\n",
              "      <td>...</td>\n",
              "      <td>...</td>\n",
              "    </tr>\n",
              "    <tr>\n",
              "      <th>261220</th>\n",
              "      <td>0</td>\n",
              "      <td>0</td>\n",
              "    </tr>\n",
              "    <tr>\n",
              "      <th>261221</th>\n",
              "      <td>0</td>\n",
              "      <td>0</td>\n",
              "    </tr>\n",
              "    <tr>\n",
              "      <th>261222</th>\n",
              "      <td>0</td>\n",
              "      <td>0</td>\n",
              "    </tr>\n",
              "    <tr>\n",
              "      <th>261223</th>\n",
              "      <td>0</td>\n",
              "      <td>1</td>\n",
              "    </tr>\n",
              "    <tr>\n",
              "      <th>261224</th>\n",
              "      <td>0</td>\n",
              "      <td>0</td>\n",
              "    </tr>\n",
              "  </tbody>\n",
              "</table>\n",
              "<p>261225 rows × 2 columns</p>\n",
              "</div>"
            ],
            "text/plain": [
              "        pred  target\n",
              "0          0       0\n",
              "1          0       0\n",
              "2          0       0\n",
              "3          0       0\n",
              "4          0       0\n",
              "...      ...     ...\n",
              "261220     0       0\n",
              "261221     0       0\n",
              "261222     0       0\n",
              "261223     0       1\n",
              "261224     0       0\n",
              "\n",
              "[261225 rows x 2 columns]"
            ]
          },
          "metadata": {
            "tags": []
          },
          "execution_count": 66
        }
      ]
    },
    {
      "cell_type": "code",
      "metadata": {
        "colab": {
          "base_uri": "https://localhost:8080/"
        },
        "id": "6ESZngIW38pd",
        "outputId": "3219148b-b96b-4348-b8c4-c1ad190658fa"
      },
      "source": [
        "#Compute baseline F1 Score (and other metrics)\n",
        "confusionMatrixDF\n",
        " \n",
        "print('Accuracy:', accuracy_score(confusionMatrixDF.target, confusionMatrixDF.pred))\n",
        "print('F1 score:', f1_score(confusionMatrixDF.target, confusionMatrixDF.pred))\n",
        "print('Recall:', recall_score(confusionMatrixDF.target, confusionMatrixDF.pred))\n",
        "print('Precision:', precision_score(confusionMatrixDF.target, confusionMatrixDF.pred))\n",
        "print('\\n Clasification report:\\n', classification_report(confusionMatrixDF.target,confusionMatrixDF.pred))\n",
        "print('\\n Confussion matrix:\\n',confusion_matrix(confusionMatrixDF.target, confusionMatrixDF.pred))"
      ],
      "execution_count": null,
      "outputs": [
        {
          "output_type": "stream",
          "text": [
            "Accuracy: 0.950502440424921\n",
            "F1 score: 0.6518390866497926\n",
            "Recall: 0.7448157036490062\n",
            "Precision: 0.57949921003495\n",
            "\n",
            " Clasification report:\n",
            "               precision    recall  f1-score   support\n",
            "\n",
            "           0       0.98      0.96      0.97    244974\n",
            "           1       0.58      0.74      0.65     16251\n",
            "\n",
            "    accuracy                           0.95    261225\n",
            "   macro avg       0.78      0.85      0.81    261225\n",
            "weighted avg       0.96      0.95      0.95    261225\n",
            "\n",
            "\n",
            " Confussion matrix:\n",
            " [[236191   8783]\n",
            " [  4147  12104]]\n"
          ],
          "name": "stdout"
        }
      ]
    }
  ]
}