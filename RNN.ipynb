{
  "nbformat": 4,
  "nbformat_minor": 0,
  "metadata": {
    "accelerator": "GPU",
    "colab": {
      "name": "RNN.ipynb",
      "provenance": [],
      "collapsed_sections": []
    },
    "kernelspec": {
      "display_name": "Python 3",
      "language": "python",
      "name": "python3"
    },
    "language_info": {
      "codemirror_mode": {
        "name": "ipython",
        "version": 3
      },
      "file_extension": ".py",
      "mimetype": "text/x-python",
      "name": "python",
      "nbconvert_exporter": "python",
      "pygments_lexer": "ipython3",
      "version": "3.8.3"
    }
  },
  "cells": [
    {
      "cell_type": "markdown",
      "metadata": {
        "id": "iDo9bwz8QArK"
      },
      "source": [
        "# Project 2 - Neural Net\n",
        "\n",
        "Since we've already seen how well a linear classifier works ($\\text{F1}_{\\text{insincere}} = 62\\%$), we can now start trying to improve our score with other models. \n",
        "\n",
        "In this notebook we will work with various neural networks.\n",
        "\n"
      ]
    },
    {
      "cell_type": "markdown",
      "metadata": {
        "id": "e3kNdFswXWw0"
      },
      "source": [
        " ### *NOTE: IT IS __STRONGLY__ RECOMMENDED YOU RUN THIS NOTEBOOK IN A CONTEXT THAT HAS AN AVAILABLE GPU OR TPU*"
      ]
    },
    {
      "cell_type": "markdown",
      "metadata": {
        "id": "9NYPkw21y3Lz"
      },
      "source": [
        "# Load Data and Import Libraries\n",
        "\n",
        "Similarly to the baseline, we can import the data to our workbook.\n",
        "\n",
        "\n"
      ]
    },
    {
      "cell_type": "code",
      "metadata": {
        "id": "XyjvpQvqqNOf"
      },
      "source": [
        "#Import Libraries\n",
        "import os\n",
        "import pandas as pd\n",
        "import matplotlib.pyplot as plt\n",
        "from sklearn.feature_extraction.text import CountVectorizer\n",
        "import numpy as np\n",
        "from sklearn.model_selection import train_test_split\n",
        "from sklearn.metrics import precision_score, \\\n",
        "    recall_score, confusion_matrix, classification_report, \\\n",
        "    accuracy_score, f1_score, plot_confusion_matrix\n",
        "import tensorflow as tf\n",
        "from tensorflow import keras\n",
        "from tensorflow.keras import layers\n",
        "# from sklearn_pandas import DataFrameMapper\n",
        "# from imblearn.under_sampling import RandomUnderSampler\n",
        "# from imblearn.over_sampling import SMOTE \n",
        "import csv\n",
        "import random"
      ],
      "execution_count": 1,
      "outputs": []
    },
    {
      "cell_type": "code",
      "metadata": {
        "colab": {
          "base_uri": "https://localhost:8080/"
        },
        "id": "bC76f9_IXWw1",
        "outputId": "a8be9756-2e34-4e80-82c8-88e1da3609fa"
      },
      "source": [
        "!pip install tensorflow"
      ],
      "execution_count": 2,
      "outputs": [
        {
          "output_type": "stream",
          "text": [
            "Requirement already satisfied: tensorflow in /usr/local/lib/python3.7/dist-packages (2.5.0)\n",
            "Requirement already satisfied: gast==0.4.0 in /usr/local/lib/python3.7/dist-packages (from tensorflow) (0.4.0)\n",
            "Requirement already satisfied: keras-preprocessing~=1.1.2 in /usr/local/lib/python3.7/dist-packages (from tensorflow) (1.1.2)\n",
            "Requirement already satisfied: six~=1.15.0 in /usr/local/lib/python3.7/dist-packages (from tensorflow) (1.15.0)\n",
            "Requirement already satisfied: numpy~=1.19.2 in /usr/local/lib/python3.7/dist-packages (from tensorflow) (1.19.5)\n",
            "Requirement already satisfied: wheel~=0.35 in /usr/local/lib/python3.7/dist-packages (from tensorflow) (0.36.2)\n",
            "Requirement already satisfied: tensorboard~=2.5 in /usr/local/lib/python3.7/dist-packages (from tensorflow) (2.5.0)\n",
            "Requirement already satisfied: tensorflow-estimator<2.6.0,>=2.5.0rc0 in /usr/local/lib/python3.7/dist-packages (from tensorflow) (2.5.0)\n",
            "Requirement already satisfied: astunparse~=1.6.3 in /usr/local/lib/python3.7/dist-packages (from tensorflow) (1.6.3)\n",
            "Requirement already satisfied: google-pasta~=0.2 in /usr/local/lib/python3.7/dist-packages (from tensorflow) (0.2.0)\n",
            "Requirement already satisfied: protobuf>=3.9.2 in /usr/local/lib/python3.7/dist-packages (from tensorflow) (3.17.3)\n",
            "Requirement already satisfied: grpcio~=1.34.0 in /usr/local/lib/python3.7/dist-packages (from tensorflow) (1.34.1)\n",
            "Requirement already satisfied: flatbuffers~=1.12.0 in /usr/local/lib/python3.7/dist-packages (from tensorflow) (1.12)\n",
            "Requirement already satisfied: h5py~=3.1.0 in /usr/local/lib/python3.7/dist-packages (from tensorflow) (3.1.0)\n",
            "Requirement already satisfied: termcolor~=1.1.0 in /usr/local/lib/python3.7/dist-packages (from tensorflow) (1.1.0)\n",
            "Requirement already satisfied: wrapt~=1.12.1 in /usr/local/lib/python3.7/dist-packages (from tensorflow) (1.12.1)\n",
            "Requirement already satisfied: opt-einsum~=3.3.0 in /usr/local/lib/python3.7/dist-packages (from tensorflow) (3.3.0)\n",
            "Requirement already satisfied: absl-py~=0.10 in /usr/local/lib/python3.7/dist-packages (from tensorflow) (0.12.0)\n",
            "Requirement already satisfied: keras-nightly~=2.5.0.dev in /usr/local/lib/python3.7/dist-packages (from tensorflow) (2.5.0.dev2021032900)\n",
            "Requirement already satisfied: typing-extensions~=3.7.4 in /usr/local/lib/python3.7/dist-packages (from tensorflow) (3.7.4.3)\n",
            "Requirement already satisfied: cached-property in /usr/local/lib/python3.7/dist-packages (from h5py~=3.1.0->tensorflow) (1.5.2)\n",
            "Requirement already satisfied: google-auth-oauthlib<0.5,>=0.4.1 in /usr/local/lib/python3.7/dist-packages (from tensorboard~=2.5->tensorflow) (0.4.4)\n",
            "Requirement already satisfied: markdown>=2.6.8 in /usr/local/lib/python3.7/dist-packages (from tensorboard~=2.5->tensorflow) (3.3.4)\n",
            "Requirement already satisfied: tensorboard-plugin-wit>=1.6.0 in /usr/local/lib/python3.7/dist-packages (from tensorboard~=2.5->tensorflow) (1.8.0)\n",
            "Requirement already satisfied: requests<3,>=2.21.0 in /usr/local/lib/python3.7/dist-packages (from tensorboard~=2.5->tensorflow) (2.23.0)\n",
            "Requirement already satisfied: tensorboard-data-server<0.7.0,>=0.6.0 in /usr/local/lib/python3.7/dist-packages (from tensorboard~=2.5->tensorflow) (0.6.1)\n",
            "Requirement already satisfied: werkzeug>=0.11.15 in /usr/local/lib/python3.7/dist-packages (from tensorboard~=2.5->tensorflow) (1.0.1)\n",
            "Requirement already satisfied: setuptools>=41.0.0 in /usr/local/lib/python3.7/dist-packages (from tensorboard~=2.5->tensorflow) (57.2.0)\n",
            "Requirement already satisfied: google-auth<2,>=1.6.3 in /usr/local/lib/python3.7/dist-packages (from tensorboard~=2.5->tensorflow) (1.32.1)\n",
            "Requirement already satisfied: pyasn1-modules>=0.2.1 in /usr/local/lib/python3.7/dist-packages (from google-auth<2,>=1.6.3->tensorboard~=2.5->tensorflow) (0.2.8)\n",
            "Requirement already satisfied: cachetools<5.0,>=2.0.0 in /usr/local/lib/python3.7/dist-packages (from google-auth<2,>=1.6.3->tensorboard~=2.5->tensorflow) (4.2.2)\n",
            "Requirement already satisfied: rsa<5,>=3.1.4 in /usr/local/lib/python3.7/dist-packages (from google-auth<2,>=1.6.3->tensorboard~=2.5->tensorflow) (4.7.2)\n",
            "Requirement already satisfied: requests-oauthlib>=0.7.0 in /usr/local/lib/python3.7/dist-packages (from google-auth-oauthlib<0.5,>=0.4.1->tensorboard~=2.5->tensorflow) (1.3.0)\n",
            "Requirement already satisfied: importlib-metadata in /usr/local/lib/python3.7/dist-packages (from markdown>=2.6.8->tensorboard~=2.5->tensorflow) (4.6.1)\n",
            "Requirement already satisfied: pyasn1<0.5.0,>=0.4.6 in /usr/local/lib/python3.7/dist-packages (from pyasn1-modules>=0.2.1->google-auth<2,>=1.6.3->tensorboard~=2.5->tensorflow) (0.4.8)\n",
            "Requirement already satisfied: certifi>=2017.4.17 in /usr/local/lib/python3.7/dist-packages (from requests<3,>=2.21.0->tensorboard~=2.5->tensorflow) (2021.5.30)\n",
            "Requirement already satisfied: idna<3,>=2.5 in /usr/local/lib/python3.7/dist-packages (from requests<3,>=2.21.0->tensorboard~=2.5->tensorflow) (2.10)\n",
            "Requirement already satisfied: chardet<4,>=3.0.2 in /usr/local/lib/python3.7/dist-packages (from requests<3,>=2.21.0->tensorboard~=2.5->tensorflow) (3.0.4)\n",
            "Requirement already satisfied: urllib3!=1.25.0,!=1.25.1,<1.26,>=1.21.1 in /usr/local/lib/python3.7/dist-packages (from requests<3,>=2.21.0->tensorboard~=2.5->tensorflow) (1.24.3)\n",
            "Requirement already satisfied: oauthlib>=3.0.0 in /usr/local/lib/python3.7/dist-packages (from requests-oauthlib>=0.7.0->google-auth-oauthlib<0.5,>=0.4.1->tensorboard~=2.5->tensorflow) (3.1.1)\n",
            "Requirement already satisfied: zipp>=0.5 in /usr/local/lib/python3.7/dist-packages (from importlib-metadata->markdown>=2.6.8->tensorboard~=2.5->tensorflow) (3.5.0)\n"
          ],
          "name": "stdout"
        }
      ]
    },
    {
      "cell_type": "code",
      "metadata": {
        "id": "0bnFJA_9xJOF"
      },
      "source": [
        "4# Code to read csv file from Google Drive into Colaboratory:\n",
        "!pip install -U -q PyDrive\n",
        "from pydrive.auth import GoogleAuth\n",
        "from pydrive.drive import GoogleDrive\n",
        "from google.colab import auth\n",
        "from oauth2client.client import GoogleCredentials\n",
        "# Authenticate and create the PyDrive client.\n",
        "auth.authenticate_user()\n",
        "gauth = GoogleAuth()\n",
        "gauth.credentials = GoogleCredentials.get_application_default()\n",
        "drive = GoogleDrive(gauth)"
      ],
      "execution_count": 42,
      "outputs": []
    },
    {
      "cell_type": "code",
      "metadata": {
        "colab": {
          "base_uri": "https://localhost:8080/",
          "height": 351
        },
        "id": "esFZozaGYCLc",
        "outputId": "eab24e83-0c2d-4efb-d7e1-4a60ec142910"
      },
      "source": [
        "#Load data\n",
        "def downloadData(id, name):\n",
        "  downloaded = drive.CreateFile({'id':id}) \n",
        "  downloaded.GetContentFile(name)  \n",
        "\n",
        "downloadData('13NWt_psgp8p559FOslMsBKPkZixYPH2b', 'train.tsv')\n",
        "downloadData('12R3DJeN-4-En2zV5P3DR6h7r1y-Uboad', 'test.tsv')\n",
        "downloadData('1XOzwsN7KH0R3ju-Ug2TQUd0HEFu2swst', 'dev.tsv')"
      ],
      "execution_count": 54,
      "outputs": [
        {
          "output_type": "error",
          "ename": "AttributeError",
          "evalue": "ignored",
          "traceback": [
            "\u001b[0;31m---------------------------------------------------------------------------\u001b[0m",
            "\u001b[0;31mAttributeError\u001b[0m                            Traceback (most recent call last)",
            "\u001b[0;32m<ipython-input-54-bd87d81e3b2d>\u001b[0m in \u001b[0;36m<module>\u001b[0;34m()\u001b[0m\n\u001b[1;32m      4\u001b[0m   \u001b[0mdownloaded\u001b[0m\u001b[0;34m.\u001b[0m\u001b[0mGetContentFile\u001b[0m\u001b[0;34m(\u001b[0m\u001b[0mname\u001b[0m\u001b[0;34m)\u001b[0m\u001b[0;34m\u001b[0m\u001b[0;34m\u001b[0m\u001b[0m\n\u001b[1;32m      5\u001b[0m \u001b[0;34m\u001b[0m\u001b[0m\n\u001b[0;32m----> 6\u001b[0;31m \u001b[0mdownloadData\u001b[0m\u001b[0;34m(\u001b[0m\u001b[0;34m'13NWt_psgp8p559FOslMsBKPkZixYPH2b'\u001b[0m\u001b[0;34m,\u001b[0m \u001b[0;34m'train.tsv'\u001b[0m\u001b[0;34m)\u001b[0m\u001b[0;34m\u001b[0m\u001b[0;34m\u001b[0m\u001b[0m\n\u001b[0m\u001b[1;32m      7\u001b[0m \u001b[0mdownloadData\u001b[0m\u001b[0;34m(\u001b[0m\u001b[0;34m'12R3DJeN-4-En2zV5P3DR6h7r1y-Uboad'\u001b[0m\u001b[0;34m,\u001b[0m \u001b[0;34m'test.tsv'\u001b[0m\u001b[0;34m)\u001b[0m\u001b[0;34m\u001b[0m\u001b[0;34m\u001b[0m\u001b[0m\n\u001b[1;32m      8\u001b[0m \u001b[0mdownloadData\u001b[0m\u001b[0;34m(\u001b[0m\u001b[0;34m'1XOzwsN7KH0R3ju-Ug2TQUd0HEFu2swst'\u001b[0m\u001b[0;34m,\u001b[0m \u001b[0;34m'dev.tsv'\u001b[0m\u001b[0;34m)\u001b[0m\u001b[0;34m\u001b[0m\u001b[0;34m\u001b[0m\u001b[0m\n",
            "\u001b[0;32m<ipython-input-54-bd87d81e3b2d>\u001b[0m in \u001b[0;36mdownloadData\u001b[0;34m(id, name)\u001b[0m\n\u001b[1;32m      1\u001b[0m \u001b[0;31m#Load data\u001b[0m\u001b[0;34m\u001b[0m\u001b[0;34m\u001b[0m\u001b[0;34m\u001b[0m\u001b[0m\n\u001b[1;32m      2\u001b[0m \u001b[0;32mdef\u001b[0m \u001b[0mdownloadData\u001b[0m\u001b[0;34m(\u001b[0m\u001b[0mid\u001b[0m\u001b[0;34m,\u001b[0m \u001b[0mname\u001b[0m\u001b[0;34m)\u001b[0m\u001b[0;34m:\u001b[0m\u001b[0;34m\u001b[0m\u001b[0;34m\u001b[0m\u001b[0m\n\u001b[0;32m----> 3\u001b[0;31m   \u001b[0mdownloaded\u001b[0m \u001b[0;34m=\u001b[0m \u001b[0mdrive\u001b[0m\u001b[0;34m.\u001b[0m\u001b[0mCreateFile\u001b[0m\u001b[0;34m(\u001b[0m\u001b[0;34m{\u001b[0m\u001b[0;34m'id'\u001b[0m\u001b[0;34m:\u001b[0m\u001b[0mid\u001b[0m\u001b[0;34m}\u001b[0m\u001b[0;34m)\u001b[0m\u001b[0;34m\u001b[0m\u001b[0;34m\u001b[0m\u001b[0m\n\u001b[0m\u001b[1;32m      4\u001b[0m   \u001b[0mdownloaded\u001b[0m\u001b[0;34m.\u001b[0m\u001b[0mGetContentFile\u001b[0m\u001b[0;34m(\u001b[0m\u001b[0mname\u001b[0m\u001b[0;34m)\u001b[0m\u001b[0;34m\u001b[0m\u001b[0;34m\u001b[0m\u001b[0m\n\u001b[1;32m      5\u001b[0m \u001b[0;34m\u001b[0m\u001b[0m\n",
            "\u001b[0;31mAttributeError\u001b[0m: module 'google.colab.drive' has no attribute 'CreateFile'"
          ]
        }
      ]
    },
    {
      "cell_type": "code",
      "metadata": {
        "id": "w_HS-FvNabnr"
      },
      "source": [
        "columns = [\n",
        "    \"id\",\n",
        "    \"label\",\n",
        "    \"alpha\",\n",
        "    \"text\"\n",
        "]\n",
        "\n",
        "train = pd.read_csv(\"train.tsv\", names=columns, sep=\"\\t\")\n",
        "dev = pd.read_csv(\"dev.tsv\", names=columns, sep=\"\\t\")\n",
        "test = pd.read_csv(\"test.tsv\", names=columns, sep=\"\\t\")"
      ],
      "execution_count": 55,
      "outputs": []
    },
    {
      "cell_type": "code",
      "metadata": {
        "colab": {
          "base_uri": "https://localhost:8080/",
          "height": 419
        },
        "id": "IpZ37Ta1XWw4",
        "outputId": "c4d38e15-0e06-41d2-be34-8dcc1cd5017d"
      },
      "source": [
        "dev"
      ],
      "execution_count": 48,
      "outputs": [
        {
          "output_type": "execute_result",
          "data": {
            "text/html": [
              "<div>\n",
              "<style scoped>\n",
              "    .dataframe tbody tr th:only-of-type {\n",
              "        vertical-align: middle;\n",
              "    }\n",
              "\n",
              "    .dataframe tbody tr th {\n",
              "        vertical-align: top;\n",
              "    }\n",
              "\n",
              "    .dataframe thead th {\n",
              "        text-align: right;\n",
              "    }\n",
              "</style>\n",
              "<table border=\"1\" class=\"dataframe\">\n",
              "  <thead>\n",
              "    <tr style=\"text-align: right;\">\n",
              "      <th></th>\n",
              "      <th>id</th>\n",
              "      <th>label</th>\n",
              "      <th>alpha</th>\n",
              "      <th>text</th>\n",
              "    </tr>\n",
              "  </thead>\n",
              "  <tbody>\n",
              "    <tr>\n",
              "      <th>0</th>\n",
              "      <td>0</td>\n",
              "      <td>1</td>\n",
              "      <td>a</td>\n",
              "      <td>Where can I find best romantic shayaris?</td>\n",
              "    </tr>\n",
              "    <tr>\n",
              "      <th>1</th>\n",
              "      <td>1</td>\n",
              "      <td>0</td>\n",
              "      <td>a</td>\n",
              "      <td>When we check the UPSC rank list; many of the ...</td>\n",
              "    </tr>\n",
              "    <tr>\n",
              "      <th>2</th>\n",
              "      <td>2</td>\n",
              "      <td>0</td>\n",
              "      <td>a</td>\n",
              "      <td>Is there is any web site to create search engi...</td>\n",
              "    </tr>\n",
              "    <tr>\n",
              "      <th>3</th>\n",
              "      <td>3</td>\n",
              "      <td>0</td>\n",
              "      <td>a</td>\n",
              "      <td>How can you earn $50 just clicking ads?</td>\n",
              "    </tr>\n",
              "    <tr>\n",
              "      <th>4</th>\n",
              "      <td>4</td>\n",
              "      <td>0</td>\n",
              "      <td>a</td>\n",
              "      <td>Which 3 branches of engineering have the most ...</td>\n",
              "    </tr>\n",
              "    <tr>\n",
              "      <th>...</th>\n",
              "      <td>...</td>\n",
              "      <td>...</td>\n",
              "      <td>...</td>\n",
              "      <td>...</td>\n",
              "    </tr>\n",
              "    <tr>\n",
              "      <th>130608</th>\n",
              "      <td>130608</td>\n",
              "      <td>0</td>\n",
              "      <td>a</td>\n",
              "      <td>How can the ViewSonic PA503S 3600 lumens SVGA ...</td>\n",
              "    </tr>\n",
              "    <tr>\n",
              "      <th>130609</th>\n",
              "      <td>130609</td>\n",
              "      <td>0</td>\n",
              "      <td>a</td>\n",
              "      <td>What are the biggest myths about Adolf Hitler?</td>\n",
              "    </tr>\n",
              "    <tr>\n",
              "      <th>130610</th>\n",
              "      <td>130610</td>\n",
              "      <td>0</td>\n",
              "      <td>a</td>\n",
              "      <td>What song played in the movie of the gifted wh...</td>\n",
              "    </tr>\n",
              "    <tr>\n",
              "      <th>130611</th>\n",
              "      <td>130611</td>\n",
              "      <td>0</td>\n",
              "      <td>a</td>\n",
              "      <td>What do Socrates, Thomas Kuhn and Karl Popper ...</td>\n",
              "    </tr>\n",
              "    <tr>\n",
              "      <th>130612</th>\n",
              "      <td>130612</td>\n",
              "      <td>0</td>\n",
              "      <td>a</td>\n",
              "      <td>I feel something missing in my relationship. I...</td>\n",
              "    </tr>\n",
              "  </tbody>\n",
              "</table>\n",
              "<p>130613 rows × 4 columns</p>\n",
              "</div>"
            ],
            "text/plain": [
              "            id  label alpha                                               text\n",
              "0            0      1     a           Where can I find best romantic shayaris?\n",
              "1            1      0     a  When we check the UPSC rank list; many of the ...\n",
              "2            2      0     a  Is there is any web site to create search engi...\n",
              "3            3      0     a            How can you earn $50 just clicking ads?\n",
              "4            4      0     a  Which 3 branches of engineering have the most ...\n",
              "...        ...    ...   ...                                                ...\n",
              "130608  130608      0     a  How can the ViewSonic PA503S 3600 lumens SVGA ...\n",
              "130609  130609      0     a     What are the biggest myths about Adolf Hitler?\n",
              "130610  130610      0     a  What song played in the movie of the gifted wh...\n",
              "130611  130611      0     a  What do Socrates, Thomas Kuhn and Karl Popper ...\n",
              "130612  130612      0     a  I feel something missing in my relationship. I...\n",
              "\n",
              "[130613 rows x 4 columns]"
            ]
          },
          "metadata": {
            "tags": []
          },
          "execution_count": 48
        }
      ]
    },
    {
      "cell_type": "code",
      "metadata": {
        "colab": {
          "base_uri": "https://localhost:8080/"
        },
        "id": "N_aeJ7fIKbOB",
        "outputId": "c621f0d4-d89b-4efc-e912-753965f58a75"
      },
      "source": [
        "from imblearn.over_sampling import RandomOverSampler \n",
        "rus = RandomOverSampler()\n",
        "print(len(train))\n",
        "print(train['label'].shape)\n",
        "train_os, train_os_lab = rus.fit_resample(train, train.label)\n",
        "print(len(train_os))\n",
        "train_os\n"
      ],
      "execution_count": 7,
      "outputs": [
        {
          "output_type": "stream",
          "text": [
            "/usr/local/lib/python3.7/dist-packages/sklearn/externals/six.py:31: FutureWarning: The module is deprecated in version 0.21 and will be removed in version 0.23 since we've dropped support for Python 2.7. Please rely on the official version of six (https://pypi.org/project/six/).\n",
            "  \"(https://pypi.org/project/six/).\", FutureWarning)\n",
            "/usr/local/lib/python3.7/dist-packages/sklearn/utils/deprecation.py:144: FutureWarning: The sklearn.neighbors.base module is  deprecated in version 0.22 and will be removed in version 0.24. The corresponding classes / functions should instead be imported from sklearn.neighbors. Anything that cannot be imported from sklearn.neighbors is now part of the private API.\n",
            "  warnings.warn(message, FutureWarning)\n"
          ],
          "name": "stderr"
        },
        {
          "output_type": "stream",
          "text": [
            "1044897\n",
            "(1044897,)\n"
          ],
          "name": "stdout"
        },
        {
          "output_type": "stream",
          "text": [
            "/usr/local/lib/python3.7/dist-packages/sklearn/utils/deprecation.py:87: FutureWarning: Function safe_indexing is deprecated; safe_indexing is deprecated in version 0.22 and will be removed in version 0.24.\n",
            "  warnings.warn(msg, category=FutureWarning)\n"
          ],
          "name": "stderr"
        },
        {
          "output_type": "stream",
          "text": [
            "1960790\n"
          ],
          "name": "stdout"
        },
        {
          "output_type": "execute_result",
          "data": {
            "text/plain": [
              "array([[0, 0, 'a',\n",
              "        'What is the most effective classroom management skill/technique to create a good learning environment?'],\n",
              "       [1, 0, 'a',\n",
              "        'Can I study abroad after 10th class from Bangladesh?'],\n",
              "       [2, 0, 'a', 'How can I make friends as a college junior?'],\n",
              "       ...,\n",
              "       [480080, 1, 'a',\n",
              "        'Why do Turkish people insist on letting Europeans listen to their music which sounds pretty ugly and Balkan/Arabic to us?'],\n",
              "       [270077, 1, 'a',\n",
              "        'Why do right wingers seem so cruel and callous?'],\n",
              "       [569174, 1, 'a',\n",
              "        \"Brennan is a traitor to this country. He also is responsible for the theft of Stanley Soetoro Obama's State Dept. passport file in 2008. He had his employees go there and remove anything problematic for Obama. What did he got in return, head of CIA?\"]],\n",
              "      dtype=object)"
            ]
          },
          "metadata": {
            "tags": []
          },
          "execution_count": 7
        }
      ]
    },
    {
      "cell_type": "code",
      "metadata": {
        "colab": {
          "base_uri": "https://localhost:8080/"
        },
        "id": "QXxZyOO-NDqU",
        "outputId": "c2796f20-b2e5-418c-bf2d-7cc151bb3bb1"
      },
      "source": [
        "train_os = pd.DataFrame(train_os, columns=train.columns)\n",
        "neg, pos = np.bincount(train_os.label)\n",
        "total = neg + pos\n",
        "print('Examples:\\n    Total: {}\\n    Positive: {} ({:.2f}% of total)\\n'.format(\n",
        "    total, pos, 100 * pos / total))"
      ],
      "execution_count": 8,
      "outputs": [
        {
          "output_type": "stream",
          "text": [
            "Examples:\n",
            "    Total: 1960790\n",
            "    Positive: 980395 (50.00% of total)\n",
            "\n"
          ],
          "name": "stdout"
        }
      ]
    },
    {
      "cell_type": "code",
      "metadata": {
        "colab": {
          "base_uri": "https://localhost:8080/",
          "height": 419
        },
        "id": "CI6dKUgEbBeb",
        "outputId": "53ee0c60-bda9-48fb-e275-907781a8159b"
      },
      "source": [
        "train_os"
      ],
      "execution_count": 9,
      "outputs": [
        {
          "output_type": "execute_result",
          "data": {
            "text/html": [
              "<div>\n",
              "<style scoped>\n",
              "    .dataframe tbody tr th:only-of-type {\n",
              "        vertical-align: middle;\n",
              "    }\n",
              "\n",
              "    .dataframe tbody tr th {\n",
              "        vertical-align: top;\n",
              "    }\n",
              "\n",
              "    .dataframe thead th {\n",
              "        text-align: right;\n",
              "    }\n",
              "</style>\n",
              "<table border=\"1\" class=\"dataframe\">\n",
              "  <thead>\n",
              "    <tr style=\"text-align: right;\">\n",
              "      <th></th>\n",
              "      <th>id</th>\n",
              "      <th>label</th>\n",
              "      <th>alpha</th>\n",
              "      <th>text</th>\n",
              "    </tr>\n",
              "  </thead>\n",
              "  <tbody>\n",
              "    <tr>\n",
              "      <th>0</th>\n",
              "      <td>0</td>\n",
              "      <td>0</td>\n",
              "      <td>a</td>\n",
              "      <td>What is the most effective classroom managemen...</td>\n",
              "    </tr>\n",
              "    <tr>\n",
              "      <th>1</th>\n",
              "      <td>1</td>\n",
              "      <td>0</td>\n",
              "      <td>a</td>\n",
              "      <td>Can I study abroad after 10th class from Bangl...</td>\n",
              "    </tr>\n",
              "    <tr>\n",
              "      <th>2</th>\n",
              "      <td>2</td>\n",
              "      <td>0</td>\n",
              "      <td>a</td>\n",
              "      <td>How can I make friends as a college junior?</td>\n",
              "    </tr>\n",
              "    <tr>\n",
              "      <th>3</th>\n",
              "      <td>3</td>\n",
              "      <td>0</td>\n",
              "      <td>a</td>\n",
              "      <td>How do I download free APK Minecraft: Pocket E...</td>\n",
              "    </tr>\n",
              "    <tr>\n",
              "      <th>4</th>\n",
              "      <td>4</td>\n",
              "      <td>0</td>\n",
              "      <td>a</td>\n",
              "      <td>Like Kuvera, is \"Groww\" also a free online inv...</td>\n",
              "    </tr>\n",
              "    <tr>\n",
              "      <th>...</th>\n",
              "      <td>...</td>\n",
              "      <td>...</td>\n",
              "      <td>...</td>\n",
              "      <td>...</td>\n",
              "    </tr>\n",
              "    <tr>\n",
              "      <th>1960785</th>\n",
              "      <td>855355</td>\n",
              "      <td>1</td>\n",
              "      <td>a</td>\n",
              "      <td>If prabhupada says all women loves rape. Then ...</td>\n",
              "    </tr>\n",
              "    <tr>\n",
              "      <th>1960786</th>\n",
              "      <td>528152</td>\n",
              "      <td>1</td>\n",
              "      <td>a</td>\n",
              "      <td>Do you believe the increase in filth and homel...</td>\n",
              "    </tr>\n",
              "    <tr>\n",
              "      <th>1960787</th>\n",
              "      <td>480080</td>\n",
              "      <td>1</td>\n",
              "      <td>a</td>\n",
              "      <td>Why do Turkish people insist on letting Europe...</td>\n",
              "    </tr>\n",
              "    <tr>\n",
              "      <th>1960788</th>\n",
              "      <td>270077</td>\n",
              "      <td>1</td>\n",
              "      <td>a</td>\n",
              "      <td>Why do right wingers seem so cruel and callous?</td>\n",
              "    </tr>\n",
              "    <tr>\n",
              "      <th>1960789</th>\n",
              "      <td>569174</td>\n",
              "      <td>1</td>\n",
              "      <td>a</td>\n",
              "      <td>Brennan is a traitor to this country. He also ...</td>\n",
              "    </tr>\n",
              "  </tbody>\n",
              "</table>\n",
              "<p>1960790 rows × 4 columns</p>\n",
              "</div>"
            ],
            "text/plain": [
              "             id label alpha                                               text\n",
              "0             0     0     a  What is the most effective classroom managemen...\n",
              "1             1     0     a  Can I study abroad after 10th class from Bangl...\n",
              "2             2     0     a        How can I make friends as a college junior?\n",
              "3             3     0     a  How do I download free APK Minecraft: Pocket E...\n",
              "4             4     0     a  Like Kuvera, is \"Groww\" also a free online inv...\n",
              "...         ...   ...   ...                                                ...\n",
              "1960785  855355     1     a  If prabhupada says all women loves rape. Then ...\n",
              "1960786  528152     1     a  Do you believe the increase in filth and homel...\n",
              "1960787  480080     1     a  Why do Turkish people insist on letting Europe...\n",
              "1960788  270077     1     a    Why do right wingers seem so cruel and callous?\n",
              "1960789  569174     1     a  Brennan is a traitor to this country. He also ...\n",
              "\n",
              "[1960790 rows x 4 columns]"
            ]
          },
          "metadata": {
            "tags": []
          },
          "execution_count": 9
        }
      ]
    },
    {
      "cell_type": "code",
      "metadata": {
        "id": "PaHigekoXWw5"
      },
      "source": [
        "from nltk.stem.porter import PorterStemmer\n",
        "import numpy as np\n",
        "import pandas as pd\n",
        "import nltk as nltk\n",
        "import re\n",
        "import gensim \n",
        "from sklearn.feature_extraction.text import CountVectorizer, TfidfVectorizer\n",
        "from imblearn.over_sampling import SMOTE, RandomOverSampler\n",
        "\n",
        "class TextObject(pd.DataFrame):\n",
        "    \"\"\"\n",
        "    A collection of strings for processing. Is a DataFrame with specific \n",
        "    columns. \n",
        "    \"\"\"\n",
        "\n",
        "    def __init__(self):\n",
        "        super().__init__(columns=[\n",
        "            \"original_text\",\n",
        "            \"text\",\n",
        "            \"label\"\n",
        "        ]\n",
        "        )\n",
        "        self._attrs[\"applied_transformations\"] = []\n",
        "        nltk.download(\"stopwords\")\n",
        "        nltk.download(\"punkt\")\n",
        "\n",
        "    def add_text(self, text_collection, labels=None):\n",
        "        \"\"\"\n",
        "        Adds a collection of text to to the TextObject. Accepts an iterable or \n",
        "        array-like of all text strings. Optionally, accepts labels of the same \n",
        "        length. Modifies self to be a pandas DataFrame with column \"text\" and \n",
        "        potentially \"labels\".\n",
        "        \"\"\"\n",
        "        self[\"original_text\"] = text_collection\n",
        "        self[\"text\"] = self.original_text\n",
        "        self._attrs[\"applied_transformations\"] = []\n",
        "        if type(labels) == type(None):\n",
        "            return\n",
        "        if len(labels) == len(self):\n",
        "            self[\"label\"] = labels\n",
        "\n",
        "    # Text Processing Methods:\n",
        "\n",
        "    def text_processing(self, function):\n",
        "        \"\"\"\n",
        "        Applies a generic text processing function to the self.text field.\n",
        "        \"\"\"\n",
        "        self.text = self.text.apply(function)\n",
        "        self._attrs[\"applied_transformations\"].append(function.__name__)\n",
        "\n",
        "    def lower(self):\n",
        "        self.text = self.text.str.lower()\n",
        "        self._attrs[\"applied_transformations\"].append(\"lower\")\n",
        "    \n",
        "    def strip(self):\n",
        "        self.text = self.text.str.strip()\n",
        "        self._attrs[\"applied_transformations\"].append(\"strip\")\n",
        "\n",
        "    def remove_single_digits(self):\n",
        "        self.text = self.text.apply(lambda text: re.sub(\"([\\d]+)\", \"\", text))\n",
        "        self._attrs[\"applied_transformations\"].append(\"remove_single_digits\")\n",
        "    \n",
        "    def remove_nonletter_chars(self):\n",
        "        self.text = self.text.apply(lambda text: re.sub(\"[^A-Za-z0-9 \\\\n]\", \" \", text))\n",
        "        self._attrs[\"applied_transformations\"].append(\"remove_nonletter_chars\")\n",
        "\n",
        "    def stop_word_tokenize(self):\n",
        "        def tokenize(text):\n",
        "            self.stoplist = nltk.corpus.stopwords.words('english')\n",
        "            finalTokens = []\n",
        "            tokens = nltk.word_tokenize(text)\n",
        "            for w in tokens:\n",
        "                if (w not in self.stoplist):\n",
        "                    finalTokens.append(w)\n",
        "            text = \" \".join(finalTokens)\n",
        "            return text\n",
        "        self.text = self.text.apply(tokenize)\n",
        "        self._attrs[\"applied_transformations\"].append(\"stop_word_tokenize\")\n",
        "    \n",
        "    def stem_sentence(self):\n",
        "        def stem(text):\n",
        "            porter=PorterStemmer()\n",
        "            token_words=nltk.tokenize.word_tokenize(text)\n",
        "            token_words\n",
        "            stem_sentence=[]\n",
        "            for word in token_words:\n",
        "                stem_sentence.append(porter.stem(word))\n",
        "                stem_sentence.append(\" \")\n",
        "            return \"\".join(stem_sentence)\n",
        "        self.text = self.text.apply(stem)\n",
        "        self._attrs[\"applied_transformations\"].append(\"stem_sentence\")\n",
        "\n",
        "    def lemmatize_sentence(self):\n",
        "        def lem(text):\n",
        "            wordnet_lemmatizer = nltk.stem.WordNetLemmatizer()\n",
        "            #token_words\n",
        "            token_words=nltk.tokenize.word_tokenize(text)\n",
        "            lemm_sentence=[]\n",
        "            for word in token_words:\n",
        "                lemm_sentence.append(wordnet_lemmatizer.lemmatize(word))\n",
        "                lemm_sentence.append(\" \")\n",
        "            return \"\".join(lemm_sentence)\n",
        "        self.text = self.text.apply(lem)\n",
        "        self._attrs[\"applied_transformations\"].append(\"lemmatize_sentence\")\n",
        "\n",
        "    def process_all(self, lower=True, strip=True, remove_single_digits =True, \n",
        "        remove_nonletter_chars=True, stop_word_tokenize=True, stem_sentence=True,\n",
        "        lemmatize_sentence=True):\n",
        "        if lower:\n",
        "            self.lower()\n",
        "        if strip:\n",
        "            self.strip()\n",
        "        if remove_single_digits:\n",
        "            self.remove_single_digits()\n",
        "        if remove_nonletter_chars:\n",
        "            self.remove_nonletter_chars()\n",
        "        if stop_word_tokenize:\n",
        "            self.stop_word_tokenize()\n",
        "        if stem_sentence:\n",
        "            self.stem_sentence()\n",
        "        if lemmatize_sentence:\n",
        "            self.lemmatize_sentence()\n",
        "\n"
      ],
      "execution_count": 10,
      "outputs": []
    },
    {
      "cell_type": "code",
      "metadata": {
        "colab": {
          "base_uri": "https://localhost:8080/",
          "height": 623
        },
        "id": "ELjE-uLUXWw6",
        "outputId": "938d7154-6045-4cc1-93f8-0f1a267324f6"
      },
      "source": [
        "train = TextObject()\n",
        "train.add_text(train_os.text, train_os_lab)\n",
        "train = train.sample(frac=1)\n",
        "dev = TextObject()\n",
        "dev.add_text(dev.text, dev.label)\n",
        "test = TextObject()\n",
        "test.add_text(test.text, test.label)\n",
        "train"
      ],
      "execution_count": 49,
      "outputs": [
        {
          "output_type": "stream",
          "text": [
            "[nltk_data] Downloading package stopwords to /root/nltk_data...\n",
            "[nltk_data]   Package stopwords is already up-to-date!\n",
            "[nltk_data] Downloading package punkt to /root/nltk_data...\n",
            "[nltk_data]   Package punkt is already up-to-date!\n",
            "[nltk_data] Downloading package stopwords to /root/nltk_data...\n",
            "[nltk_data]   Package stopwords is already up-to-date!\n",
            "[nltk_data] Downloading package punkt to /root/nltk_data...\n",
            "[nltk_data]   Package punkt is already up-to-date!\n",
            "[nltk_data] Downloading package stopwords to /root/nltk_data...\n",
            "[nltk_data]   Package stopwords is already up-to-date!\n",
            "[nltk_data] Downloading package punkt to /root/nltk_data...\n",
            "[nltk_data]   Package punkt is already up-to-date!\n"
          ],
          "name": "stdout"
        },
        {
          "output_type": "execute_result",
          "data": {
            "text/html": [
              "<div>\n",
              "<style scoped>\n",
              "    .dataframe tbody tr th:only-of-type {\n",
              "        vertical-align: middle;\n",
              "    }\n",
              "\n",
              "    .dataframe tbody tr th {\n",
              "        vertical-align: top;\n",
              "    }\n",
              "\n",
              "    .dataframe thead th {\n",
              "        text-align: right;\n",
              "    }\n",
              "</style>\n",
              "<table border=\"1\" class=\"dataframe\">\n",
              "  <thead>\n",
              "    <tr style=\"text-align: right;\">\n",
              "      <th></th>\n",
              "      <th>original_text</th>\n",
              "      <th>text</th>\n",
              "      <th>label</th>\n",
              "    </tr>\n",
              "  </thead>\n",
              "  <tbody>\n",
              "    <tr>\n",
              "      <th>866832</th>\n",
              "      <td>Is Chris Langan a white nationalist?</td>\n",
              "      <td>Is Chris Langan a white nationalist?</td>\n",
              "      <td>0</td>\n",
              "    </tr>\n",
              "    <tr>\n",
              "      <th>1205522</th>\n",
              "      <td>Why did Trump lie about paying hush money to S...</td>\n",
              "      <td>Why did Trump lie about paying hush money to S...</td>\n",
              "      <td>1</td>\n",
              "    </tr>\n",
              "    <tr>\n",
              "      <th>646</th>\n",
              "      <td>Does my body generate more semen when I'm slee...</td>\n",
              "      <td>Does my body generate more semen when I'm slee...</td>\n",
              "      <td>0</td>\n",
              "    </tr>\n",
              "    <tr>\n",
              "      <th>1380919</th>\n",
              "      <td>Why most of girls who advocate gender equality...</td>\n",
              "      <td>Why most of girls who advocate gender equality...</td>\n",
              "      <td>1</td>\n",
              "    </tr>\n",
              "    <tr>\n",
              "      <th>1870783</th>\n",
              "      <td>What are some good offensive jokes about Jews?</td>\n",
              "      <td>What are some good offensive jokes about Jews?</td>\n",
              "      <td>1</td>\n",
              "    </tr>\n",
              "    <tr>\n",
              "      <th>...</th>\n",
              "      <td>...</td>\n",
              "      <td>...</td>\n",
              "      <td>...</td>\n",
              "    </tr>\n",
              "    <tr>\n",
              "      <th>427420</th>\n",
              "      <td>Is it okay to have sex with brother with all t...</td>\n",
              "      <td>Is it okay to have sex with brother with all t...</td>\n",
              "      <td>1</td>\n",
              "    </tr>\n",
              "    <tr>\n",
              "      <th>1102804</th>\n",
              "      <td>What do you think of the claim that Wall Stree...</td>\n",
              "      <td>What do you think of the claim that Wall Stree...</td>\n",
              "      <td>1</td>\n",
              "    </tr>\n",
              "    <tr>\n",
              "      <th>1742076</th>\n",
              "      <td>If Rahul Gandhi becomes prime minister, I will...</td>\n",
              "      <td>If Rahul Gandhi becomes prime minister, I will...</td>\n",
              "      <td>1</td>\n",
              "    </tr>\n",
              "    <tr>\n",
              "      <th>605928</th>\n",
              "      <td>Where are your skeletal muscles?</td>\n",
              "      <td>Where are your skeletal muscles?</td>\n",
              "      <td>0</td>\n",
              "    </tr>\n",
              "    <tr>\n",
              "      <th>1327957</th>\n",
              "      <td>A recent poll said that 70% of America's youth...</td>\n",
              "      <td>A recent poll said that 70% of America's youth...</td>\n",
              "      <td>1</td>\n",
              "    </tr>\n",
              "  </tbody>\n",
              "</table>\n",
              "<p>1960790 rows × 3 columns</p>\n",
              "</div>"
            ],
            "text/plain": [
              "                                             original_text  ... label\n",
              "866832                Is Chris Langan a white nationalist?  ...     0\n",
              "1205522  Why did Trump lie about paying hush money to S...  ...     1\n",
              "646      Does my body generate more semen when I'm slee...  ...     0\n",
              "1380919  Why most of girls who advocate gender equality...  ...     1\n",
              "1870783     What are some good offensive jokes about Jews?  ...     1\n",
              "...                                                    ...  ...   ...\n",
              "427420   Is it okay to have sex with brother with all t...  ...     1\n",
              "1102804  What do you think of the claim that Wall Stree...  ...     1\n",
              "1742076  If Rahul Gandhi becomes prime minister, I will...  ...     1\n",
              "605928                    Where are your skeletal muscles?  ...     0\n",
              "1327957  A recent poll said that 70% of America's youth...  ...     1\n",
              "\n",
              "[1960790 rows x 3 columns]"
            ]
          },
          "metadata": {
            "tags": []
          },
          "execution_count": 49
        }
      ]
    },
    {
      "cell_type": "code",
      "metadata": {
        "colab": {
          "base_uri": "https://localhost:8080/"
        },
        "id": "rrSzSpBnJsjq",
        "outputId": "b2e2d153-4b35-4ae9-a9cb-ba1f070dad18"
      },
      "source": [
        "dev.text"
      ],
      "execution_count": 65,
      "outputs": [
        {
          "output_type": "execute_result",
          "data": {
            "text/plain": [
              "0                  Where can I find best romantic shayaris?\n",
              "1         When we check the UPSC rank list; many of the ...\n",
              "2         Is there is any web site to create search engi...\n",
              "3                   How can you earn $50 just clicking ads?\n",
              "4         Which 3 branches of engineering have the most ...\n",
              "                                ...                        \n",
              "130608    How can the ViewSonic PA503S 3600 lumens SVGA ...\n",
              "130609       What are the biggest myths about Adolf Hitler?\n",
              "130610    What song played in the movie of the gifted wh...\n",
              "130611    What do Socrates, Thomas Kuhn and Karl Popper ...\n",
              "130612    I feel something missing in my relationship. I...\n",
              "Name: text, Length: 130613, dtype: object"
            ]
          },
          "metadata": {
            "tags": []
          },
          "execution_count": 65
        }
      ]
    },
    {
      "cell_type": "code",
      "metadata": {
        "colab": {
          "base_uri": "https://localhost:8080/"
        },
        "id": "DzQATA6OpFZU",
        "outputId": "6f212f13-a670-46bd-ae8b-3c3912328b27"
      },
      "source": [
        "train_dataset = tf.data.Dataset.from_tensor_slices((train.text, np.asarray(train.label).astype('int64')))\n",
        "dev_dataset = tf.data.Dataset.from_tensor_slices((dev.text, np.asarray(dev.label).astype('int64')))\n",
        "test_dataset = tf.data.Dataset.from_tensor_slices((test.text, np.asarray(test.label).astype('int64')))\n",
        "print(len(train_dataset))\n",
        "print(len(dev_dataset))\n",
        "print(len(test_dataset))"
      ],
      "execution_count": 56,
      "outputs": [
        {
          "output_type": "stream",
          "text": [
            "1044897\n",
            "130613\n",
            "130612\n"
          ],
          "name": "stdout"
        }
      ]
    },
    {
      "cell_type": "markdown",
      "metadata": {
        "id": "ePsAyRAnAEKW"
      },
      "source": [
        "# Experiment with Neural Nets"
      ]
    },
    {
      "cell_type": "code",
      "metadata": {
        "id": "WZrWWBBmV3Wa"
      },
      "source": [
        "# import tensorflow as tf\n",
        "import string\n",
        "import re\n",
        "import matplotlib.pyplot as plt\n",
        "\n",
        "\n",
        "def plot_graphs(history, metric):\n",
        "  plt.plot(history.history[metric])\n",
        "  plt.plot(history.history['val_'+metric], '')\n",
        "  plt.xlabel(\"Epochs\")\n",
        "  plt.ylabel(metric)\n",
        "  plt.legend([metric, 'val_'+metric])"
      ],
      "execution_count": 13,
      "outputs": []
    },
    {
      "cell_type": "code",
      "metadata": {
        "id": "YOLZCkDTmMD8"
      },
      "source": [
        "BUFFER_SIZE = 100000\n",
        "BATCH_SIZE = 64\n",
        "\n",
        "train_dataset = train_dataset.shuffle(BUFFER_SIZE).batch(BATCH_SIZE).prefetch(tf.data.AUTOTUNE)\n",
        "dev_dataset = dev_dataset.shuffle(BUFFER_SIZE).batch(BATCH_SIZE).prefetch(tf.data.AUTOTUNE)\n",
        "test_dataset = test_dataset.batch(BATCH_SIZE).prefetch(tf.data.AUTOTUNE)"
      ],
      "execution_count": 30,
      "outputs": []
    },
    {
      "cell_type": "code",
      "metadata": {
        "colab": {
          "base_uri": "https://localhost:8080/"
        },
        "id": "PKiYndjNa2-m",
        "outputId": "2813aa54-2de0-46af-a876-787741c74573"
      },
      "source": [
        "len(train_dataset)"
      ],
      "execution_count": 15,
      "outputs": [
        {
          "output_type": "execute_result",
          "data": {
            "text/plain": [
              "30638"
            ]
          },
          "metadata": {
            "tags": []
          },
          "execution_count": 15
        }
      ]
    },
    {
      "cell_type": "code",
      "metadata": {
        "colab": {
          "base_uri": "https://localhost:8080/"
        },
        "id": "vLZV9l10mXdF",
        "outputId": "bb3902c5-7918-4540-f2be-7ce42e82b8cd"
      },
      "source": [
        "for example, label in train_dataset.take(1):\n",
        "  print('texts: ', example.numpy()[:10])\n",
        "  print()\n",
        "  print('labels: ', label.numpy()[:10])"
      ],
      "execution_count": 16,
      "outputs": [
        {
          "output_type": "stream",
          "text": [
            "texts:  [b'Why do Indian Muslims never supporting Hindus whenever Pakistanis violates human rights? Why do Muslims twitching Muslims only?'\n",
            " b'Iranians consider themselves modern but regularly lynch gay people and stone women are they hypocrites?'\n",
            " b'Do Aaptards fap to kejru coughing imagining themselves deep throating the muffler man?'\n",
            " b'What can be the best mental model and metaphor interface for something like Microsoft Office?'\n",
            " b'Are there more dumb republicans than stars in the universe?'\n",
            " b'\"Let me check the gun laws first.\" \\xe2\\x80\\xa6Said no criminal ever. What is so hard to understand about this concept?'\n",
            " b'What are some of the functions of computer servers?'\n",
            " b\"If I paint my toenails and sometimes stare at my vaseline jar with 'odd' thoughts, should I be worried about my sexuality?\"\n",
            " b\"Why can't Hindus get Ayodhya when Muslims, Christians and Jews are trying to claim Jerusalem? Is this not hypocrisy by Indian Muslims?\"\n",
            " b'Can I use sodium citrate dihydrate instead of sodium citrate?']\n",
            "\n",
            "labels:  [1 1 1 0 1 1 0 0 1 0]\n"
          ],
          "name": "stdout"
        }
      ]
    },
    {
      "cell_type": "code",
      "metadata": {
        "colab": {
          "base_uri": "https://localhost:8080/"
        },
        "id": "1MwaA42UqcI9",
        "outputId": "a89f0590-b1d0-48a3-f721-785ecb65c4fd"
      },
      "source": [
        "VOCAB_SIZE = 5000\n",
        "encoder = tf.keras.layers.experimental.preprocessing.TextVectorization(\n",
        "    max_tokens=VOCAB_SIZE)\n",
        "encoder.adapt(train_dataset.map(lambda text, label: text))\n",
        "vocab = np.array(encoder.get_vocabulary())\n",
        "vocab[:20]"
      ],
      "execution_count": 17,
      "outputs": [
        {
          "output_type": "execute_result",
          "data": {
            "text/plain": [
              "array(['', '[UNK]', 'the', 'to', 'is', 'a', 'why', 'of', 'in', 'and',\n",
              "       'do', 'what', 'are', 'i', 'how', 'for', 'that', 'you', 'it', 'can'],\n",
              "      dtype='<U16')"
            ]
          },
          "metadata": {
            "tags": []
          },
          "execution_count": 17
        }
      ]
    },
    {
      "cell_type": "code",
      "metadata": {
        "colab": {
          "base_uri": "https://localhost:8080/"
        },
        "id": "NAZK2adKr4_e",
        "outputId": "24a67f6b-fd3c-4fef-d044-422aee35026d"
      },
      "source": [
        "encoded_example = encoder(example)[:3].numpy()\n",
        "encoded_example"
      ],
      "execution_count": 18,
      "outputs": [
        {
          "output_type": "execute_result",
          "data": {
            "text/plain": [
              "array([[   6,   10,   78,   83,  197, 1137,  218, 1627,  690,    1,  220,\n",
              "         337,    6,   10,   83,    1,   83,   94,    0,    0,    0,    0,\n",
              "           0,    0,    0,    0,    0,    0,    0,    0,    0,    0,    0,\n",
              "           0,    0,    0,    0,    0,    0,    0,    0,    0,    0,    0,\n",
              "           0,    0],\n",
              "       [1702,  462,  214,  522,   63, 3235,    1,  166,   20,    9, 2856,\n",
              "          48,   12,   24, 2839,    0,    0,    0,    0,    0,    0,    0,\n",
              "           0,    0,    0,    0,    0,    0,    0,    0,    0,    0,    0,\n",
              "           0,    0,    0,    0,    0,    0,    0,    0,    0,    0,    0,\n",
              "           0,    0],\n",
              "       [  10,    1,    1,    3,    1,    1,    1,  214, 1351,    1,    2,\n",
              "           1,  156,    0,    0,    0,    0,    0,    0,    0,    0,    0,\n",
              "           0,    0,    0,    0,    0,    0,    0,    0,    0,    0,    0,\n",
              "           0,    0,    0,    0,    0,    0,    0,    0,    0,    0,    0,\n",
              "           0,    0]])"
            ]
          },
          "metadata": {
            "tags": []
          },
          "execution_count": 18
        }
      ]
    },
    {
      "cell_type": "code",
      "metadata": {
        "colab": {
          "base_uri": "https://localhost:8080/"
        },
        "id": "zLIfzs0xr9we",
        "outputId": "027ba7d8-6a4b-4ea6-898b-f496c4c8c395"
      },
      "source": [
        "for n in range(3):\n",
        "  print(\"Original: \", example[n].numpy())\n",
        "  print(\"Round-trip: \", \" \".join(vocab[encoded_example[n]]))\n",
        "  print()"
      ],
      "execution_count": 19,
      "outputs": [
        {
          "output_type": "stream",
          "text": [
            "Original:  b'Why do Indian Muslims never supporting Hindus whenever Pakistanis violates human rights? Why do Muslims twitching Muslims only?'\n",
            "Round-trip:  why do indian muslims never supporting hindus whenever pakistanis [UNK] human rights why do muslims [UNK] muslims only                            \n",
            "\n",
            "Original:  b'Iranians consider themselves modern but regularly lynch gay people and stone women are they hypocrites?'\n",
            "Round-trip:  iranians consider themselves modern but regularly [UNK] gay people and stone women are they hypocrites                               \n",
            "\n",
            "Original:  b'Do Aaptards fap to kejru coughing imagining themselves deep throating the muffler man?'\n",
            "Round-trip:  do [UNK] [UNK] to [UNK] [UNK] [UNK] themselves deep [UNK] the [UNK] man                                 \n",
            "\n"
          ],
          "name": "stdout"
        }
      ]
    },
    {
      "cell_type": "code",
      "metadata": {
        "colab": {
          "base_uri": "https://localhost:8080/"
        },
        "id": "Ideu0cqxXWw8",
        "outputId": "fe4c9426-352d-4556-857d-fe7da52d8822"
      },
      "source": [
        "tf.config.list_physical_devices()"
      ],
      "execution_count": 20,
      "outputs": [
        {
          "output_type": "execute_result",
          "data": {
            "text/plain": [
              "[PhysicalDevice(name='/physical_device:CPU:0', device_type='CPU'),\n",
              " PhysicalDevice(name='/physical_device:GPU:0', device_type='GPU')]"
            ]
          },
          "metadata": {
            "tags": []
          },
          "execution_count": 20
        }
      ]
    },
    {
      "cell_type": "code",
      "metadata": {
        "colab": {
          "base_uri": "https://localhost:8080/"
        },
        "id": "-JV4-lXUcKcz",
        "outputId": "95e896af-2c62-412c-8d8a-0d5bec374a0d"
      },
      "source": [
        "gpus = tf.config.list_physical_devices('GPU')\n",
        "if gpus:\n",
        "  # Restrict TensorFlow to only allocate 1GB of memory on the first GPU\n",
        "  try:\n",
        "    tf.config.set_logical_device_configuration(\n",
        "        gpus[0],\n",
        "        [tf.config.LogicalDeviceConfiguration(memory_limit=1024)])\n",
        "    logical_gpus = tf.config.list_logical_devices('GPU')\n",
        "    print(len(gpus), \"Physical GPUs,\", len(logical_gpus), \"Logical GPUs\")\n",
        "  except RuntimeError as e:\n",
        "    # Virtual devices must be set before GPUs have been initialized\n",
        "    print(e)"
      ],
      "execution_count": 23,
      "outputs": [
        {
          "output_type": "stream",
          "text": [
            "Virtual devices cannot be modified after being initialized\n"
          ],
          "name": "stdout"
        }
      ]
    },
    {
      "cell_type": "code",
      "metadata": {
        "colab": {
          "base_uri": "https://localhost:8080/"
        },
        "id": "1zt6OPKssJ2F",
        "outputId": "2f0c0f0c-40e9-40fb-b92b-c223b7838ab8"
      },
      "source": [
        "# Create a MirroredStrategy.\n",
        "device_name = tf.test.gpu_device_name()\n",
        "if device_name != '/device:GPU:0':\n",
        "  raise SystemError('GPU device not found')\n",
        "print('Found GPU at: {}'.format(device_name))\n",
        "per_worker_batch_size = BATCH_SIZE\n",
        "tf_config = {\n",
        "    'cluster': {\n",
        "        'worker': ['GPU:0']\n",
        "    },\n",
        "    'task': {'type': 'worker', 'index': 0}\n",
        "}\n",
        "num_workers = len(tf_config['cluster']['worker'])\n",
        "strategy = tf.distribute.MirroredStrategy(['GPU:0'])\n",
        "print('Number of devices: {}'.format(strategy.num_replicas_in_sync))\n",
        "\n",
        "\n",
        "# Open a strategy scope.\n",
        "with strategy.scope():\n",
        "    model = tf.keras.Sequential([\n",
        "    encoder,\n",
        "    tf.keras.layers.Embedding(len(encoder.get_vocabulary()), 64, mask_zero=True),\n",
        "    tf.keras.layers.Bidirectional(tf.keras.layers.LSTM(64,  return_sequences=True)),\n",
        "    tf.keras.layers.Bidirectional(tf.keras.layers.LSTM(64)),\n",
        "    tf.keras.layers.Dense(64, activation='relu'),\n",
        "    tf.keras.layers.Dropout(0.5),\n",
        "    tf.keras.layers.Dense(64, activation='relu'),\n",
        "    tf.keras.layers.Dropout(0.5),\n",
        "    tf.keras.layers.Dense(1)\n",
        "    ])\n",
        "    model.compile(loss=tf.keras.losses.BinaryCrossentropy(),\n",
        "              optimizer=tf.keras.optimizers.Adam(1e-4),\n",
        "              metrics=['accuracy'])\n",
        "    history = model.fit(train_dataset, epochs=10)\n",
        "\n"
      ],
      "execution_count": 28,
      "outputs": [
        {
          "output_type": "stream",
          "text": [
            "Found GPU at: /device:GPU:0\n",
            "WARNING:tensorflow:Collective ops is not configured at program startup. Some performance features may not be enabled.\n",
            "INFO:tensorflow:Using MirroredStrategy with devices ('/job:localhost/replica:0/task:0/device:GPU:0',)\n",
            "Number of devices: 1\n",
            "Epoch 1/10\n",
            "30638/30638 [==============================] - 906s 29ms/step - loss: 0.4389 - accuracy: 0.8424\n",
            "Epoch 2/10\n",
            "30638/30638 [==============================] - 876s 29ms/step - loss: 0.3803 - accuracy: 0.8749\n",
            "Epoch 3/10\n",
            "30638/30638 [==============================] - 907s 30ms/step - loss: 0.3625 - accuracy: 0.8882\n",
            "Epoch 4/10\n",
            "30638/30638 [==============================] - 893s 29ms/step - loss: 0.3444 - accuracy: 0.8999\n",
            "Epoch 5/10\n",
            "30638/30638 [==============================] - 889s 29ms/step - loss: 0.3361 - accuracy: 0.9064\n",
            "Epoch 6/10\n",
            "30638/30638 [==============================] - 879s 29ms/step - loss: 0.3310 - accuracy: 0.9092\n",
            "Epoch 7/10\n",
            "30638/30638 [==============================] - 881s 29ms/step - loss: 0.3374 - accuracy: 0.9072\n",
            "Epoch 8/10\n",
            "30638/30638 [==============================] - 880s 29ms/step - loss: 0.3297 - accuracy: 0.9149\n",
            "Epoch 9/10\n",
            "30638/30638 [==============================] - 875s 29ms/step - loss: 0.3462 - accuracy: 0.9075\n",
            "Epoch 10/10\n",
            "30638/30638 [==============================] - 875s 29ms/step - loss: 0.3364 - accuracy: 0.9140\n"
          ],
          "name": "stdout"
        }
      ]
    },
    {
      "cell_type": "code",
      "metadata": {
        "colab": {
          "base_uri": "https://localhost:8080/",
          "height": 307
        },
        "id": "eyK4-rvzsv4h",
        "outputId": "90ae2ee9-e7c3-4a12-8c9c-eb93010f21c6"
      },
      "source": [
        "model.predict(dev.text)"
      ],
      "execution_count": 66,
      "outputs": [
        {
          "output_type": "error",
          "ename": "KeyboardInterrupt",
          "evalue": "ignored",
          "traceback": [
            "\u001b[0;31m---------------------------------------------------------------------------\u001b[0m",
            "\u001b[0;31mKeyboardInterrupt\u001b[0m                         Traceback (most recent call last)",
            "\u001b[0;32m<ipython-input-66-fec92cb7e9fd>\u001b[0m in \u001b[0;36m<module>\u001b[0;34m()\u001b[0m\n\u001b[0;32m----> 1\u001b[0;31m \u001b[0mmodel\u001b[0m\u001b[0;34m.\u001b[0m\u001b[0mpredict\u001b[0m\u001b[0;34m(\u001b[0m\u001b[0mdev\u001b[0m\u001b[0;34m.\u001b[0m\u001b[0mtext\u001b[0m\u001b[0;34m)\u001b[0m\u001b[0;34m\u001b[0m\u001b[0;34m\u001b[0m\u001b[0m\n\u001b[0m",
            "\u001b[0;32m/usr/local/lib/python3.7/dist-packages/tensorflow/python/keras/engine/training.py\u001b[0m in \u001b[0;36mpredict\u001b[0;34m(self, x, batch_size, verbose, steps, callbacks, max_queue_size, workers, use_multiprocessing)\u001b[0m\n\u001b[1;32m   1725\u001b[0m           \u001b[0;32mfor\u001b[0m \u001b[0mstep\u001b[0m \u001b[0;32min\u001b[0m \u001b[0mdata_handler\u001b[0m\u001b[0;34m.\u001b[0m\u001b[0msteps\u001b[0m\u001b[0;34m(\u001b[0m\u001b[0;34m)\u001b[0m\u001b[0;34m:\u001b[0m\u001b[0;34m\u001b[0m\u001b[0;34m\u001b[0m\u001b[0m\n\u001b[1;32m   1726\u001b[0m             \u001b[0mcallbacks\u001b[0m\u001b[0;34m.\u001b[0m\u001b[0mon_predict_batch_begin\u001b[0m\u001b[0;34m(\u001b[0m\u001b[0mstep\u001b[0m\u001b[0;34m)\u001b[0m\u001b[0;34m\u001b[0m\u001b[0;34m\u001b[0m\u001b[0m\n\u001b[0;32m-> 1727\u001b[0;31m             \u001b[0mtmp_batch_outputs\u001b[0m \u001b[0;34m=\u001b[0m \u001b[0mself\u001b[0m\u001b[0;34m.\u001b[0m\u001b[0mpredict_function\u001b[0m\u001b[0;34m(\u001b[0m\u001b[0miterator\u001b[0m\u001b[0;34m)\u001b[0m\u001b[0;34m\u001b[0m\u001b[0;34m\u001b[0m\u001b[0m\n\u001b[0m\u001b[1;32m   1728\u001b[0m             \u001b[0;32mif\u001b[0m \u001b[0mdata_handler\u001b[0m\u001b[0;34m.\u001b[0m\u001b[0mshould_sync\u001b[0m\u001b[0;34m:\u001b[0m\u001b[0;34m\u001b[0m\u001b[0;34m\u001b[0m\u001b[0m\n\u001b[1;32m   1729\u001b[0m               \u001b[0mcontext\u001b[0m\u001b[0;34m.\u001b[0m\u001b[0masync_wait\u001b[0m\u001b[0;34m(\u001b[0m\u001b[0;34m)\u001b[0m\u001b[0;34m\u001b[0m\u001b[0;34m\u001b[0m\u001b[0m\n",
            "\u001b[0;32m/usr/local/lib/python3.7/dist-packages/tensorflow/python/eager/def_function.py\u001b[0m in \u001b[0;36m__call__\u001b[0;34m(self, *args, **kwds)\u001b[0m\n\u001b[1;32m    887\u001b[0m \u001b[0;34m\u001b[0m\u001b[0m\n\u001b[1;32m    888\u001b[0m       \u001b[0;32mwith\u001b[0m \u001b[0mOptionalXlaContext\u001b[0m\u001b[0;34m(\u001b[0m\u001b[0mself\u001b[0m\u001b[0;34m.\u001b[0m\u001b[0m_jit_compile\u001b[0m\u001b[0;34m)\u001b[0m\u001b[0;34m:\u001b[0m\u001b[0;34m\u001b[0m\u001b[0;34m\u001b[0m\u001b[0m\n\u001b[0;32m--> 889\u001b[0;31m         \u001b[0mresult\u001b[0m \u001b[0;34m=\u001b[0m \u001b[0mself\u001b[0m\u001b[0;34m.\u001b[0m\u001b[0m_call\u001b[0m\u001b[0;34m(\u001b[0m\u001b[0;34m*\u001b[0m\u001b[0margs\u001b[0m\u001b[0;34m,\u001b[0m \u001b[0;34m**\u001b[0m\u001b[0mkwds\u001b[0m\u001b[0;34m)\u001b[0m\u001b[0;34m\u001b[0m\u001b[0;34m\u001b[0m\u001b[0m\n\u001b[0m\u001b[1;32m    890\u001b[0m \u001b[0;34m\u001b[0m\u001b[0m\n\u001b[1;32m    891\u001b[0m       \u001b[0mnew_tracing_count\u001b[0m \u001b[0;34m=\u001b[0m \u001b[0mself\u001b[0m\u001b[0;34m.\u001b[0m\u001b[0mexperimental_get_tracing_count\u001b[0m\u001b[0;34m(\u001b[0m\u001b[0;34m)\u001b[0m\u001b[0;34m\u001b[0m\u001b[0;34m\u001b[0m\u001b[0m\n",
            "\u001b[0;32m/usr/local/lib/python3.7/dist-packages/tensorflow/python/eager/def_function.py\u001b[0m in \u001b[0;36m_call\u001b[0;34m(self, *args, **kwds)\u001b[0m\n\u001b[1;32m    922\u001b[0m       \u001b[0;31m# In this case we have not created variables on the first call. So we can\u001b[0m\u001b[0;34m\u001b[0m\u001b[0;34m\u001b[0m\u001b[0;34m\u001b[0m\u001b[0m\n\u001b[1;32m    923\u001b[0m       \u001b[0;31m# run the first trace but we should fail if variables are created.\u001b[0m\u001b[0;34m\u001b[0m\u001b[0;34m\u001b[0m\u001b[0;34m\u001b[0m\u001b[0m\n\u001b[0;32m--> 924\u001b[0;31m       \u001b[0mresults\u001b[0m \u001b[0;34m=\u001b[0m \u001b[0mself\u001b[0m\u001b[0;34m.\u001b[0m\u001b[0m_stateful_fn\u001b[0m\u001b[0;34m(\u001b[0m\u001b[0;34m*\u001b[0m\u001b[0margs\u001b[0m\u001b[0;34m,\u001b[0m \u001b[0;34m**\u001b[0m\u001b[0mkwds\u001b[0m\u001b[0;34m)\u001b[0m\u001b[0;34m\u001b[0m\u001b[0;34m\u001b[0m\u001b[0m\n\u001b[0m\u001b[1;32m    925\u001b[0m       \u001b[0;32mif\u001b[0m \u001b[0mself\u001b[0m\u001b[0;34m.\u001b[0m\u001b[0m_created_variables\u001b[0m\u001b[0;34m:\u001b[0m\u001b[0;34m\u001b[0m\u001b[0;34m\u001b[0m\u001b[0m\n\u001b[1;32m    926\u001b[0m         raise ValueError(\"Creating variables on a non-first call to a function\"\n",
            "\u001b[0;32m/usr/local/lib/python3.7/dist-packages/tensorflow/python/eager/function.py\u001b[0m in \u001b[0;36m__call__\u001b[0;34m(self, *args, **kwargs)\u001b[0m\n\u001b[1;32m   3022\u001b[0m        filtered_flat_args) = self._maybe_define_function(args, kwargs)\n\u001b[1;32m   3023\u001b[0m     return graph_function._call_flat(\n\u001b[0;32m-> 3024\u001b[0;31m         filtered_flat_args, captured_inputs=graph_function.captured_inputs)  # pylint: disable=protected-access\n\u001b[0m\u001b[1;32m   3025\u001b[0m \u001b[0;34m\u001b[0m\u001b[0m\n\u001b[1;32m   3026\u001b[0m   \u001b[0;34m@\u001b[0m\u001b[0mproperty\u001b[0m\u001b[0;34m\u001b[0m\u001b[0;34m\u001b[0m\u001b[0m\n",
            "\u001b[0;32m/usr/local/lib/python3.7/dist-packages/tensorflow/python/eager/function.py\u001b[0m in \u001b[0;36m_call_flat\u001b[0;34m(self, args, captured_inputs, cancellation_manager)\u001b[0m\n\u001b[1;32m   1959\u001b[0m       \u001b[0;31m# No tape is watching; skip to running the function.\u001b[0m\u001b[0;34m\u001b[0m\u001b[0;34m\u001b[0m\u001b[0;34m\u001b[0m\u001b[0m\n\u001b[1;32m   1960\u001b[0m       return self._build_call_outputs(self._inference_function.call(\n\u001b[0;32m-> 1961\u001b[0;31m           ctx, args, cancellation_manager=cancellation_manager))\n\u001b[0m\u001b[1;32m   1962\u001b[0m     forward_backward = self._select_forward_and_backward_functions(\n\u001b[1;32m   1963\u001b[0m         \u001b[0margs\u001b[0m\u001b[0;34m,\u001b[0m\u001b[0;34m\u001b[0m\u001b[0;34m\u001b[0m\u001b[0m\n",
            "\u001b[0;32m/usr/local/lib/python3.7/dist-packages/tensorflow/python/eager/function.py\u001b[0m in \u001b[0;36mcall\u001b[0;34m(self, ctx, args, cancellation_manager)\u001b[0m\n\u001b[1;32m    594\u001b[0m               \u001b[0minputs\u001b[0m\u001b[0;34m=\u001b[0m\u001b[0margs\u001b[0m\u001b[0;34m,\u001b[0m\u001b[0;34m\u001b[0m\u001b[0;34m\u001b[0m\u001b[0m\n\u001b[1;32m    595\u001b[0m               \u001b[0mattrs\u001b[0m\u001b[0;34m=\u001b[0m\u001b[0mattrs\u001b[0m\u001b[0;34m,\u001b[0m\u001b[0;34m\u001b[0m\u001b[0;34m\u001b[0m\u001b[0m\n\u001b[0;32m--> 596\u001b[0;31m               ctx=ctx)\n\u001b[0m\u001b[1;32m    597\u001b[0m         \u001b[0;32melse\u001b[0m\u001b[0;34m:\u001b[0m\u001b[0;34m\u001b[0m\u001b[0;34m\u001b[0m\u001b[0m\n\u001b[1;32m    598\u001b[0m           outputs = execute.execute_with_cancellation(\n",
            "\u001b[0;32m/usr/local/lib/python3.7/dist-packages/tensorflow/python/eager/execute.py\u001b[0m in \u001b[0;36mquick_execute\u001b[0;34m(op_name, num_outputs, inputs, attrs, ctx, name)\u001b[0m\n\u001b[1;32m     58\u001b[0m     \u001b[0mctx\u001b[0m\u001b[0;34m.\u001b[0m\u001b[0mensure_initialized\u001b[0m\u001b[0;34m(\u001b[0m\u001b[0;34m)\u001b[0m\u001b[0;34m\u001b[0m\u001b[0;34m\u001b[0m\u001b[0m\n\u001b[1;32m     59\u001b[0m     tensors = pywrap_tfe.TFE_Py_Execute(ctx._handle, device_name, op_name,\n\u001b[0;32m---> 60\u001b[0;31m                                         inputs, attrs, num_outputs)\n\u001b[0m\u001b[1;32m     61\u001b[0m   \u001b[0;32mexcept\u001b[0m \u001b[0mcore\u001b[0m\u001b[0;34m.\u001b[0m\u001b[0m_NotOkStatusException\u001b[0m \u001b[0;32mas\u001b[0m \u001b[0me\u001b[0m\u001b[0;34m:\u001b[0m\u001b[0;34m\u001b[0m\u001b[0;34m\u001b[0m\u001b[0m\n\u001b[1;32m     62\u001b[0m     \u001b[0;32mif\u001b[0m \u001b[0mname\u001b[0m \u001b[0;32mis\u001b[0m \u001b[0;32mnot\u001b[0m \u001b[0;32mNone\u001b[0m\u001b[0;34m:\u001b[0m\u001b[0;34m\u001b[0m\u001b[0;34m\u001b[0m\u001b[0m\n",
            "\u001b[0;31mKeyboardInterrupt\u001b[0m: "
          ]
        }
      ]
    },
    {
      "cell_type": "code",
      "metadata": {
        "colab": {
          "base_uri": "https://localhost:8080/"
        },
        "id": "_fZ6_sHUJbw1",
        "outputId": "079c5107-696e-407e-bc4b-04fea8eff86b"
      },
      "source": [
        "next(dev_dataset.batch(60_000).as_numpy_iterator())[1]"
      ],
      "execution_count": 64,
      "outputs": [
        {
          "output_type": "execute_result",
          "data": {
            "text/plain": [
              "array([1, 0, 0, ..., 0, 0, 0])"
            ]
          },
          "metadata": {
            "tags": []
          },
          "execution_count": 64
        }
      ]
    },
    {
      "cell_type": "code",
      "metadata": {
        "colab": {
          "base_uri": "https://localhost:8080/",
          "height": 232
        },
        "id": "Bktq4PT-zrND",
        "outputId": "5899f585-6e3f-4031-bff5-51f269602db8"
      },
      "source": [
        "dev_labels = np.concatenate([y for x, y in dev_dataset], axis=0)\n",
        "\n",
        "print(dev_labels.shape)"
      ],
      "execution_count": 36,
      "outputs": [
        {
          "output_type": "error",
          "ename": "ValueError",
          "evalue": "ignored",
          "traceback": [
            "\u001b[0;31m---------------------------------------------------------------------------\u001b[0m",
            "\u001b[0;31mValueError\u001b[0m                                Traceback (most recent call last)",
            "\u001b[0;32m<ipython-input-36-25ad80cbe356>\u001b[0m in \u001b[0;36m<module>\u001b[0;34m()\u001b[0m\n\u001b[0;32m----> 1\u001b[0;31m \u001b[0mdev_labels\u001b[0m \u001b[0;34m=\u001b[0m \u001b[0mnp\u001b[0m\u001b[0;34m.\u001b[0m\u001b[0mconcatenate\u001b[0m\u001b[0;34m(\u001b[0m\u001b[0;34m[\u001b[0m\u001b[0my\u001b[0m \u001b[0;32mfor\u001b[0m \u001b[0mx\u001b[0m\u001b[0;34m,\u001b[0m \u001b[0my\u001b[0m \u001b[0;32min\u001b[0m \u001b[0mdev_dataset\u001b[0m\u001b[0;34m]\u001b[0m\u001b[0;34m,\u001b[0m \u001b[0maxis\u001b[0m\u001b[0;34m=\u001b[0m\u001b[0;36m0\u001b[0m\u001b[0;34m)\u001b[0m\u001b[0;34m\u001b[0m\u001b[0;34m\u001b[0m\u001b[0m\n\u001b[0m\u001b[1;32m      2\u001b[0m \u001b[0;34m\u001b[0m\u001b[0m\n\u001b[1;32m      3\u001b[0m \u001b[0mprint\u001b[0m\u001b[0;34m(\u001b[0m\u001b[0mdev_labels\u001b[0m\u001b[0;34m.\u001b[0m\u001b[0mshape\u001b[0m\u001b[0;34m)\u001b[0m\u001b[0;34m\u001b[0m\u001b[0;34m\u001b[0m\u001b[0m\n",
            "\u001b[0;32m<__array_function__ internals>\u001b[0m in \u001b[0;36mconcatenate\u001b[0;34m(*args, **kwargs)\u001b[0m\n",
            "\u001b[0;31mValueError\u001b[0m: need at least one array to concatenate"
          ]
        }
      ]
    },
    {
      "cell_type": "code",
      "metadata": {
        "colab": {
          "base_uri": "https://localhost:8080/"
        },
        "id": "t4GXFb0R7v0D",
        "outputId": "d4b4bd73-0d37-495c-f5f7-3cada0dce2ea"
      },
      "source": [
        "# predict probabilities for test set\n",
        "dev_probs = model.predict(dev.text, verbose=1)\n",
        "# predict crisp classes for test set\n",
        "dev_preds = model.predict_classes(dev.text, verbose=1)\n",
        "\n",
        "# reduce to 1d array\n",
        "# dev_probs = dev_probs[:, 0]\n",
        "# dev_preds = dev_preds[:, 0]\n",
        "\n",
        "dev_probs.shape"
      ],
      "execution_count": 81,
      "outputs": [
        {
          "output_type": "stream",
          "text": [
            "4082/4082 [==============================] - 44s 11ms/step\n",
            "   6/4082 [..............................] - ETA: 43s "
          ],
          "name": "stdout"
        },
        {
          "output_type": "stream",
          "text": [
            "/usr/local/lib/python3.7/dist-packages/tensorflow/python/keras/engine/sequential.py:455: UserWarning: `model.predict_classes()` is deprecated and will be removed after 2021-01-01. Please use instead:* `np.argmax(model.predict(x), axis=-1)`,   if your model does multi-class classification   (e.g. if it uses a `softmax` last-layer activation).* `(model.predict(x) > 0.5).astype(\"int32\")`,   if your model does binary classification   (e.g. if it uses a `sigmoid` last-layer activation).\n",
            "  warnings.warn('`model.predict_classes()` is deprecated and '\n"
          ],
          "name": "stderr"
        },
        {
          "output_type": "stream",
          "text": [
            "4082/4082 [==============================] - 43s 10ms/step\n"
          ],
          "name": "stdout"
        },
        {
          "output_type": "execute_result",
          "data": {
            "text/plain": [
              "(130613, 1)"
            ]
          },
          "metadata": {
            "tags": []
          },
          "execution_count": 81
        }
      ]
    },
    {
      "cell_type": "code",
      "metadata": {
        "colab": {
          "base_uri": "https://localhost:8080/"
        },
        "id": "99NIFRfgRE8r",
        "outputId": "c99a6905-640f-45ee-c347-bec04c48498e"
      },
      "source": [
        "dev_probs[:10]"
      ],
      "execution_count": 82,
      "outputs": [
        {
          "output_type": "execute_result",
          "data": {
            "text/plain": [
              "array([[-0.22698596],\n",
              "       [-0.06064034],\n",
              "       [-1.3568364 ],\n",
              "       [-0.86569965],\n",
              "       [-2.5358386 ],\n",
              "       [-1.455005  ],\n",
              "       [-0.32970682],\n",
              "       [-0.8917693 ],\n",
              "       [-1.3508899 ],\n",
              "       [-9.0696335 ]], dtype=float32)"
            ]
          },
          "metadata": {
            "tags": []
          },
          "execution_count": 82
        }
      ]
    },
    {
      "cell_type": "code",
      "metadata": {
        "colab": {
          "base_uri": "https://localhost:8080/"
        },
        "id": "8l7sofPl8G5H",
        "outputId": "23d12fe0-56cb-407c-c6b5-eb93089bffe2"
      },
      "source": [
        "from sklearn.metrics import accuracy_score\n",
        "from sklearn.metrics import precision_score\n",
        "from sklearn.metrics import recall_score\n",
        "from sklearn.metrics import f1_score\n",
        "\n",
        "accuracy = accuracy_score(dev.label, dev_preds)\n",
        "print('Accuracy: %f' % accuracy)\n",
        "precision = precision_score(dev.label, dev_preds)\n",
        "print('Precision: %f' % precision)\n",
        "recall = recall_score(dev.label, dev_preds)\n",
        "print('Recall: %f' % recall)\n",
        "f1 = f1_score(dev.label, dev_preds)\n",
        "print('F1 score: %f' % f1)\n",
        "\n",
        "print(classification_report(dev.label, dev_preds))"
      ],
      "execution_count": 83,
      "outputs": [
        {
          "output_type": "stream",
          "text": [
            "Accuracy: 0.883794\n",
            "Precision: 0.333254\n",
            "Recall: 0.862175\n",
            "F1 score: 0.480703\n",
            "              precision    recall  f1-score   support\n",
            "\n",
            "           0       0.99      0.89      0.93    122465\n",
            "           1       0.33      0.86      0.48      8148\n",
            "\n",
            "    accuracy                           0.88    130613\n",
            "   macro avg       0.66      0.87      0.71    130613\n",
            "weighted avg       0.95      0.88      0.91    130613\n",
            "\n"
          ],
          "name": "stdout"
        }
      ]
    },
    {
      "cell_type": "code",
      "metadata": {
        "id": "3OFOnZCA3mpb",
        "colab": {
          "base_uri": "https://localhost:8080/",
          "height": 350
        },
        "outputId": "8b4870d7-baa6-4c15-f579-12b70e717330"
      },
      "source": [
        "plt.hist(dev_probs, bins=[-20,-15,-10,-7.5,-5,-4,-2,-1,0,1,5])"
      ],
      "execution_count": 88,
      "outputs": [
        {
          "output_type": "execute_result",
          "data": {
            "text/plain": [
              "(array([  127.,   598.,   888.,  2361.,  2119., 10643., 19651., 53631.,\n",
              "        35966.,  4609.]),\n",
              " array([-20. , -15. , -10. ,  -7.5,  -5. ,  -4. ,  -2. ,  -1. ,   0. ,\n",
              "          1. ,   5. ]),\n",
              " <a list of 10 Patch objects>)"
            ]
          },
          "metadata": {
            "tags": []
          },
          "execution_count": 88
        },
        {
          "output_type": "display_data",
          "data": {
            "image/png": "[encoded data removed]",
            "text/plain": [
              "<Figure size 432x288 with 1 Axes>"
            ]
          },
          "metadata": {
            "tags": [],
            "needs_background": "light"
          }
        }
      ]
    },
    {
      "cell_type": "code",
      "metadata": {
        "id": "QTIRFASBO5MF"
      },
      "source": [
        "calcDF = pd.DataFrame(data=[dev_pred_proba[:,1]], index=['pred']).T\n",
        "calcDF[\"label\"] = dev.label\n",
        "calcDF"
      ],
      "execution_count": null,
      "outputs": []
    },
    {
      "cell_type": "code",
      "metadata": {
        "id": "Bnnb5-oq94DA",
        "colab": {
          "base_uri": "https://localhost:8080/"
        },
        "outputId": "692c67ab-4541-450a-ae08-70895e6cee0e"
      },
      "source": [
        "from google.colab import drive\n",
        "drive.mount('/content/drive')"
      ],
      "execution_count": 52,
      "outputs": [
        {
          "output_type": "stream",
          "text": [
            "Mounted at /content/drive\n"
          ],
          "name": "stdout"
        }
      ]
    },
    {
      "cell_type": "code",
      "metadata": {
        "id": "g4QiyAKu-DKS",
        "colab": {
          "base_uri": "https://localhost:8080/"
        },
        "outputId": "abfe39b1-e199-417d-c75c-d4469b1ca3fa"
      },
      "source": [
        "os.system(\"mkdir /content/drive/MyDrive/models\")\n",
        "model.save(\"quora_rnn\")\n",
        "os.system(\"cp -r /content/quora_rnn /content/drive/MyDrive/models/quora_rnn\")"
      ],
      "execution_count": 114,
      "outputs": [
        {
          "output_type": "stream",
          "text": [
            "WARNING:absl:Found untraced functions such as lstm_cell_25_layer_call_and_return_conditional_losses, lstm_cell_25_layer_call_fn, lstm_cell_26_layer_call_and_return_conditional_losses, lstm_cell_26_layer_call_fn, lstm_cell_28_layer_call_and_return_conditional_losses while saving (showing 5 of 20). These functions will not be directly callable after loading.\n"
          ],
          "name": "stderr"
        },
        {
          "output_type": "stream",
          "text": [
            "INFO:tensorflow:Assets written to: quora_rnn/assets\n"
          ],
          "name": "stdout"
        },
        {
          "output_type": "stream",
          "text": [
            "INFO:tensorflow:Assets written to: quora_rnn/assets\n"
          ],
          "name": "stderr"
        },
        {
          "output_type": "execute_result",
          "data": {
            "text/plain": [
              "0"
            ]
          },
          "metadata": {
            "tags": []
          },
          "execution_count": 114
        }
      ]
    },
    {
      "cell_type": "code",
      "metadata": {
        "colab": {
          "base_uri": "https://localhost:8080/"
        },
        "id": "6OYMcgyaSiVy",
        "outputId": "64b17cb3-bde5-4cd3-8c3c-a3e32adbdfae"
      },
      "source": [
        "dev_probs.reshape(dev_probs.shape[0])"
      ],
      "execution_count": 94,
      "outputs": [
        {
          "output_type": "execute_result",
          "data": {
            "text/plain": [
              "array([-0.22698596, -0.06064034, -1.3568364 , ..., -0.62773347,\n",
              "        0.04016158, -1.9593276 ], dtype=float32)"
            ]
          },
          "metadata": {
            "tags": []
          },
          "execution_count": 94
        }
      ]
    },
    {
      "cell_type": "code",
      "metadata": {
        "colab": {
          "base_uri": "https://localhost:8080/",
          "height": 419
        },
        "id": "KY6VtEVjR8LF",
        "outputId": "1568867f-3f85-49fa-c965-14a61048f35e"
      },
      "source": [
        "calcDF = pd.DataFrame(data=[dev_probs.reshape(dev_probs.shape[0]), [i[0] for i in dev_preds]], index=['pred','predlab']).T\n",
        "calcDF[\"label\"] = dev.label\n",
        "# calcDF[\"pred\"] = 10**calcDF.pred\n",
        "calcDF"
      ],
      "execution_count": 101,
      "outputs": [
        {
          "output_type": "execute_result",
          "data": {
            "text/html": [
              "<div>\n",
              "<style scoped>\n",
              "    .dataframe tbody tr th:only-of-type {\n",
              "        vertical-align: middle;\n",
              "    }\n",
              "\n",
              "    .dataframe tbody tr th {\n",
              "        vertical-align: top;\n",
              "    }\n",
              "\n",
              "    .dataframe thead th {\n",
              "        text-align: right;\n",
              "    }\n",
              "</style>\n",
              "<table border=\"1\" class=\"dataframe\">\n",
              "  <thead>\n",
              "    <tr style=\"text-align: right;\">\n",
              "      <th></th>\n",
              "      <th>pred</th>\n",
              "      <th>predlab</th>\n",
              "      <th>label</th>\n",
              "    </tr>\n",
              "  </thead>\n",
              "  <tbody>\n",
              "    <tr>\n",
              "      <th>0</th>\n",
              "      <td>-0.226986</td>\n",
              "      <td>0.0</td>\n",
              "      <td>1</td>\n",
              "    </tr>\n",
              "    <tr>\n",
              "      <th>1</th>\n",
              "      <td>-0.060640</td>\n",
              "      <td>0.0</td>\n",
              "      <td>0</td>\n",
              "    </tr>\n",
              "    <tr>\n",
              "      <th>2</th>\n",
              "      <td>-1.356836</td>\n",
              "      <td>0.0</td>\n",
              "      <td>0</td>\n",
              "    </tr>\n",
              "    <tr>\n",
              "      <th>3</th>\n",
              "      <td>-0.865700</td>\n",
              "      <td>0.0</td>\n",
              "      <td>0</td>\n",
              "    </tr>\n",
              "    <tr>\n",
              "      <th>4</th>\n",
              "      <td>-2.535839</td>\n",
              "      <td>0.0</td>\n",
              "      <td>0</td>\n",
              "    </tr>\n",
              "    <tr>\n",
              "      <th>...</th>\n",
              "      <td>...</td>\n",
              "      <td>...</td>\n",
              "      <td>...</td>\n",
              "    </tr>\n",
              "    <tr>\n",
              "      <th>130608</th>\n",
              "      <td>-0.661710</td>\n",
              "      <td>0.0</td>\n",
              "      <td>0</td>\n",
              "    </tr>\n",
              "    <tr>\n",
              "      <th>130609</th>\n",
              "      <td>0.663470</td>\n",
              "      <td>1.0</td>\n",
              "      <td>0</td>\n",
              "    </tr>\n",
              "    <tr>\n",
              "      <th>130610</th>\n",
              "      <td>-0.627733</td>\n",
              "      <td>0.0</td>\n",
              "      <td>0</td>\n",
              "    </tr>\n",
              "    <tr>\n",
              "      <th>130611</th>\n",
              "      <td>0.040162</td>\n",
              "      <td>0.0</td>\n",
              "      <td>0</td>\n",
              "    </tr>\n",
              "    <tr>\n",
              "      <th>130612</th>\n",
              "      <td>-1.959328</td>\n",
              "      <td>0.0</td>\n",
              "      <td>0</td>\n",
              "    </tr>\n",
              "  </tbody>\n",
              "</table>\n",
              "<p>130613 rows × 3 columns</p>\n",
              "</div>"
            ],
            "text/plain": [
              "            pred  predlab  label\n",
              "0      -0.226986      0.0      1\n",
              "1      -0.060640      0.0      0\n",
              "2      -1.356836      0.0      0\n",
              "3      -0.865700      0.0      0\n",
              "4      -2.535839      0.0      0\n",
              "...          ...      ...    ...\n",
              "130608 -0.661710      0.0      0\n",
              "130609  0.663470      1.0      0\n",
              "130610 -0.627733      0.0      0\n",
              "130611  0.040162      0.0      0\n",
              "130612 -1.959328      0.0      0\n",
              "\n",
              "[130613 rows x 3 columns]"
            ]
          },
          "metadata": {
            "tags": []
          },
          "execution_count": 101
        }
      ]
    },
    {
      "cell_type": "code",
      "metadata": {
        "colab": {
          "base_uri": "https://localhost:8080/",
          "height": 638
        },
        "id": "7oBZ21S0TgsL",
        "outputId": "c5f37e32-cd2f-4068-eb47-d858f5fb0b55"
      },
      "source": [
        "\n",
        "def frange(start, stop, step):\n",
        "  i = start\n",
        "  while i < stop:\n",
        "    yield i\n",
        "    i += step\n",
        "\n",
        "columnNames = ['threshold', 'f1Score', 'accuracy', 'recall', 'precision']\n",
        "thresholdDF = pd.DataFrame(columns=columnNames)\n",
        "\n",
        "for i in frange(0.05,1,0.05):\n",
        "  calcDF['pred2'] = np.where(calcDF['pred'] > i, 1, 0)\n",
        "  f1Score = f1_score(calcDF.label, calcDF.pred2)\n",
        "  accuracy = accuracy_score(calcDF.label, calcDF.pred2)\n",
        "  recall = recall_score(calcDF.label, calcDF.pred2)\n",
        "  precision = precision_score(calcDF.label, calcDF.pred2)\n",
        "  thresholdDF = thresholdDF.append({'threshold': i, 'f1Score': f1Score, \n",
        "                                    'accuracy':accuracy, 'recall':recall, \n",
        "                                    'precision':precision}, \n",
        "                                   ignore_index=True)\n",
        "\n",
        "thresholdDF"
      ],
      "execution_count": 108,
      "outputs": [
        {
          "output_type": "execute_result",
          "data": {
            "text/html": [
              "<div>\n",
              "<style scoped>\n",
              "    .dataframe tbody tr th:only-of-type {\n",
              "        vertical-align: middle;\n",
              "    }\n",
              "\n",
              "    .dataframe tbody tr th {\n",
              "        vertical-align: top;\n",
              "    }\n",
              "\n",
              "    .dataframe thead th {\n",
              "        text-align: right;\n",
              "    }\n",
              "</style>\n",
              "<table border=\"1\" class=\"dataframe\">\n",
              "  <thead>\n",
              "    <tr style=\"text-align: right;\">\n",
              "      <th></th>\n",
              "      <th>threshold</th>\n",
              "      <th>f1Score</th>\n",
              "      <th>accuracy</th>\n",
              "      <th>recall</th>\n",
              "      <th>precision</th>\n",
              "    </tr>\n",
              "  </thead>\n",
              "  <tbody>\n",
              "    <tr>\n",
              "      <th>0</th>\n",
              "      <td>0.05</td>\n",
              "      <td>0.333099</td>\n",
              "      <td>0.767925</td>\n",
              "      <td>0.929062</td>\n",
              "      <td>0.202927</td>\n",
              "    </tr>\n",
              "    <tr>\n",
              "      <th>1</th>\n",
              "      <td>0.10</td>\n",
              "      <td>0.356675</td>\n",
              "      <td>0.792639</td>\n",
              "      <td>0.921453</td>\n",
              "      <td>0.221136</td>\n",
              "    </tr>\n",
              "    <tr>\n",
              "      <th>2</th>\n",
              "      <td>0.15</td>\n",
              "      <td>0.386413</td>\n",
              "      <td>0.819245</td>\n",
              "      <td>0.912371</td>\n",
              "      <td>0.245112</td>\n",
              "    </tr>\n",
              "    <tr>\n",
              "      <th>3</th>\n",
              "      <td>0.20</td>\n",
              "      <td>0.412617</td>\n",
              "      <td>0.839610</td>\n",
              "      <td>0.903044</td>\n",
              "      <td>0.267398</td>\n",
              "    </tr>\n",
              "    <tr>\n",
              "      <th>4</th>\n",
              "      <td>0.25</td>\n",
              "      <td>0.428395</td>\n",
              "      <td>0.851056</td>\n",
              "      <td>0.894698</td>\n",
              "      <td>0.281619</td>\n",
              "    </tr>\n",
              "    <tr>\n",
              "      <th>5</th>\n",
              "      <td>0.30</td>\n",
              "      <td>0.440654</td>\n",
              "      <td>0.859141</td>\n",
              "      <td>0.889421</td>\n",
              "      <td>0.292879</td>\n",
              "    </tr>\n",
              "    <tr>\n",
              "      <th>6</th>\n",
              "      <td>0.35</td>\n",
              "      <td>0.451203</td>\n",
              "      <td>0.865848</td>\n",
              "      <td>0.884021</td>\n",
              "      <td>0.302902</td>\n",
              "    </tr>\n",
              "    <tr>\n",
              "      <th>7</th>\n",
              "      <td>0.40</td>\n",
              "      <td>0.460968</td>\n",
              "      <td>0.872118</td>\n",
              "      <td>0.876534</td>\n",
              "      <td>0.312711</td>\n",
              "    </tr>\n",
              "    <tr>\n",
              "      <th>8</th>\n",
              "      <td>0.45</td>\n",
              "      <td>0.470662</td>\n",
              "      <td>0.877952</td>\n",
              "      <td>0.869784</td>\n",
              "      <td>0.322620</td>\n",
              "    </tr>\n",
              "    <tr>\n",
              "      <th>9</th>\n",
              "      <td>0.50</td>\n",
              "      <td>0.480703</td>\n",
              "      <td>0.883794</td>\n",
              "      <td>0.862175</td>\n",
              "      <td>0.333254</td>\n",
              "    </tr>\n",
              "    <tr>\n",
              "      <th>10</th>\n",
              "      <td>0.55</td>\n",
              "      <td>0.489910</td>\n",
              "      <td>0.889307</td>\n",
              "      <td>0.852111</td>\n",
              "      <td>0.343781</td>\n",
              "    </tr>\n",
              "    <tr>\n",
              "      <th>11</th>\n",
              "      <td>0.60</td>\n",
              "      <td>0.503278</td>\n",
              "      <td>0.896159</td>\n",
              "      <td>0.843274</td>\n",
              "      <td>0.358668</td>\n",
              "    </tr>\n",
              "    <tr>\n",
              "      <th>12</th>\n",
              "      <td>0.65</td>\n",
              "      <td>0.524251</td>\n",
              "      <td>0.906204</td>\n",
              "      <td>0.828424</td>\n",
              "      <td>0.383457</td>\n",
              "    </tr>\n",
              "    <tr>\n",
              "      <th>13</th>\n",
              "      <td>0.70</td>\n",
              "      <td>0.553758</td>\n",
              "      <td>0.920398</td>\n",
              "      <td>0.791728</td>\n",
              "      <td>0.425780</td>\n",
              "    </tr>\n",
              "    <tr>\n",
              "      <th>14</th>\n",
              "      <td>0.75</td>\n",
              "      <td>0.582663</td>\n",
              "      <td>0.934019</td>\n",
              "      <td>0.738341</td>\n",
              "      <td>0.481203</td>\n",
              "    </tr>\n",
              "    <tr>\n",
              "      <th>15</th>\n",
              "      <td>0.80</td>\n",
              "      <td>0.596225</td>\n",
              "      <td>0.943329</td>\n",
              "      <td>0.670717</td>\n",
              "      <td>0.536626</td>\n",
              "    </tr>\n",
              "    <tr>\n",
              "      <th>16</th>\n",
              "      <td>0.85</td>\n",
              "      <td>0.592543</td>\n",
              "      <td>0.948543</td>\n",
              "      <td>0.599779</td>\n",
              "      <td>0.585480</td>\n",
              "    </tr>\n",
              "    <tr>\n",
              "      <th>17</th>\n",
              "      <td>0.90</td>\n",
              "      <td>0.570782</td>\n",
              "      <td>0.950648</td>\n",
              "      <td>0.526019</td>\n",
              "      <td>0.623872</td>\n",
              "    </tr>\n",
              "    <tr>\n",
              "      <th>18</th>\n",
              "      <td>0.95</td>\n",
              "      <td>0.539632</td>\n",
              "      <td>0.951574</td>\n",
              "      <td>0.454958</td>\n",
              "      <td>0.663030</td>\n",
              "    </tr>\n",
              "  </tbody>\n",
              "</table>\n",
              "</div>"
            ],
            "text/plain": [
              "    threshold   f1Score  accuracy    recall  precision\n",
              "0        0.05  0.333099  0.767925  0.929062   0.202927\n",
              "1        0.10  0.356675  0.792639  0.921453   0.221136\n",
              "2        0.15  0.386413  0.819245  0.912371   0.245112\n",
              "3        0.20  0.412617  0.839610  0.903044   0.267398\n",
              "4        0.25  0.428395  0.851056  0.894698   0.281619\n",
              "5        0.30  0.440654  0.859141  0.889421   0.292879\n",
              "6        0.35  0.451203  0.865848  0.884021   0.302902\n",
              "7        0.40  0.460968  0.872118  0.876534   0.312711\n",
              "8        0.45  0.470662  0.877952  0.869784   0.322620\n",
              "9        0.50  0.480703  0.883794  0.862175   0.333254\n",
              "10       0.55  0.489910  0.889307  0.852111   0.343781\n",
              "11       0.60  0.503278  0.896159  0.843274   0.358668\n",
              "12       0.65  0.524251  0.906204  0.828424   0.383457\n",
              "13       0.70  0.553758  0.920398  0.791728   0.425780\n",
              "14       0.75  0.582663  0.934019  0.738341   0.481203\n",
              "15       0.80  0.596225  0.943329  0.670717   0.536626\n",
              "16       0.85  0.592543  0.948543  0.599779   0.585480\n",
              "17       0.90  0.570782  0.950648  0.526019   0.623872\n",
              "18       0.95  0.539632  0.951574  0.454958   0.663030"
            ]
          },
          "metadata": {
            "tags": []
          },
          "execution_count": 108
        }
      ]
    },
    {
      "cell_type": "code",
      "metadata": {
        "colab": {
          "base_uri": "https://localhost:8080/"
        },
        "id": "I5toxVmuUDDm",
        "outputId": "57651526-6f71-4f67-b062-5b86684b9de2"
      },
      "source": [
        "optimumThreshold = thresholdDF.loc[thresholdDF['f1Score'].idxmax()][0]\n",
        "\n",
        "optimumThreshold"
      ],
      "execution_count": 109,
      "outputs": [
        {
          "output_type": "execute_result",
          "data": {
            "text/plain": [
              "0.8000000000000002"
            ]
          },
          "metadata": {
            "tags": []
          },
          "execution_count": 109
        }
      ]
    },
    {
      "cell_type": "code",
      "metadata": {
        "colab": {
          "base_uri": "https://localhost:8080/"
        },
        "id": "lIRBNByrUGwx",
        "outputId": "a220bb1d-6273-41ad-df2c-2aafc5fad033"
      },
      "source": [
        "dev_final = dev.copy()\n",
        "dev_final[\"prediction\"] = calcDF.pred.apply(lambda x: int(x>optimumThreshold))\n",
        "mispred = dev_final[dev_final.label != dev_final.prediction].reset_index()\n",
        "\n",
        "for i in range(400,420):\n",
        "    print(mispred.label[i], mispred.prediction[i], mispred.text[i], )"
      ],
      "execution_count": 111,
      "outputs": [
        {
          "output_type": "stream",
          "text": [
            "0 1 The foreskin of my penis does not comes down. The frenulum of my penis is not long. Will I be able to have sex? Will dis be a problem during intercourse?\n",
            "1 0 Who wants to argue? I'm pro-life.\n",
            "1 0 What can I do if I want to become anorexic, but not dangerously so, because I'm overweight?\n",
            "0 1 How can individuals prove they are Jews when the Romans destroyed the Second Temple with all its geneological records in 70 A.D?\n",
            "0 1 How are liberals feeling about the \"Her Opponent\" study that swaps the genders of Hillary Clinton and Donald Trump?\n",
            "0 1 Do girls like tall black guys?\n",
            "0 1 What are the best teachings of Islam that personally appeal to you as a Muslim?\n",
            "1 0 Has someone actually benefited by drinking camel urine? (Arabs drink)\n",
            "0 1 Russia's foreign ministry has stated: \"Smart missiles should fly towards terrorists, not [Syria's] lawful government, which has spent years fighting against terrorism on its territory.\" Is this true? Do Syria fight terrorism? Or do they support it?\n",
            "0 1 If majority of the population doesnt believe in the Jesus Christ, why is our timeline based around his birth/death (BC/AF). Also why does the court make us swear on the holy Bible if we have no belief in it?\n",
            "0 1 Why don't millennials like banks?\n",
            "0 1 Why did the world allow many Nazi murderers go unpunished after WWII?\n",
            "1 0 Do the British and our European allies understand how sorry we are to have this orange fruitcake as our president?\n",
            "1 0 What did President Obama do to cause the current state of racial tension?\n",
            "0 1 Why do so many people say that the US isn't a democracy?\n",
            "0 1 What will happen if India legalises homosexuality in India?\n",
            "1 0 Should Najib Razak be hanged?\n",
            "1 0 Do you plan on braiding your vagina this Christmas?\n",
            "0 1 Why did the Senate Judiciary Committee release transcripts of testimony provided by Donald Trump, Jr?\n",
            "0 1 I literally just can't with you, your brain is truly amazing! Sorry, just had to blurb this real quick lol?\n"
          ],
          "name": "stdout"
        }
      ]
    },
    {
      "cell_type": "code",
      "metadata": {
        "colab": {
          "base_uri": "https://localhost:8080/"
        },
        "id": "o9UqMk3TUVKh",
        "outputId": "1951d054-6a40-4faf-ba95-63d9e128a25e"
      },
      "source": [
        "print('Accuracy:', accuracy_score(dev_final.label, dev_final.prediction))\n",
        "print('F1 score:', f1_score(dev_final.label, dev_final.prediction))\n",
        "print('Recall:', recall_score(dev_final.label, dev_final.prediction))\n",
        "print('Precision:', precision_score(dev_final.label, dev_final.prediction))\n",
        "print('\\n Clasification report:\\n', classification_report(dev_final.label, dev_final.prediction))"
      ],
      "execution_count": 113,
      "outputs": [
        {
          "output_type": "stream",
          "text": [
            "Accuracy: 0.9433287651305766\n",
            "F1 score: 0.5962251800130918\n",
            "Recall: 0.6707167403043691\n",
            "Precision: 0.5366260801256874\n",
            "\n",
            " Clasification report:\n",
            "               precision    recall  f1-score   support\n",
            "\n",
            "           0       0.98      0.96      0.97    122465\n",
            "           1       0.54      0.67      0.60      8148\n",
            "\n",
            "    accuracy                           0.94    130613\n",
            "   macro avg       0.76      0.82      0.78    130613\n",
            "weighted avg       0.95      0.94      0.95    130613\n",
            "\n"
          ],
          "name": "stdout"
        }
      ]
    },
    {
      "cell_type": "code",
      "metadata": {
        "colab": {
          "base_uri": "https://localhost:8080/",
          "height": 34
        },
        "id": "WN7uU0NHVhnm",
        "outputId": "6a1e8732-2508-4f65-9ad9-f61234f16da6"
      },
      "source": [
        "from google.colab import files\n",
        "files.download('quora_rnn') "
      ],
      "execution_count": 115,
      "outputs": [
        {
          "output_type": "display_data",
          "data": {
            "application/javascript": [
              "\n",
              "    async function download(id, filename, size) {\n",
              "      if (!google.colab.kernel.accessAllowed) {\n",
              "        return;\n",
              "      }\n",
              "      const div = document.createElement('div');\n",
              "      const label = document.createElement('label');\n",
              "      label.textContent = `Downloading \"${filename}\": `;\n",
              "      div.appendChild(label);\n",
              "      const progress = document.createElement('progress');\n",
              "      progress.max = size;\n",
              "      div.appendChild(progress);\n",
              "      document.body.appendChild(div);\n",
              "\n",
              "      const buffers = [];\n",
              "      let downloaded = 0;\n",
              "\n",
              "      const channel = await google.colab.kernel.comms.open(id);\n",
              "      // Send a message to notify the kernel that we're ready.\n",
              "      channel.send({})\n",
              "\n",
              "      for await (const message of channel.messages) {\n",
              "        // Send a message to notify the kernel that we're ready.\n",
              "        channel.send({})\n",
              "        if (message.buffers) {\n",
              "          for (const buffer of message.buffers) {\n",
              "            buffers.push(buffer);\n",
              "            downloaded += buffer.byteLength;\n",
              "            progress.value = downloaded;\n",
              "          }\n",
              "        }\n",
              "      }\n",
              "      const blob = new Blob(buffers, {type: 'application/binary'});\n",
              "      const a = document.createElement('a');\n",
              "      a.href = window.URL.createObjectURL(blob);\n",
              "      a.download = filename;\n",
              "      div.appendChild(a);\n",
              "      a.click();\n",
              "      div.remove();\n",
              "    }\n",
              "  "
            ],
            "text/plain": [
              "<IPython.core.display.Javascript object>"
            ]
          },
          "metadata": {
            "tags": []
          }
        },
        {
          "output_type": "display_data",
          "data": {
            "application/javascript": [
              "download(\"download_efea4cb6-9f32-4394-a68e-4fa85ca59a70\", \"quora_rnn\", 4096)"
            ],
            "text/plain": [
              "<IPython.core.display.Javascript object>"
            ]
          },
          "metadata": {
            "tags": []
          }
        }
      ]
    }
  ]
}