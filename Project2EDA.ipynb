{
  "nbformat": 4,
  "nbformat_minor": 0,
  "metadata": {
    "colab": {
      "name": "Project2EDA.ipynb",
      "provenance": [],
      "collapsed_sections": [],
      "authorship_tag": "ABX9TyMo7F7m7bE9G1MCN1prUnKW",
      "include_colab_link": true
    },
    "kernelspec": {
      "name": "python3",
      "display_name": "Python 3"
    },
    "language_info": {
      "name": "python"
    }
  },
  "cells": [
    {
      "cell_type": "markdown",
      "metadata": {
        "id": "view-in-github",
        "colab_type": "text"
      },
      "source": [
        "<a href=\"https://colab.research.google.com/github/orgoca/W207FinalProject/blob/main/Project2EDA.ipynb\" target=\"_parent\"><img src=\"https://colab.research.google.com/assets/colab-badge.svg\" alt=\"Open In Colab\"/></a>"
      ]
    },
    {
      "cell_type": "markdown",
      "metadata": {
        "id": "iDo9bwz8QArK"
      },
      "source": [
        "## Project 2 Baseline\n",
        "Quora Project\n",
        "\n"
      ]
    },
    {
      "cell_type": "code",
      "metadata": {
        "id": "UWXoUx9hq-Mm"
      },
      "source": [
        "# Code to read csv file from Google Drive into Colaboratory:\n",
        "!pip install -U -q PyDrive\n",
        "from pydrive.auth import GoogleAuth\n",
        "from pydrive.drive import GoogleDrive\n",
        "from google.colab import auth\n",
        "from oauth2client.client import GoogleCredentials\n",
        "# Authenticate and create the PyDrive client.\n",
        "auth.authenticate_user()\n",
        "gauth = GoogleAuth()\n",
        "gauth.credentials = GoogleCredentials.get_application_default()\n",
        "drive = GoogleDrive(gauth)"
      ],
      "execution_count": 143,
      "outputs": []
    },
    {
      "cell_type": "code",
      "metadata": {
        "id": "cGHI3gXlx3nG"
      },
      "source": [
        "#Import Libraries\n",
        "import os\n",
        "import pandas\n",
        "from sklearn.feature_extraction.text import CountVectorizer\n",
        "from sklearn.linear_model import LogisticRegression\n",
        "import numpy as np\n",
        "from sklearn.model_selection import train_test_split\n",
        "import csv"
      ],
      "execution_count": 144,
      "outputs": []
    },
    {
      "cell_type": "code",
      "metadata": {
        "id": "EBs8bJ_SroPT"
      },
      "source": [
        "#Load test DF\n",
        "testLink = 'https://drive.google.com/file/d/1chKVOcXwNzGRe_hRxpGlq18NVaSRM8X9/view?usp=sharing'\n",
        "idTest = testLink.split('/')[-2]\n",
        "downloaded = drive.CreateFile({'id':idTest}) \n",
        "downloaded.GetContentFile('test.csv')  \n",
        "test = pd.read_csv('test.csv')"
      ],
      "execution_count": 145,
      "outputs": []
    },
    {
      "cell_type": "code",
      "metadata": {
        "id": "Cnl_313BvWqn"
      },
      "source": [
        "#Load train DF\n",
        "trainLink = 'https://drive.google.com/file/d/1fP-AWiUGLjLkL0c_u67HOUFmHOMO7qm2/view?usp=sharing'\n",
        "idTrain = trainLink.split('/')[-2]\n",
        "downloaded = drive.CreateFile({'id':idTrain}) \n",
        "downloaded.GetContentFile('train.csv')  \n",
        "train = pd.read_csv('train.csv')"
      ],
      "execution_count": 146,
      "outputs": []
    },
    {
      "cell_type": "code",
      "metadata": {
        "id": "j6zcj0EP2we6"
      },
      "source": [
        "#Split Training Data into MiniTrain and MiniTest (Test data has no labels so impossible to measure error from it)\n",
        "miniTrain, miniTest = train_test_split(train, test_size=0.2)"
      ],
      "execution_count": 147,
      "outputs": []
    },
    {
      "cell_type": "code",
      "metadata": {
        "id": "cW48qyHKAxsQ"
      },
      "source": [
        "#Create a vectorizer, create question and target lists, and vectorize train questions\n",
        "vectorizer = CountVectorizer()\n",
        "trainQuestions = miniTrain.question_text.tolist()\n",
        "trainLabels = miniTrain.target.tolist()\n",
        "vTrain = vectorizer.fit_transform(trainQuestions)"
      ],
      "execution_count": 148,
      "outputs": []
    },
    {
      "cell_type": "code",
      "metadata": {
        "colab": {
          "base_uri": "https://localhost:8080/"
        },
        "id": "gR1HEyRWB6ee",
        "outputId": "fd3d4257-ba5f-4b85-9f6d-f8983cfaeae7"
      },
      "source": [
        "#What is the vocabulary size, and create a bag of words\n",
        "print(\"vocab size: \", vTrain.shape)\n",
        "bagOfWords = vectorizer.vocabulary_\n",
        "len(bagOfWords)"
      ],
      "execution_count": 127,
      "outputs": [
        {
          "output_type": "stream",
          "text": [
            "vocab size:  (1044897, 172948)\n"
          ],
          "name": "stdout"
        },
        {
          "output_type": "execute_result",
          "data": {
            "text/plain": [
              "172948"
            ]
          },
          "metadata": {
            "tags": []
          },
          "execution_count": 127
        }
      ]
    },
    {
      "cell_type": "code",
      "metadata": {
        "colab": {
          "base_uri": "https://localhost:8080/"
        },
        "id": "YOeJUzNl1tMx",
        "outputId": "2db0ac48-3533-47fa-c277-270444018f7f"
      },
      "source": [
        "#Create a logistic regression model and fit to train data\n",
        "lr_clf = LogisticRegression(C=1)\n",
        "lr_clf.fit(vTrain, trainLabels)\n",
        "\n",
        "train_predict = lr_clf.predict(vTrain)\n",
        "train_predict"
      ],
      "execution_count": 152,
      "outputs": [
        {
          "output_type": "stream",
          "text": [
            "/usr/local/lib/python3.7/dist-packages/sklearn/linear_model/_logistic.py:940: ConvergenceWarning: lbfgs failed to converge (status=1):\n",
            "STOP: TOTAL NO. of ITERATIONS REACHED LIMIT.\n",
            "\n",
            "Increase the number of iterations (max_iter) or scale the data as shown in:\n",
            "    https://scikit-learn.org/stable/modules/preprocessing.html\n",
            "Please also refer to the documentation for alternative solver options:\n",
            "    https://scikit-learn.org/stable/modules/linear_model.html#logistic-regression\n",
            "  extra_warning_msg=_LOGISTIC_SOLVER_CONVERGENCE_MSG)\n"
          ],
          "name": "stderr"
        },
        {
          "output_type": "execute_result",
          "data": {
            "text/plain": [
              "array([0, 0, 0, ..., 0, 0, 0])"
            ]
          },
          "metadata": {
            "tags": []
          },
          "execution_count": 152
        }
      ]
    },
    {
      "cell_type": "code",
      "metadata": {
        "colab": {
          "base_uri": "https://localhost:8080/"
        },
        "id": "MQnfF4jZ5Y3E",
        "outputId": "610d8ecf-c600-48bb-f7ff-0fe39ce0dbaf"
      },
      "source": [
        "lr_clf.predict_proba(vTrain)"
      ],
      "execution_count": 153,
      "outputs": [
        {
          "output_type": "execute_result",
          "data": {
            "text/plain": [
              "array([[0.99280442, 0.00719558],\n",
              "       [0.9956997 , 0.0043003 ],\n",
              "       [0.99461185, 0.00538815],\n",
              "       ...,\n",
              "       [0.96670189, 0.03329811],\n",
              "       [0.99870052, 0.00129948],\n",
              "       [0.7517752 , 0.2482248 ]])"
            ]
          },
          "metadata": {
            "tags": []
          },
          "execution_count": 153
        }
      ]
    },
    {
      "cell_type": "code",
      "metadata": {
        "colab": {
          "base_uri": "https://localhost:8080/"
        },
        "id": "3ouI9iSe2s-b",
        "outputId": "3689ae3d-1e0d-4034-98ed-7eb68bc83121"
      },
      "source": [
        "#Try an insincere question. Insincere questions should get a higher probability score to legitimate questions.\n",
        "testQuestionInsincere1 = \"Why are Indians a superior race to Pakistanis?\"\n",
        "\n",
        "vdev = vectorizer.transform([testQuestionInsincere.lower()])\n",
        "\n",
        "lr_clf.predict_proba(vdev)[0][1]"
      ],
      "execution_count": 222,
      "outputs": [
        {
          "output_type": "execute_result",
          "data": {
            "text/plain": [
              "0.9498919722380983"
            ]
          },
          "metadata": {
            "tags": []
          },
          "execution_count": 222
        }
      ]
    },
    {
      "cell_type": "code",
      "metadata": {
        "colab": {
          "base_uri": "https://localhost:8080/"
        },
        "id": "DEFuokAWM9LH",
        "outputId": "91ed8281-2609-4a85-abd4-9932c7a509ce"
      },
      "source": [
        "#Try a sincere question. Sincere questions should get a lower probability score ideally close to zero.\n",
        "testQuestionInsincere = \"What are the origins of the conflict between Indians and Pakistanis?\"\n",
        "vdev = vectorizer.transform([testQuestionInsincere.lower()])\n",
        "\n",
        "lr_clf.predict_proba(vdev)[0][1]"
      ],
      "execution_count": 244,
      "outputs": [
        {
          "output_type": "execute_result",
          "data": {
            "text/plain": [
              "0.17770639220411022"
            ]
          },
          "metadata": {
            "tags": []
          },
          "execution_count": 244
        }
      ]
    },
    {
      "cell_type": "code",
      "metadata": {
        "colab": {
          "base_uri": "https://localhost:8080/",
          "height": 419
        },
        "id": "nJtoMgJXSr6D",
        "outputId": "505f1587-d85a-4ea0-e680-c84b38666f16"
      },
      "source": [
        "#Let's predict probability for each question in the miniTest dataframe\n",
        "columnNames = ['question', 'pred']\n",
        "predictDF = pd.DataFrame(columns = columnNames)\n",
        "\n",
        "for question in miniTest.question_text: \n",
        "  vdev = vectorizer.transform([question.lower()])\n",
        "  pred = lr_clf.predict_proba(vdev)[0][1]\n",
        "  predictDF = predictDF.append({'question':question,'pred': pred}, ignore_index=True)\n",
        "\n",
        "predictDF"
      ],
      "execution_count": 243,
      "outputs": [
        {
          "output_type": "execute_result",
          "data": {
            "text/html": [
              "<div>\n",
              "<style scoped>\n",
              "    .dataframe tbody tr th:only-of-type {\n",
              "        vertical-align: middle;\n",
              "    }\n",
              "\n",
              "    .dataframe tbody tr th {\n",
              "        vertical-align: top;\n",
              "    }\n",
              "\n",
              "    .dataframe thead th {\n",
              "        text-align: right;\n",
              "    }\n",
              "</style>\n",
              "<table border=\"1\" class=\"dataframe\">\n",
              "  <thead>\n",
              "    <tr style=\"text-align: right;\">\n",
              "      <th></th>\n",
              "      <th>question</th>\n",
              "      <th>pred</th>\n",
              "    </tr>\n",
              "  </thead>\n",
              "  <tbody>\n",
              "    <tr>\n",
              "      <th>0</th>\n",
              "      <td>Whenever I meditate my body starts to shakes v...</td>\n",
              "      <td>0.054901</td>\n",
              "    </tr>\n",
              "    <tr>\n",
              "      <th>1</th>\n",
              "      <td>How can you clear rolling acne scars with home...</td>\n",
              "      <td>0.004890</td>\n",
              "    </tr>\n",
              "    <tr>\n",
              "      <th>2</th>\n",
              "      <td>How can I get resent information about all com...</td>\n",
              "      <td>0.005836</td>\n",
              "    </tr>\n",
              "    <tr>\n",
              "      <th>3</th>\n",
              "      <td>How do I stop myself from being insulted?</td>\n",
              "      <td>0.020352</td>\n",
              "    </tr>\n",
              "    <tr>\n",
              "      <th>4</th>\n",
              "      <td>I want to become a developer both front-end an...</td>\n",
              "      <td>0.004018</td>\n",
              "    </tr>\n",
              "    <tr>\n",
              "      <th>...</th>\n",
              "      <td>...</td>\n",
              "      <td>...</td>\n",
              "    </tr>\n",
              "    <tr>\n",
              "      <th>261220</th>\n",
              "      <td>From a security perspective, is a ZTE Z233VL p...</td>\n",
              "      <td>0.000442</td>\n",
              "    </tr>\n",
              "    <tr>\n",
              "      <th>261221</th>\n",
              "      <td>How do I start self preparation for CAT 2019?</td>\n",
              "      <td>0.009282</td>\n",
              "    </tr>\n",
              "    <tr>\n",
              "      <th>261222</th>\n",
              "      <td>Does coarse hair usually look better with a da...</td>\n",
              "      <td>0.010414</td>\n",
              "    </tr>\n",
              "    <tr>\n",
              "      <th>261223</th>\n",
              "      <td>What does \"exemplary students\" mean?</td>\n",
              "      <td>0.008262</td>\n",
              "    </tr>\n",
              "    <tr>\n",
              "      <th>261224</th>\n",
              "      <td>Do you think it is necessary for governments t...</td>\n",
              "      <td>0.008319</td>\n",
              "    </tr>\n",
              "  </tbody>\n",
              "</table>\n",
              "<p>261225 rows × 2 columns</p>\n",
              "</div>"
            ],
            "text/plain": [
              "                                                 question      pred\n",
              "0       Whenever I meditate my body starts to shakes v...  0.054901\n",
              "1       How can you clear rolling acne scars with home...  0.004890\n",
              "2       How can I get resent information about all com...  0.005836\n",
              "3               How do I stop myself from being insulted?  0.020352\n",
              "4       I want to become a developer both front-end an...  0.004018\n",
              "...                                                   ...       ...\n",
              "261220  From a security perspective, is a ZTE Z233VL p...  0.000442\n",
              "261221      How do I start self preparation for CAT 2019?  0.009282\n",
              "261222  Does coarse hair usually look better with a da...  0.010414\n",
              "261223               What does \"exemplary students\" mean?  0.008262\n",
              "261224  Do you think it is necessary for governments t...  0.008319\n",
              "\n",
              "[261225 rows x 2 columns]"
            ]
          },
          "metadata": {
            "tags": []
          },
          "execution_count": 243
        }
      ]
    },
    {
      "cell_type": "code",
      "metadata": {
        "id": "HYWxnHQOX0st"
      },
      "source": [
        "#Let's see some nasty questions\n",
        "nastyQuestions = predictDF[predictDF.pred > .9]\n",
        "\n",
        "nastyQuestions.to_csv('nastyQuestions.csv', index=False)"
      ],
      "execution_count": 267,
      "outputs": []
    },
    {
      "cell_type": "code",
      "metadata": {
        "id": "Zr7Bywd1pn_O"
      },
      "source": [
        "#Merge predict DF to miniTestDF to produce prediction metrics\n",
        "\n",
        "predictDF.columns = ['question_text', 'pred']\n",
        "\n",
        "summaryDF = pd.merge(predictDF,miniTest,on='question_text',how='left')\n",
        "\n",
        "summaryDF.to_csv('summaryDF.csv', index=False)"
      ],
      "execution_count": 268,
      "outputs": []
    },
    {
      "cell_type": "code",
      "metadata": {
        "id": "6STZcnAfqgiO"
      },
      "source": [
        "confusionMatrixDF = summaryDF[['pred', 'target']]"
      ],
      "execution_count": 279,
      "outputs": []
    },
    {
      "cell_type": "code",
      "metadata": {
        "colab": {
          "base_uri": "https://localhost:8080/"
        },
        "id": "WQ4Is46I2RM4",
        "outputId": "735c2b2c-6bb0-446e-d062-f22d525d206d"
      },
      "source": [
        "#Tried -by hand- values between 0.5:1.0 and 0.2 produced the best F1 score\n",
        " \n",
        "confusionMatrixDF['pred'] = np.where(confusionMatrixDF['pred'] > 0.2, 1, 0)"
      ],
      "execution_count": 280,
      "outputs": [
        {
          "output_type": "stream",
          "text": [
            "/usr/local/lib/python3.7/dist-packages/ipykernel_launcher.py:1: SettingWithCopyWarning: \n",
            "A value is trying to be set on a copy of a slice from a DataFrame.\n",
            "Try using .loc[row_indexer,col_indexer] = value instead\n",
            "\n",
            "See the caveats in the documentation: https://pandas.pydata.org/pandas-docs/stable/user_guide/indexing.html#returning-a-view-versus-a-copy\n",
            "  \"\"\"Entry point for launching an IPython kernel.\n"
          ],
          "name": "stderr"
        }
      ]
    },
    {
      "cell_type": "code",
      "metadata": {
        "colab": {
          "base_uri": "https://localhost:8080/"
        },
        "id": "6ESZngIW38pd",
        "outputId": "5911350f-d296-46dd-9b45-e0fb803cd3fd"
      },
      "source": [
        "#Compute baseline F1 Score (and other metrics)\n",
        "confusionMatrixDF\n",
        "\n",
        "from sklearn.metrics import precision_score, \\\n",
        "    recall_score, confusion_matrix, classification_report, \\\n",
        "    accuracy_score, f1_score\n",
        "\n",
        "print('Accuracy:', accuracy_score(confusionMatrixDF.target, confusionMatrixDF.pred))\n",
        "print('F1 score:', f1_score(confusionMatrixDF.target, confusionMatrixDF.pred))\n",
        "print('Recall:', recall_score(confusionMatrixDF.target, confusionMatrixDF.pred))\n",
        "print('Precision:', precision_score(confusionMatrixDF.target, confusionMatrixDF.pred))\n",
        "print('\\n clasification report:\\n', classification_report(confusionMatrixDF.target,confusionMatrixDF.pred))\n",
        "print('\\n confussion matrix:\\n',confusion_matrix(confusionMatrixDF.target, confusionMatrixDF.pred))"
      ],
      "execution_count": 291,
      "outputs": [
        {
          "output_type": "stream",
          "text": [
            "Accuracy: 0.9467049478418987\n",
            "F1 score: 0.6207366241691185\n",
            "Recall: 0.7071127110228401\n",
            "Precision: 0.5531656632355797\n",
            "\n",
            " clasification report:\n",
            "               precision    recall  f1-score   support\n",
            "\n",
            "           0       0.98      0.96      0.97    245113\n",
            "           1       0.55      0.71      0.62     16112\n",
            "\n",
            "    accuracy                           0.95    261225\n",
            "   macro avg       0.77      0.83      0.80    261225\n",
            "weighted avg       0.95      0.95      0.95    261225\n",
            "\n",
            "\n",
            " confussion matrix:\n",
            " [[235910   9203]\n",
            " [  4719  11393]]\n"
          ],
          "name": "stdout"
        }
      ]
    },
    {
      "cell_type": "code",
      "metadata": {
        "id": "wHJM86PY4fFy"
      },
      "source": [
        ""
      ],
      "execution_count": null,
      "outputs": []
    }
  ]
}