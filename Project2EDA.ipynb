{
  "nbformat": 4,
  "nbformat_minor": 0,
  "metadata": {
    "colab": {
      "name": "Project2EDA.ipynb",
      "provenance": [],
      "collapsed_sections": [],
      "authorship_tag": "ABX9TyO7IIRPXq2MqbPXuv9BNirC",
      "include_colab_link": true
    },
    "kernelspec": {
      "name": "python3",
      "display_name": "Python 3"
    },
    "language_info": {
      "name": "python"
    }
  },
  "cells": [
    {
      "cell_type": "markdown",
      "metadata": {
        "id": "view-in-github",
        "colab_type": "text"
      },
      "source": [
        "<a href=\"https://colab.research.google.com/github/orgoca/W207FinalProject/blob/main/Project2EDA.ipynb\" target=\"_parent\"><img src=\"https://colab.research.google.com/assets/colab-badge.svg\" alt=\"Open In Colab\"/></a>"
      ]
    },
    {
      "cell_type": "code",
      "metadata": {
        "id": "UWXoUx9hq-Mm"
      },
      "source": [
        "# Code to read csv file from Google Drive into Colaboratory:\n",
        "!pip install -U -q PyDrive\n",
        "from pydrive.auth import GoogleAuth\n",
        "from pydrive.drive import GoogleDrive\n",
        "from google.colab import auth\n",
        "from oauth2client.client import GoogleCredentials\n",
        "# Authenticate and create the PyDrive client.\n",
        "auth.authenticate_user()\n",
        "gauth = GoogleAuth()\n",
        "gauth.credentials = GoogleCredentials.get_application_default()\n",
        "drive = GoogleDrive(gauth)"
      ],
      "execution_count": 143,
      "outputs": []
    },
    {
      "cell_type": "code",
      "metadata": {
        "id": "cGHI3gXlx3nG"
      },
      "source": [
        "#Import Libraries\n",
        "import os\n",
        "import pandas\n",
        "from sklearn.feature_extraction.text import CountVectorizer\n",
        "from sklearn.linear_model import LogisticRegression\n",
        "import numpy as np\n",
        "from sklearn.model_selection import train_test_split\n",
        "import csv"
      ],
      "execution_count": 144,
      "outputs": []
    },
    {
      "cell_type": "code",
      "metadata": {
        "id": "EBs8bJ_SroPT"
      },
      "source": [
        "#Load test DF\n",
        "testLink = 'https://drive.google.com/file/d/1chKVOcXwNzGRe_hRxpGlq18NVaSRM8X9/view?usp=sharing'\n",
        "idTest = testLink.split('/')[-2]\n",
        "downloaded = drive.CreateFile({'id':idTest}) \n",
        "downloaded.GetContentFile('test.csv')  \n",
        "test = pd.read_csv('test.csv')"
      ],
      "execution_count": 145,
      "outputs": []
    },
    {
      "cell_type": "code",
      "metadata": {
        "id": "Cnl_313BvWqn"
      },
      "source": [
        "#Load train DF\n",
        "trainLink = 'https://drive.google.com/file/d/1fP-AWiUGLjLkL0c_u67HOUFmHOMO7qm2/view?usp=sharing'\n",
        "idTrain = trainLink.split('/')[-2]\n",
        "downloaded = drive.CreateFile({'id':idTrain}) \n",
        "downloaded.GetContentFile('train.csv')  \n",
        "train = pd.read_csv('train.csv')"
      ],
      "execution_count": 146,
      "outputs": []
    },
    {
      "cell_type": "code",
      "metadata": {
        "id": "j6zcj0EP2we6"
      },
      "source": [
        "#Split Training Data into MiniTrain and MiniTest (Test data has no labels so impossible to measure error from it)\n",
        "miniTrain, miniTest = train_test_split(train, test_size=0.2)"
      ],
      "execution_count": 147,
      "outputs": []
    },
    {
      "cell_type": "code",
      "metadata": {
        "id": "cW48qyHKAxsQ"
      },
      "source": [
        "#Create a vectorizer, create question and target lists, and vectorize train questions\n",
        "vectorizer = CountVectorizer()\n",
        "trainQuestions = miniTrain.question_text.tolist()\n",
        "trainLabels = miniTrain.target.tolist()\n",
        "vTrain = vectorizer.fit_transform(trainQuestions)"
      ],
      "execution_count": 148,
      "outputs": []
    },
    {
      "cell_type": "code",
      "metadata": {
        "colab": {
          "base_uri": "https://localhost:8080/"
        },
        "id": "gR1HEyRWB6ee",
        "outputId": "fd3d4257-ba5f-4b85-9f6d-f8983cfaeae7"
      },
      "source": [
        "#What is the vocabulary size, and create a bag of words\n",
        "print(\"vocab size: \", vTrain.shape)\n",
        "bagOfWords = vectorizer.vocabulary_\n",
        "len(bagOfWords)"
      ],
      "execution_count": 127,
      "outputs": [
        {
          "output_type": "stream",
          "text": [
            "vocab size:  (1044897, 172948)\n"
          ],
          "name": "stdout"
        },
        {
          "output_type": "execute_result",
          "data": {
            "text/plain": [
              "172948"
            ]
          },
          "metadata": {
            "tags": []
          },
          "execution_count": 127
        }
      ]
    },
    {
      "cell_type": "code",
      "metadata": {
        "colab": {
          "base_uri": "https://localhost:8080/"
        },
        "id": "YOeJUzNl1tMx",
        "outputId": "2db0ac48-3533-47fa-c277-270444018f7f"
      },
      "source": [
        "#Create a logistic regression model and fit to train data\n",
        "lr_clf = LogisticRegression(C=1)\n",
        "lr_clf.fit(vTrain, trainLabels)\n",
        "\n",
        "train_predict = lr_clf.predict(vTrain)\n",
        "train_predict"
      ],
      "execution_count": 152,
      "outputs": [
        {
          "output_type": "stream",
          "text": [
            "/usr/local/lib/python3.7/dist-packages/sklearn/linear_model/_logistic.py:940: ConvergenceWarning: lbfgs failed to converge (status=1):\n",
            "STOP: TOTAL NO. of ITERATIONS REACHED LIMIT.\n",
            "\n",
            "Increase the number of iterations (max_iter) or scale the data as shown in:\n",
            "    https://scikit-learn.org/stable/modules/preprocessing.html\n",
            "Please also refer to the documentation for alternative solver options:\n",
            "    https://scikit-learn.org/stable/modules/linear_model.html#logistic-regression\n",
            "  extra_warning_msg=_LOGISTIC_SOLVER_CONVERGENCE_MSG)\n"
          ],
          "name": "stderr"
        },
        {
          "output_type": "execute_result",
          "data": {
            "text/plain": [
              "array([0, 0, 0, ..., 0, 0, 0])"
            ]
          },
          "metadata": {
            "tags": []
          },
          "execution_count": 152
        }
      ]
    },
    {
      "cell_type": "code",
      "metadata": {
        "colab": {
          "base_uri": "https://localhost:8080/"
        },
        "id": "MQnfF4jZ5Y3E",
        "outputId": "610d8ecf-c600-48bb-f7ff-0fe39ce0dbaf"
      },
      "source": [
        "lr_clf.predict_proba(vTrain)"
      ],
      "execution_count": 153,
      "outputs": [
        {
          "output_type": "execute_result",
          "data": {
            "text/plain": [
              "array([[0.99280442, 0.00719558],\n",
              "       [0.9956997 , 0.0043003 ],\n",
              "       [0.99461185, 0.00538815],\n",
              "       ...,\n",
              "       [0.96670189, 0.03329811],\n",
              "       [0.99870052, 0.00129948],\n",
              "       [0.7517752 , 0.2482248 ]])"
            ]
          },
          "metadata": {
            "tags": []
          },
          "execution_count": 153
        }
      ]
    },
    {
      "cell_type": "code",
      "metadata": {
        "colab": {
          "base_uri": "https://localhost:8080/"
        },
        "id": "3ouI9iSe2s-b",
        "outputId": "8469a1d7-c7bb-4f69-c908-274663a71ec7"
      },
      "source": [
        "#Try an insincere question. Insincere questions should get a higher probability score to legitimate questions.\n",
        "testQuestionInsincere = \"Why do Europeans say they're the superior race, when in fact it took them over 2,000 years until mid 19th century to surpass China's largest economy?\"\n",
        "vdev = vectorizer.transform([testQuestionInsincere.lower()])\n",
        "\n",
        "lr_clf.predict(vdev)\n",
        "\n",
        "lr_clf.predict_proba(vdev)"
      ],
      "execution_count": 176,
      "outputs": [
        {
          "output_type": "execute_result",
          "data": {
            "text/plain": [
              "array([[0.38301993, 0.61698007]])"
            ]
          },
          "metadata": {
            "tags": []
          },
          "execution_count": 176
        }
      ]
    },
    {
      "cell_type": "code",
      "metadata": {
        "colab": {
          "base_uri": "https://localhost:8080/"
        },
        "id": "DEFuokAWM9LH",
        "outputId": "18465bd2-6221-4b43-a85d-d6e71914e9d7"
      },
      "source": [
        "#Try a sincere question. Sincere questions should get a lower probability score ideally close to zero.\n",
        "testQuestionInsincere = \"How many ounces are there in a gallon?\"\n",
        "vdev = vectorizer.transform([testQuestionInsincere.lower()])\n",
        "\n",
        "lr_clf.predict(vdev)\n",
        "\n",
        "lr_clf.predict_proba(vdev)"
      ],
      "execution_count": 178,
      "outputs": [
        {
          "output_type": "execute_result",
          "data": {
            "text/plain": [
              "array([[0.98983737, 0.01016263]])"
            ]
          },
          "metadata": {
            "tags": []
          },
          "execution_count": 178
        }
      ]
    }
  ]
}