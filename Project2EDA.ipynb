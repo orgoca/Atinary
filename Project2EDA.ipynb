{
  "nbformat": 4,
  "nbformat_minor": 0,
  "metadata": {
    "colab": {
      "name": "Project2EDA.ipynb",
      "provenance": [],
      "collapsed_sections": [],
      "authorship_tag": "ABX9TyOyIcFDwylnNSUSCHhUW2bK",
      "include_colab_link": true
    },
    "kernelspec": {
      "name": "python3",
      "display_name": "Python 3"
    },
    "language_info": {
      "name": "python"
    }
  },
  "cells": [
    {
      "cell_type": "markdown",
      "metadata": {
        "id": "view-in-github",
        "colab_type": "text"
      },
      "source": [
        "<a href=\"https://colab.research.google.com/github/orgoca/W207FinalProject/blob/main/Project2EDA.ipynb\" target=\"_parent\"><img src=\"https://colab.research.google.com/assets/colab-badge.svg\" alt=\"Open In Colab\"/></a>"
      ]
    },
    {
      "cell_type": "markdown",
      "metadata": {
        "id": "iDo9bwz8QArK"
      },
      "source": [
        "## Project 2 Baseline\n",
        "Quora Project\n",
        "\n"
      ]
    },
    {
      "cell_type": "code",
      "metadata": {
        "id": "UWXoUx9hq-Mm"
      },
      "source": [
        "# # Code to read csv file from Google Drive into Colaboratory:\n",
        "# !pip install -U -q PyDrive\n",
        "# from pydrive.auth import GoogleAuth\n",
        "# from pydrive.drive import GoogleDrive\n",
        "# from google.colab import auth\n",
        "# from oauth2client.client import GoogleCredentials\n",
        "# # Authenticate and create the PyDrive client.\n",
        "# auth.authenticate_user()\n",
        "# gauth = GoogleAuth()\n",
        "# gauth.credentials = GoogleCredentials.get_application_default()\n",
        "# drive = GoogleDrive(gauth)"
      ],
      "execution_count": 1,
      "outputs": []
    },
    {
      "cell_type": "code",
      "metadata": {
        "id": "cGHI3gXlx3nG"
      },
      "source": [
        "#Import Libraries\n",
        "import os\n",
        "import pandas as pd\n",
        "from sklearn.feature_extraction.text import CountVectorizer\n",
        "from sklearn.linear_model import LogisticRegression\n",
        "import numpy as np\n",
        "from sklearn.model_selection import train_test_split\n",
        "from sklearn.metrics import precision_score, \\\n",
        "    recall_score, confusion_matrix, classification_report, \\\n",
        "    accuracy_score, f1_score\n",
        "import csv\n",
        "import random"
      ],
      "execution_count": 2,
      "outputs": []
    },
    {
      "cell_type": "code",
      "metadata": {
        "id": "EBs8bJ_SroPT"
      },
      "source": [
        "# #Load test DF\n",
        "# testLink = 'https://drive.google.com/file/d/1chKVOcXwNzGRe_hRxpGlq18NVaSRM8X9/view?usp=sharing'\n",
        "# idTest = testLink.split('/')[-2]\n",
        "# downloaded = drive.CreateFile({'id':idTest}) \n",
        "# downloaded.GetContentFile('test.csv')  "
      ],
      "execution_count": 3,
      "outputs": []
    },
    {
      "cell_type": "code",
      "metadata": {
        "id": "WxUoKDXzz6uZ"
      },
      "source": [
        "test = pd.read_csv('test.csv')"
      ],
      "execution_count": 4,
      "outputs": []
    },
    {
      "cell_type": "code",
      "metadata": {
        "id": "Cnl_313BvWqn"
      },
      "source": [
        "# #Load train DF\n",
        "# trainLink = 'https://drive.google.com/file/d/1fP-AWiUGLjLkL0c_u67HOUFmHOMO7qm2/view?usp=sharing'\n",
        "# idTrain = trainLink.split('/')[-2]\n",
        "# downloaded = drive.CreateFile({'id':idTrain}) \n",
        "# downloaded.GetContentFile('train.csv')  "
      ],
      "execution_count": 5,
      "outputs": []
    },
    {
      "cell_type": "code",
      "metadata": {
        "id": "V0fZaycE0FBQ"
      },
      "source": [
        "train = pd.read_csv('train.csv')"
      ],
      "execution_count": 6,
      "outputs": []
    },
    {
      "cell_type": "code",
      "metadata": {
        "id": "j6zcj0EP2we6"
      },
      "source": [
        "# #Split Training Data into MiniTrain and MiniTest (Test data has no labels so impossible to measure error from it)\n",
        "# random.seed(10)\n",
        "# miniTrain, miniTest = train_test_split(train, test_size=0.2)\n",
        "\n",
        "# miniTrain.to_csv('miniTrain.csv', index=False)\n",
        "\n",
        "# miniTest.to_csv('miniTest.csv', index=False)"
      ],
      "execution_count": 7,
      "outputs": []
    },
    {
      "cell_type": "code",
      "metadata": {
        "id": "DhK65MJrcaeF"
      },
      "source": [
        "#Even with a seed the randomization is messing up predictions since miniTest will not find the same questions further down, \n",
        "#so rather load a static version from a csv instead.\n",
        "\n",
        "miniTrain = pd.read_csv('miniTrain.csv')\n",
        "\n",
        "miniTest = pd.read_csv('miniTest.csv')"
      ],
      "execution_count": 8,
      "outputs": []
    },
    {
      "cell_type": "code",
      "metadata": {
        "id": "cW48qyHKAxsQ"
      },
      "source": [
        "#Create a vectorizer, create question and target lists, and vectorize train questions\n",
        "vectorizer = CountVectorizer()\n",
        "trainQuestions = miniTrain.question_text.tolist()\n",
        "trainLabels = miniTrain.target.tolist()\n",
        "vTrain = vectorizer.fit_transform(trainQuestions)"
      ],
      "execution_count": 9,
      "outputs": []
    },
    {
      "cell_type": "code",
      "metadata": {
        "colab": {
          "base_uri": "https://localhost:8080/"
        },
        "id": "gR1HEyRWB6ee",
        "outputId": "0dcd6fce-0741-49d9-bfc9-8906810d9156"
      },
      "source": [
        "#What is the vocabulary size, and create a bag of words\n",
        "print(\"vocab size: \", vTrain.shape)\n",
        "bagOfWords = vectorizer.vocabulary_\n",
        "len(bagOfWords)"
      ],
      "execution_count": 10,
      "outputs": [
        {
          "output_type": "stream",
          "text": [
            "vocab size:  (1044897, 173498)\n"
          ],
          "name": "stdout"
        },
        {
          "output_type": "execute_result",
          "data": {
            "text/plain": [
              "173498"
            ]
          },
          "metadata": {
            "tags": []
          },
          "execution_count": 10
        }
      ]
    },
    {
      "cell_type": "code",
      "metadata": {
        "colab": {
          "base_uri": "https://localhost:8080/"
        },
        "id": "YOeJUzNl1tMx",
        "outputId": "a243c374-d985-4312-afd4-d06291dd7c20"
      },
      "source": [
        "#Create a logistic regression model and fit to train data\n",
        "lr_clf = LogisticRegression(C=1)\n",
        "lr_clf.fit(vTrain, trainLabels)\n",
        "\n",
        "train_predict = lr_clf.predict(vTrain)\n",
        "train_predict"
      ],
      "execution_count": 11,
      "outputs": [
        {
          "output_type": "stream",
          "text": [
            "/usr/local/lib/python3.7/dist-packages/sklearn/linear_model/_logistic.py:940: ConvergenceWarning: lbfgs failed to converge (status=1):\n",
            "STOP: TOTAL NO. of ITERATIONS REACHED LIMIT.\n",
            "\n",
            "Increase the number of iterations (max_iter) or scale the data as shown in:\n",
            "    https://scikit-learn.org/stable/modules/preprocessing.html\n",
            "Please also refer to the documentation for alternative solver options:\n",
            "    https://scikit-learn.org/stable/modules/linear_model.html#logistic-regression\n",
            "  extra_warning_msg=_LOGISTIC_SOLVER_CONVERGENCE_MSG)\n"
          ],
          "name": "stderr"
        },
        {
          "output_type": "execute_result",
          "data": {
            "text/plain": [
              "array([0, 0, 0, ..., 0, 0, 0])"
            ]
          },
          "metadata": {
            "tags": []
          },
          "execution_count": 11
        }
      ]
    },
    {
      "cell_type": "code",
      "metadata": {
        "colab": {
          "base_uri": "https://localhost:8080/"
        },
        "id": "MQnfF4jZ5Y3E",
        "outputId": "80a5573d-2bf4-4564-d069-d64622a72bfa"
      },
      "source": [
        "lr_clf.predict_proba(vTrain)"
      ],
      "execution_count": 12,
      "outputs": [
        {
          "output_type": "execute_result",
          "data": {
            "text/plain": [
              "array([[0.99759451, 0.00240549],\n",
              "       [0.99804726, 0.00195274],\n",
              "       [0.99679985, 0.00320015],\n",
              "       ...,\n",
              "       [0.99833804, 0.00166196],\n",
              "       [0.99491892, 0.00508108],\n",
              "       [0.99879349, 0.00120651]])"
            ]
          },
          "metadata": {
            "tags": []
          },
          "execution_count": 12
        }
      ]
    },
    {
      "cell_type": "code",
      "metadata": {
        "colab": {
          "base_uri": "https://localhost:8080/"
        },
        "id": "3ouI9iSe2s-b",
        "outputId": "c4c21838-c14f-4195-ebdf-1ed9791e5144"
      },
      "source": [
        "#Give this a try with your own questions, it's good fun!\n",
        "#Try an insincere question. Insincere questions should get a higher probability score to legitimate questions.\n",
        "testQuestionInsincere1 = \"Why are Indians a superior race to Pakistanis?\"\n",
        "\n",
        "vdev = vectorizer.transform([testQuestionInsincere1.lower()])\n",
        "\n",
        "lr_clf.predict_proba(vdev)[0][1]"
      ],
      "execution_count": 13,
      "outputs": [
        {
          "output_type": "execute_result",
          "data": {
            "text/plain": [
              "0.9434353280690533"
            ]
          },
          "metadata": {
            "tags": []
          },
          "execution_count": 13
        }
      ]
    },
    {
      "cell_type": "code",
      "metadata": {
        "colab": {
          "base_uri": "https://localhost:8080/"
        },
        "id": "DEFuokAWM9LH",
        "outputId": "6c3df20d-cb69-4913-d257-a6863a192256"
      },
      "source": [
        "#Try a sincere question. Sincere questions should get a lower probability score ideally close to zero.\n",
        "testQuestionInsincere2 = \"What are the origins of the conflict between Indians and Pakistanis?\"\n",
        "vdev = vectorizer.transform([testQuestionInsincere2.lower()])\n",
        "\n",
        "lr_clf.predict_proba(vdev)[0][1]"
      ],
      "execution_count": 14,
      "outputs": [
        {
          "output_type": "execute_result",
          "data": {
            "text/plain": [
              "0.2063788732333306"
            ]
          },
          "metadata": {
            "tags": []
          },
          "execution_count": 14
        }
      ]
    },
    {
      "cell_type": "code",
      "metadata": {
        "id": "nJtoMgJXSr6D"
      },
      "source": [
        "# #DON'T run this section. It takes too long. I've produced a CSV from the output and you can run from there by loading such CSV in the next block\n",
        "# #Let's predict probability for each question in the miniTest dataframe\n",
        "# columnNames = ['question_text', 'pred']\n",
        "# predictDF = pd.DataFrame(columns = columnNames)\n",
        "\n",
        "# for question in miniTest.question_text: \n",
        "#   vdev = vectorizer.transform([question.lower()])\n",
        "#   pred = lr_clf.predict_proba(vdev)[0][1]\n",
        "#   predictDF = predictDF.append({'question_text':question,'pred': pred}, ignore_index=True)\n",
        "\n",
        "# predictDF.to_csv('predictDF.csv', index=False)"
      ],
      "execution_count": 15,
      "outputs": []
    },
    {
      "cell_type": "code",
      "metadata": {
        "colab": {
          "base_uri": "https://localhost:8080/",
          "height": 419
        },
        "id": "f0ChirakyZwN",
        "outputId": "e3327b3f-6755-4a36-b5a1-a8d497f409f4"
      },
      "source": [
        "predictDF = pd.read_csv('predictDF.csv')\n",
        "\n",
        "predictDF"
      ],
      "execution_count": 16,
      "outputs": [
        {
          "output_type": "execute_result",
          "data": {
            "text/html": [
              "<div>\n",
              "<style scoped>\n",
              "    .dataframe tbody tr th:only-of-type {\n",
              "        vertical-align: middle;\n",
              "    }\n",
              "\n",
              "    .dataframe tbody tr th {\n",
              "        vertical-align: top;\n",
              "    }\n",
              "\n",
              "    .dataframe thead th {\n",
              "        text-align: right;\n",
              "    }\n",
              "</style>\n",
              "<table border=\"1\" class=\"dataframe\">\n",
              "  <thead>\n",
              "    <tr style=\"text-align: right;\">\n",
              "      <th></th>\n",
              "      <th>question_text</th>\n",
              "      <th>pred</th>\n",
              "    </tr>\n",
              "  </thead>\n",
              "  <tbody>\n",
              "    <tr>\n",
              "      <th>0</th>\n",
              "      <td>Did Jimi Hendrix really even care about or hav...</td>\n",
              "      <td>0.019599</td>\n",
              "    </tr>\n",
              "    <tr>\n",
              "      <th>1</th>\n",
              "      <td>How many three-digit numbers are there such th...</td>\n",
              "      <td>0.003087</td>\n",
              "    </tr>\n",
              "    <tr>\n",
              "      <th>2</th>\n",
              "      <td>What kind of geographical conditions are requi...</td>\n",
              "      <td>0.001420</td>\n",
              "    </tr>\n",
              "    <tr>\n",
              "      <th>3</th>\n",
              "      <td>You find a book with your life summarized insi...</td>\n",
              "      <td>0.006146</td>\n",
              "    </tr>\n",
              "    <tr>\n",
              "      <th>4</th>\n",
              "      <td>What are the main reasons behind public hair f...</td>\n",
              "      <td>0.007620</td>\n",
              "    </tr>\n",
              "    <tr>\n",
              "      <th>...</th>\n",
              "      <td>...</td>\n",
              "      <td>...</td>\n",
              "    </tr>\n",
              "    <tr>\n",
              "      <th>261220</th>\n",
              "      <td>What are some cultural similarities between ol...</td>\n",
              "      <td>0.003478</td>\n",
              "    </tr>\n",
              "    <tr>\n",
              "      <th>261221</th>\n",
              "      <td>What happens to the products of respiration?</td>\n",
              "      <td>0.010044</td>\n",
              "    </tr>\n",
              "    <tr>\n",
              "      <th>261222</th>\n",
              "      <td>What is the accounting formula for closing stock?</td>\n",
              "      <td>0.000633</td>\n",
              "    </tr>\n",
              "    <tr>\n",
              "      <th>261223</th>\n",
              "      <td>Will saying somthing in anger to others comes ...</td>\n",
              "      <td>0.013100</td>\n",
              "    </tr>\n",
              "    <tr>\n",
              "      <th>261224</th>\n",
              "      <td>What is considered to be the best yarn for sca...</td>\n",
              "      <td>0.003918</td>\n",
              "    </tr>\n",
              "  </tbody>\n",
              "</table>\n",
              "<p>261225 rows × 2 columns</p>\n",
              "</div>"
            ],
            "text/plain": [
              "                                            question_text      pred\n",
              "0       Did Jimi Hendrix really even care about or hav...  0.019599\n",
              "1       How many three-digit numbers are there such th...  0.003087\n",
              "2       What kind of geographical conditions are requi...  0.001420\n",
              "3       You find a book with your life summarized insi...  0.006146\n",
              "4       What are the main reasons behind public hair f...  0.007620\n",
              "...                                                   ...       ...\n",
              "261220  What are some cultural similarities between ol...  0.003478\n",
              "261221       What happens to the products of respiration?  0.010044\n",
              "261222  What is the accounting formula for closing stock?  0.000633\n",
              "261223  Will saying somthing in anger to others comes ...  0.013100\n",
              "261224  What is considered to be the best yarn for sca...  0.003918\n",
              "\n",
              "[261225 rows x 2 columns]"
            ]
          },
          "metadata": {
            "tags": []
          },
          "execution_count": 16
        }
      ]
    },
    {
      "cell_type": "code",
      "metadata": {
        "colab": {
          "base_uri": "https://localhost:8080/",
          "height": 419
        },
        "id": "4_jrHwuAR00l",
        "outputId": "9b020a43-2653-4084-abc4-920487c2b4b9"
      },
      "source": [
        "miniTest"
      ],
      "execution_count": 17,
      "outputs": [
        {
          "output_type": "execute_result",
          "data": {
            "text/html": [
              "<div>\n",
              "<style scoped>\n",
              "    .dataframe tbody tr th:only-of-type {\n",
              "        vertical-align: middle;\n",
              "    }\n",
              "\n",
              "    .dataframe tbody tr th {\n",
              "        vertical-align: top;\n",
              "    }\n",
              "\n",
              "    .dataframe thead th {\n",
              "        text-align: right;\n",
              "    }\n",
              "</style>\n",
              "<table border=\"1\" class=\"dataframe\">\n",
              "  <thead>\n",
              "    <tr style=\"text-align: right;\">\n",
              "      <th></th>\n",
              "      <th>qid</th>\n",
              "      <th>question_text</th>\n",
              "      <th>target</th>\n",
              "    </tr>\n",
              "  </thead>\n",
              "  <tbody>\n",
              "    <tr>\n",
              "      <th>0</th>\n",
              "      <td>511b6fa03ab9f88e249e</td>\n",
              "      <td>Did Jimi Hendrix really even care about or hav...</td>\n",
              "      <td>0</td>\n",
              "    </tr>\n",
              "    <tr>\n",
              "      <th>1</th>\n",
              "      <td>1d9400d2d79939a44443</td>\n",
              "      <td>How many three-digit numbers are there such th...</td>\n",
              "      <td>0</td>\n",
              "    </tr>\n",
              "    <tr>\n",
              "      <th>2</th>\n",
              "      <td>a48dc7bd82feea5d52ca</td>\n",
              "      <td>What kind of geographical conditions are requi...</td>\n",
              "      <td>0</td>\n",
              "    </tr>\n",
              "    <tr>\n",
              "      <th>3</th>\n",
              "      <td>819549ba01220c43c69e</td>\n",
              "      <td>You find a book with your life summarized insi...</td>\n",
              "      <td>0</td>\n",
              "    </tr>\n",
              "    <tr>\n",
              "      <th>4</th>\n",
              "      <td>23e725d16a11719023a1</td>\n",
              "      <td>What are the main reasons behind public hair f...</td>\n",
              "      <td>0</td>\n",
              "    </tr>\n",
              "    <tr>\n",
              "      <th>...</th>\n",
              "      <td>...</td>\n",
              "      <td>...</td>\n",
              "      <td>...</td>\n",
              "    </tr>\n",
              "    <tr>\n",
              "      <th>261220</th>\n",
              "      <td>b1aa7b30fc81ecc62e10</td>\n",
              "      <td>What are some cultural similarities between ol...</td>\n",
              "      <td>0</td>\n",
              "    </tr>\n",
              "    <tr>\n",
              "      <th>261221</th>\n",
              "      <td>4805e711e00f0d2e2608</td>\n",
              "      <td>What happens to the products of respiration?</td>\n",
              "      <td>0</td>\n",
              "    </tr>\n",
              "    <tr>\n",
              "      <th>261222</th>\n",
              "      <td>3915ca1fdc21fd4a6fe0</td>\n",
              "      <td>What is the accounting formula for closing stock?</td>\n",
              "      <td>0</td>\n",
              "    </tr>\n",
              "    <tr>\n",
              "      <th>261223</th>\n",
              "      <td>0321a0723ee8bc9f35e0</td>\n",
              "      <td>Will saying somthing in anger to others comes ...</td>\n",
              "      <td>0</td>\n",
              "    </tr>\n",
              "    <tr>\n",
              "      <th>261224</th>\n",
              "      <td>1f8413f33e87cda9e284</td>\n",
              "      <td>What is considered to be the best yarn for sca...</td>\n",
              "      <td>0</td>\n",
              "    </tr>\n",
              "  </tbody>\n",
              "</table>\n",
              "<p>261225 rows × 3 columns</p>\n",
              "</div>"
            ],
            "text/plain": [
              "                         qid  ... target\n",
              "0       511b6fa03ab9f88e249e  ...      0\n",
              "1       1d9400d2d79939a44443  ...      0\n",
              "2       a48dc7bd82feea5d52ca  ...      0\n",
              "3       819549ba01220c43c69e  ...      0\n",
              "4       23e725d16a11719023a1  ...      0\n",
              "...                      ...  ...    ...\n",
              "261220  b1aa7b30fc81ecc62e10  ...      0\n",
              "261221  4805e711e00f0d2e2608  ...      0\n",
              "261222  3915ca1fdc21fd4a6fe0  ...      0\n",
              "261223  0321a0723ee8bc9f35e0  ...      0\n",
              "261224  1f8413f33e87cda9e284  ...      0\n",
              "\n",
              "[261225 rows x 3 columns]"
            ]
          },
          "metadata": {
            "tags": []
          },
          "execution_count": 17
        }
      ]
    },
    {
      "cell_type": "code",
      "metadata": {
        "id": "HYWxnHQOX0st"
      },
      "source": [
        "# #Let's see some nasty questions\n",
        "# nastyQuestions = predictDF[predictDF.pred > .9]\n",
        "\n",
        "# nastyQuestions.to_csv('nastyQuestions.csv', index=False)"
      ],
      "execution_count": 18,
      "outputs": []
    },
    {
      "cell_type": "code",
      "metadata": {
        "colab": {
          "base_uri": "https://localhost:8080/",
          "height": 419
        },
        "id": "Zr7Bywd1pn_O",
        "outputId": "6a49df16-47da-4070-ea69-43395c889008"
      },
      "source": [
        "#Merge predict DF to miniTestDF to produce prediction metrics\n",
        "\n",
        "summaryDF = pd.merge(predictDF,miniTest,on='question_text',how='left')\n",
        "\n",
        "# summaryDF.to_csv('summaryDF.csv', index=False)\n",
        "\n",
        "summaryDF"
      ],
      "execution_count": 19,
      "outputs": [
        {
          "output_type": "execute_result",
          "data": {
            "text/html": [
              "<div>\n",
              "<style scoped>\n",
              "    .dataframe tbody tr th:only-of-type {\n",
              "        vertical-align: middle;\n",
              "    }\n",
              "\n",
              "    .dataframe tbody tr th {\n",
              "        vertical-align: top;\n",
              "    }\n",
              "\n",
              "    .dataframe thead th {\n",
              "        text-align: right;\n",
              "    }\n",
              "</style>\n",
              "<table border=\"1\" class=\"dataframe\">\n",
              "  <thead>\n",
              "    <tr style=\"text-align: right;\">\n",
              "      <th></th>\n",
              "      <th>question_text</th>\n",
              "      <th>pred</th>\n",
              "      <th>qid</th>\n",
              "      <th>target</th>\n",
              "    </tr>\n",
              "  </thead>\n",
              "  <tbody>\n",
              "    <tr>\n",
              "      <th>0</th>\n",
              "      <td>Did Jimi Hendrix really even care about or hav...</td>\n",
              "      <td>0.019599</td>\n",
              "      <td>511b6fa03ab9f88e249e</td>\n",
              "      <td>0</td>\n",
              "    </tr>\n",
              "    <tr>\n",
              "      <th>1</th>\n",
              "      <td>How many three-digit numbers are there such th...</td>\n",
              "      <td>0.003087</td>\n",
              "      <td>1d9400d2d79939a44443</td>\n",
              "      <td>0</td>\n",
              "    </tr>\n",
              "    <tr>\n",
              "      <th>2</th>\n",
              "      <td>What kind of geographical conditions are requi...</td>\n",
              "      <td>0.001420</td>\n",
              "      <td>a48dc7bd82feea5d52ca</td>\n",
              "      <td>0</td>\n",
              "    </tr>\n",
              "    <tr>\n",
              "      <th>3</th>\n",
              "      <td>You find a book with your life summarized insi...</td>\n",
              "      <td>0.006146</td>\n",
              "      <td>819549ba01220c43c69e</td>\n",
              "      <td>0</td>\n",
              "    </tr>\n",
              "    <tr>\n",
              "      <th>4</th>\n",
              "      <td>What are the main reasons behind public hair f...</td>\n",
              "      <td>0.007620</td>\n",
              "      <td>23e725d16a11719023a1</td>\n",
              "      <td>0</td>\n",
              "    </tr>\n",
              "    <tr>\n",
              "      <th>...</th>\n",
              "      <td>...</td>\n",
              "      <td>...</td>\n",
              "      <td>...</td>\n",
              "      <td>...</td>\n",
              "    </tr>\n",
              "    <tr>\n",
              "      <th>261220</th>\n",
              "      <td>What are some cultural similarities between ol...</td>\n",
              "      <td>0.003478</td>\n",
              "      <td>b1aa7b30fc81ecc62e10</td>\n",
              "      <td>0</td>\n",
              "    </tr>\n",
              "    <tr>\n",
              "      <th>261221</th>\n",
              "      <td>What happens to the products of respiration?</td>\n",
              "      <td>0.010044</td>\n",
              "      <td>4805e711e00f0d2e2608</td>\n",
              "      <td>0</td>\n",
              "    </tr>\n",
              "    <tr>\n",
              "      <th>261222</th>\n",
              "      <td>What is the accounting formula for closing stock?</td>\n",
              "      <td>0.000633</td>\n",
              "      <td>3915ca1fdc21fd4a6fe0</td>\n",
              "      <td>0</td>\n",
              "    </tr>\n",
              "    <tr>\n",
              "      <th>261223</th>\n",
              "      <td>Will saying somthing in anger to others comes ...</td>\n",
              "      <td>0.013100</td>\n",
              "      <td>0321a0723ee8bc9f35e0</td>\n",
              "      <td>0</td>\n",
              "    </tr>\n",
              "    <tr>\n",
              "      <th>261224</th>\n",
              "      <td>What is considered to be the best yarn for sca...</td>\n",
              "      <td>0.003918</td>\n",
              "      <td>1f8413f33e87cda9e284</td>\n",
              "      <td>0</td>\n",
              "    </tr>\n",
              "  </tbody>\n",
              "</table>\n",
              "<p>261225 rows × 4 columns</p>\n",
              "</div>"
            ],
            "text/plain": [
              "                                            question_text  ...  target\n",
              "0       Did Jimi Hendrix really even care about or hav...  ...       0\n",
              "1       How many three-digit numbers are there such th...  ...       0\n",
              "2       What kind of geographical conditions are requi...  ...       0\n",
              "3       You find a book with your life summarized insi...  ...       0\n",
              "4       What are the main reasons behind public hair f...  ...       0\n",
              "...                                                   ...  ...     ...\n",
              "261220  What are some cultural similarities between ol...  ...       0\n",
              "261221       What happens to the products of respiration?  ...       0\n",
              "261222  What is the accounting formula for closing stock?  ...       0\n",
              "261223  Will saying somthing in anger to others comes ...  ...       0\n",
              "261224  What is considered to be the best yarn for sca...  ...       0\n",
              "\n",
              "[261225 rows x 4 columns]"
            ]
          },
          "metadata": {
            "tags": []
          },
          "execution_count": 19
        }
      ]
    },
    {
      "cell_type": "code",
      "metadata": {
        "colab": {
          "base_uri": "https://localhost:8080/",
          "height": 521
        },
        "id": "6STZcnAfqgiO",
        "outputId": "d6aed3e7-82cc-4864-c21f-beac20cc3cc4"
      },
      "source": [
        "confusionMatrixDF = summaryDF[['pred', 'target']]\n",
        "\n",
        "#Tried -by hand- values between 0.5:1.0 and 0.2 produced the best F1 score\n",
        "\n",
        "confusionMatrixDF['pred'] = np.where(confusionMatrixDF['pred'] > 0.2, 1, 0)\n",
        "\n",
        "confusionMatrixDF"
      ],
      "execution_count": 20,
      "outputs": [
        {
          "output_type": "stream",
          "text": [
            "/usr/local/lib/python3.7/dist-packages/ipykernel_launcher.py:5: SettingWithCopyWarning: \n",
            "A value is trying to be set on a copy of a slice from a DataFrame.\n",
            "Try using .loc[row_indexer,col_indexer] = value instead\n",
            "\n",
            "See the caveats in the documentation: https://pandas.pydata.org/pandas-docs/stable/user_guide/indexing.html#returning-a-view-versus-a-copy\n",
            "  \"\"\"\n"
          ],
          "name": "stderr"
        },
        {
          "output_type": "execute_result",
          "data": {
            "text/html": [
              "<div>\n",
              "<style scoped>\n",
              "    .dataframe tbody tr th:only-of-type {\n",
              "        vertical-align: middle;\n",
              "    }\n",
              "\n",
              "    .dataframe tbody tr th {\n",
              "        vertical-align: top;\n",
              "    }\n",
              "\n",
              "    .dataframe thead th {\n",
              "        text-align: right;\n",
              "    }\n",
              "</style>\n",
              "<table border=\"1\" class=\"dataframe\">\n",
              "  <thead>\n",
              "    <tr style=\"text-align: right;\">\n",
              "      <th></th>\n",
              "      <th>pred</th>\n",
              "      <th>target</th>\n",
              "    </tr>\n",
              "  </thead>\n",
              "  <tbody>\n",
              "    <tr>\n",
              "      <th>0</th>\n",
              "      <td>0</td>\n",
              "      <td>0</td>\n",
              "    </tr>\n",
              "    <tr>\n",
              "      <th>1</th>\n",
              "      <td>0</td>\n",
              "      <td>0</td>\n",
              "    </tr>\n",
              "    <tr>\n",
              "      <th>2</th>\n",
              "      <td>0</td>\n",
              "      <td>0</td>\n",
              "    </tr>\n",
              "    <tr>\n",
              "      <th>3</th>\n",
              "      <td>0</td>\n",
              "      <td>0</td>\n",
              "    </tr>\n",
              "    <tr>\n",
              "      <th>4</th>\n",
              "      <td>0</td>\n",
              "      <td>0</td>\n",
              "    </tr>\n",
              "    <tr>\n",
              "      <th>...</th>\n",
              "      <td>...</td>\n",
              "      <td>...</td>\n",
              "    </tr>\n",
              "    <tr>\n",
              "      <th>261220</th>\n",
              "      <td>0</td>\n",
              "      <td>0</td>\n",
              "    </tr>\n",
              "    <tr>\n",
              "      <th>261221</th>\n",
              "      <td>0</td>\n",
              "      <td>0</td>\n",
              "    </tr>\n",
              "    <tr>\n",
              "      <th>261222</th>\n",
              "      <td>0</td>\n",
              "      <td>0</td>\n",
              "    </tr>\n",
              "    <tr>\n",
              "      <th>261223</th>\n",
              "      <td>0</td>\n",
              "      <td>0</td>\n",
              "    </tr>\n",
              "    <tr>\n",
              "      <th>261224</th>\n",
              "      <td>0</td>\n",
              "      <td>0</td>\n",
              "    </tr>\n",
              "  </tbody>\n",
              "</table>\n",
              "<p>261225 rows × 2 columns</p>\n",
              "</div>"
            ],
            "text/plain": [
              "        pred  target\n",
              "0          0       0\n",
              "1          0       0\n",
              "2          0       0\n",
              "3          0       0\n",
              "4          0       0\n",
              "...      ...     ...\n",
              "261220     0       0\n",
              "261221     0       0\n",
              "261222     0       0\n",
              "261223     0       0\n",
              "261224     0       0\n",
              "\n",
              "[261225 rows x 2 columns]"
            ]
          },
          "metadata": {
            "tags": []
          },
          "execution_count": 20
        }
      ]
    },
    {
      "cell_type": "code",
      "metadata": {
        "colab": {
          "base_uri": "https://localhost:8080/"
        },
        "id": "6ESZngIW38pd",
        "outputId": "cfd2291c-afeb-44dc-b853-85a920a7cbe3"
      },
      "source": [
        "#Compute baseline F1 Score (and other metrics)\n",
        "confusionMatrixDF\n",
        "\n",
        "print('Accuracy:', accuracy_score(confusionMatrixDF.target, confusionMatrixDF.pred))\n",
        "print('F1 score:', f1_score(confusionMatrixDF.target, confusionMatrixDF.pred))\n",
        "print('Recall:', recall_score(confusionMatrixDF.target, confusionMatrixDF.pred))\n",
        "print('Precision:', precision_score(confusionMatrixDF.target, confusionMatrixDF.pred))\n",
        "print('\\n Clasification report:\\n', classification_report(confusionMatrixDF.target,confusionMatrixDF.pred))\n",
        "print('\\n Confussion matrix:\\n',confusion_matrix(confusionMatrixDF.target, confusionMatrixDF.pred))"
      ],
      "execution_count": 21,
      "outputs": [
        {
          "output_type": "stream",
          "text": [
            "Accuracy: 0.9469882285386161\n",
            "F1 score: 0.6202489990676247\n",
            "Recall: 0.6999876206981926\n",
            "Precision: 0.5568193008370261\n",
            "\n",
            " Clasification report:\n",
            "               precision    recall  f1-score   support\n",
            "\n",
            "           0       0.98      0.96      0.97    245069\n",
            "           1       0.56      0.70      0.62     16156\n",
            "\n",
            "    accuracy                           0.95    261225\n",
            "   macro avg       0.77      0.83      0.80    261225\n",
            "weighted avg       0.95      0.95      0.95    261225\n",
            "\n",
            "\n",
            " Confussion matrix:\n",
            " [[236068   9001]\n",
            " [  4847  11309]]\n"
          ],
          "name": "stdout"
        }
      ]
    },
    {
      "cell_type": "code",
      "metadata": {
        "id": "wHJM86PY4fFy"
      },
      "source": [
        ""
      ],
      "execution_count": 21,
      "outputs": []
    }
  ]
}